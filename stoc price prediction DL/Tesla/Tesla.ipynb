{
 "cells": [
  {
   "cell_type": "code",
   "execution_count": 3,
   "id": "e5ca1955",
   "metadata": {},
   "outputs": [],
   "source": [
    "import pandas as pd\n",
    "import numpy as np\n",
    "import matplotlib.pyplot as plt\n",
    "import seaborn as sns\n",
    "from plotly import express as px\n",
    "from sklearn.preprocessing import StandardScaler\n",
    "from sklearn.metrics import mean_squared_error\n",
    "from tensorflow.keras.models import Sequential, load_model\n",
    "from datetime import datetime\n",
    "from pandas_datareader import data as pdr\n",
    "import yfinance as yf\n",
    "from tensorflow.keras.layers import Dense, LSTM, Dropout, BatchNormalization\n",
    "import joblib\n",
    "from sklearn.preprocessing import MinMaxScaler\n",
    "from sklearn.preprocessing import MinMaxScaler\n",
    "from tensorflow.keras.layers import Dense, Dropout, LSTM\n",
    "from tensorflow.keras.callbacks import EarlyStopping, ReduceLROnPlateau, ModelCheckpoint\n",
    "\n",
    "\n",
    "plt.style.use('fivethirtyeight')\n",
    "%matplotlib inline\n",
    "\n",
    "yf.pdr_override()"
   ]
  },
  {
   "cell_type": "code",
   "execution_count": 4,
   "id": "39dee3d7",
   "metadata": {},
   "outputs": [
    {
     "name": "stdout",
     "output_type": "stream",
     "text": [
      "[*********************100%***********************]  1 of 1 completed\n"
     ]
    }
   ],
   "source": [
    "yf.pdr_override()\n",
    "\n",
    "############################################\n",
    "end = datetime.now()\n",
    "start = datetime(end.year - 11, end.month, end.day)\n",
    "\n",
    "#############################################################################\n",
    "tesla_df = yf.download(\"TSLA\", start, end)\n"
   ]
  },
  {
   "cell_type": "code",
   "execution_count": 5,
   "id": "3dcf4cb3",
   "metadata": {},
   "outputs": [
    {
     "data": {
      "text/html": [
       "<div>\n",
       "<style scoped>\n",
       "    .dataframe tbody tr th:only-of-type {\n",
       "        vertical-align: middle;\n",
       "    }\n",
       "\n",
       "    .dataframe tbody tr th {\n",
       "        vertical-align: top;\n",
       "    }\n",
       "\n",
       "    .dataframe thead th {\n",
       "        text-align: right;\n",
       "    }\n",
       "</style>\n",
       "<table border=\"1\" class=\"dataframe\">\n",
       "  <thead>\n",
       "    <tr style=\"text-align: right;\">\n",
       "      <th></th>\n",
       "      <th>Open</th>\n",
       "      <th>High</th>\n",
       "      <th>Low</th>\n",
       "      <th>Close</th>\n",
       "      <th>Adj Close</th>\n",
       "      <th>Volume</th>\n",
       "    </tr>\n",
       "    <tr>\n",
       "      <th>Date</th>\n",
       "      <th></th>\n",
       "      <th></th>\n",
       "      <th></th>\n",
       "      <th></th>\n",
       "      <th></th>\n",
       "      <th></th>\n",
       "    </tr>\n",
       "  </thead>\n",
       "  <tbody>\n",
       "    <tr>\n",
       "      <th>2012-05-18</th>\n",
       "      <td>1.891333</td>\n",
       "      <td>1.897333</td>\n",
       "      <td>1.788667</td>\n",
       "      <td>1.837333</td>\n",
       "      <td>1.837333</td>\n",
       "      <td>24247500</td>\n",
       "    </tr>\n",
       "    <tr>\n",
       "      <th>2012-05-21</th>\n",
       "      <td>1.838667</td>\n",
       "      <td>1.950667</td>\n",
       "      <td>1.808000</td>\n",
       "      <td>1.918000</td>\n",
       "      <td>1.918000</td>\n",
       "      <td>22128000</td>\n",
       "    </tr>\n",
       "    <tr>\n",
       "      <th>2012-05-22</th>\n",
       "      <td>2.006667</td>\n",
       "      <td>2.089333</td>\n",
       "      <td>2.000000</td>\n",
       "      <td>2.053333</td>\n",
       "      <td>2.053333</td>\n",
       "      <td>35493000</td>\n",
       "    </tr>\n",
       "    <tr>\n",
       "      <th>2012-05-23</th>\n",
       "      <td>2.037333</td>\n",
       "      <td>2.070000</td>\n",
       "      <td>1.966667</td>\n",
       "      <td>2.068000</td>\n",
       "      <td>2.068000</td>\n",
       "      <td>18306000</td>\n",
       "    </tr>\n",
       "    <tr>\n",
       "      <th>2012-05-24</th>\n",
       "      <td>2.083333</td>\n",
       "      <td>2.083333</td>\n",
       "      <td>1.979333</td>\n",
       "      <td>2.018667</td>\n",
       "      <td>2.018667</td>\n",
       "      <td>16134000</td>\n",
       "    </tr>\n",
       "    <tr>\n",
       "      <th>...</th>\n",
       "      <td>...</td>\n",
       "      <td>...</td>\n",
       "      <td>...</td>\n",
       "      <td>...</td>\n",
       "      <td>...</td>\n",
       "      <td>...</td>\n",
       "    </tr>\n",
       "    <tr>\n",
       "      <th>2023-05-12</th>\n",
       "      <td>176.070007</td>\n",
       "      <td>177.380005</td>\n",
       "      <td>167.229996</td>\n",
       "      <td>167.979996</td>\n",
       "      <td>167.979996</td>\n",
       "      <td>157577100</td>\n",
       "    </tr>\n",
       "    <tr>\n",
       "      <th>2023-05-15</th>\n",
       "      <td>167.660004</td>\n",
       "      <td>169.759995</td>\n",
       "      <td>164.550003</td>\n",
       "      <td>166.350006</td>\n",
       "      <td>166.350006</td>\n",
       "      <td>105592500</td>\n",
       "    </tr>\n",
       "    <tr>\n",
       "      <th>2023-05-16</th>\n",
       "      <td>165.649994</td>\n",
       "      <td>169.520004</td>\n",
       "      <td>164.350006</td>\n",
       "      <td>166.520004</td>\n",
       "      <td>166.520004</td>\n",
       "      <td>98288800</td>\n",
       "    </tr>\n",
       "    <tr>\n",
       "      <th>2023-05-17</th>\n",
       "      <td>168.410004</td>\n",
       "      <td>174.500000</td>\n",
       "      <td>167.190002</td>\n",
       "      <td>173.860001</td>\n",
       "      <td>173.860001</td>\n",
       "      <td>125269400</td>\n",
       "    </tr>\n",
       "    <tr>\n",
       "      <th>2023-05-18</th>\n",
       "      <td>174.220001</td>\n",
       "      <td>175.750000</td>\n",
       "      <td>172.449997</td>\n",
       "      <td>174.729996</td>\n",
       "      <td>174.729996</td>\n",
       "      <td>60851474</td>\n",
       "    </tr>\n",
       "  </tbody>\n",
       "</table>\n",
       "<p>2768 rows × 6 columns</p>\n",
       "</div>"
      ],
      "text/plain": [
       "                  Open        High         Low       Close   Adj Close  \\\n",
       "Date                                                                     \n",
       "2012-05-18    1.891333    1.897333    1.788667    1.837333    1.837333   \n",
       "2012-05-21    1.838667    1.950667    1.808000    1.918000    1.918000   \n",
       "2012-05-22    2.006667    2.089333    2.000000    2.053333    2.053333   \n",
       "2012-05-23    2.037333    2.070000    1.966667    2.068000    2.068000   \n",
       "2012-05-24    2.083333    2.083333    1.979333    2.018667    2.018667   \n",
       "...                ...         ...         ...         ...         ...   \n",
       "2023-05-12  176.070007  177.380005  167.229996  167.979996  167.979996   \n",
       "2023-05-15  167.660004  169.759995  164.550003  166.350006  166.350006   \n",
       "2023-05-16  165.649994  169.520004  164.350006  166.520004  166.520004   \n",
       "2023-05-17  168.410004  174.500000  167.190002  173.860001  173.860001   \n",
       "2023-05-18  174.220001  175.750000  172.449997  174.729996  174.729996   \n",
       "\n",
       "               Volume  \n",
       "Date                   \n",
       "2012-05-18   24247500  \n",
       "2012-05-21   22128000  \n",
       "2012-05-22   35493000  \n",
       "2012-05-23   18306000  \n",
       "2012-05-24   16134000  \n",
       "...               ...  \n",
       "2023-05-12  157577100  \n",
       "2023-05-15  105592500  \n",
       "2023-05-16   98288800  \n",
       "2023-05-17  125269400  \n",
       "2023-05-18   60851474  \n",
       "\n",
       "[2768 rows x 6 columns]"
      ]
     },
     "execution_count": 5,
     "metadata": {},
     "output_type": "execute_result"
    }
   ],
   "source": [
    "tesla_df"
   ]
  },
  {
   "cell_type": "code",
   "execution_count": 7,
   "id": "8b4ba239",
   "metadata": {},
   "outputs": [
    {
     "data": {
      "text/plain": [
       "2630"
      ]
     },
     "execution_count": 7,
     "metadata": {},
     "output_type": "execute_result"
    }
   ],
   "source": [
    "# Create a new dataframe with only the 'Close column \n",
    "data = tesla_df.filter(['Close'])\n",
    "# Convert the dataframe to a numpy array\n",
    "dataset = data.values\n",
    "# Get the number of rows to train the model on\n",
    "training_data_len = int(np.ceil( len(dataset) * .95 ))\n",
    "train_data = dataset[:training_data_len]\n",
    "\n",
    "test_data = dataset[training_data_len:]\n",
    "\n",
    "training_data_len\n"
   ]
  },
  {
   "cell_type": "code",
   "execution_count": 8,
   "id": "a5de490d",
   "metadata": {},
   "outputs": [
    {
     "data": {
      "text/plain": [
       "array([[2.38426755e-04],\n",
       "       [4.36028643e-04],\n",
       "       [7.67540439e-04],\n",
       "       ...,\n",
       "       [4.03645013e-01],\n",
       "       [4.21625065e-01],\n",
       "       [4.23756204e-01]])"
      ]
     },
     "execution_count": 8,
     "metadata": {},
     "output_type": "execute_result"
    }
   ],
   "source": [
    "scaler = MinMaxScaler(feature_range=(0,1))\n",
    "scaler.fit(dataset)\n",
    "joblib.dump(scaler, r\"E:\\kareem\\book 4.2\\Graduation Project\\Tesla\\tesla_scaler.h5\")\n",
    "\n",
    "scaled_data = scaler.transform(dataset)\n",
    "\n",
    "\n",
    "scaled_data"
   ]
  },
  {
   "cell_type": "code",
   "execution_count": 9,
   "id": "d779381d",
   "metadata": {},
   "outputs": [
    {
     "name": "stdout",
     "output_type": "stream",
     "text": [
      "[array([2.38426755e-04, 4.36028643e-04, 7.67540439e-04, 8.03468799e-04,\n",
      "       6.82622473e-04, 6.05866911e-04, 9.12885072e-04, 7.03850797e-04,\n",
      "       5.55243480e-04, 3.34779445e-04, 2.90686638e-04, 2.95585774e-04,\n",
      "       5.09516557e-04, 4.62158438e-04, 6.49959426e-04, 4.93185325e-04,\n",
      "       5.81370647e-04, 5.99335995e-04, 5.37277840e-04, 6.22198143e-04,\n",
      "       9.37381044e-04, 9.78205911e-04, 1.25419514e-03, 9.94537143e-04,\n",
      "       1.25582867e-03, 1.14477887e-03, 8.99818569e-04, 9.56977587e-04,\n",
      "       8.67158441e-04, 8.47561314e-04, 7.02219601e-04, 7.44678000e-04,\n",
      "       8.37763042e-04, 7.98569371e-04, 8.80222025e-04, 8.44296002e-04,\n",
      "       8.83489673e-04, 1.07782391e-03, 1.33094837e-03, 1.61020233e-03,\n",
      "       1.18397195e-03, 9.88004183e-04, 1.00760131e-03, 9.29213968e-04,\n",
      "       7.44678000e-04, 6.10766047e-04, 4.65423750e-04, 3.31511505e-04,\n",
      "       5.56874676e-04, 2.04132512e-04, 2.15564607e-04, 2.44959715e-05,\n",
      "       0.00000000e+00, 1.91068636e-04, 3.54376280e-04, 6.77723045e-04,\n",
      "       4.88285897e-04, 5.40545780e-04, 6.27097570e-04, 8.27964770e-04])]\n",
      "[0.0005421772682784693]\n",
      "\n",
      "[array([2.38426755e-04, 4.36028643e-04, 7.67540439e-04, 8.03468799e-04,\n",
      "       6.82622473e-04, 6.05866911e-04, 9.12885072e-04, 7.03850797e-04,\n",
      "       5.55243480e-04, 3.34779445e-04, 2.90686638e-04, 2.95585774e-04,\n",
      "       5.09516557e-04, 4.62158438e-04, 6.49959426e-04, 4.93185325e-04,\n",
      "       5.81370647e-04, 5.99335995e-04, 5.37277840e-04, 6.22198143e-04,\n",
      "       9.37381044e-04, 9.78205911e-04, 1.25419514e-03, 9.94537143e-04,\n",
      "       1.25582867e-03, 1.14477887e-03, 8.99818569e-04, 9.56977587e-04,\n",
      "       8.67158441e-04, 8.47561314e-04, 7.02219601e-04, 7.44678000e-04,\n",
      "       8.37763042e-04, 7.98569371e-04, 8.80222025e-04, 8.44296002e-04,\n",
      "       8.83489673e-04, 1.07782391e-03, 1.33094837e-03, 1.61020233e-03,\n",
      "       1.18397195e-03, 9.88004183e-04, 1.00760131e-03, 9.29213968e-04,\n",
      "       7.44678000e-04, 6.10766047e-04, 4.65423750e-04, 3.31511505e-04,\n",
      "       5.56874676e-04, 2.04132512e-04, 2.15564607e-04, 2.44959715e-05,\n",
      "       0.00000000e+00, 1.91068636e-04, 3.54376280e-04, 6.77723045e-04,\n",
      "       4.88285897e-04, 5.40545780e-04, 6.27097570e-04, 8.27964770e-04]), array([4.36028643e-04, 7.67540439e-04, 8.03468799e-04, 6.82622473e-04,\n",
      "       6.05866911e-04, 9.12885072e-04, 7.03850797e-04, 5.55243480e-04,\n",
      "       3.34779445e-04, 2.90686638e-04, 2.95585774e-04, 5.09516557e-04,\n",
      "       4.62158438e-04, 6.49959426e-04, 4.93185325e-04, 5.81370647e-04,\n",
      "       5.99335995e-04, 5.37277840e-04, 6.22198143e-04, 9.37381044e-04,\n",
      "       9.78205911e-04, 1.25419514e-03, 9.94537143e-04, 1.25582867e-03,\n",
      "       1.14477887e-03, 8.99818569e-04, 9.56977587e-04, 8.67158441e-04,\n",
      "       8.47561314e-04, 7.02219601e-04, 7.44678000e-04, 8.37763042e-04,\n",
      "       7.98569371e-04, 8.80222025e-04, 8.44296002e-04, 8.83489673e-04,\n",
      "       1.07782391e-03, 1.33094837e-03, 1.61020233e-03, 1.18397195e-03,\n",
      "       9.88004183e-04, 1.00760131e-03, 9.29213968e-04, 7.44678000e-04,\n",
      "       6.10766047e-04, 4.65423750e-04, 3.31511505e-04, 5.56874676e-04,\n",
      "       2.04132512e-04, 2.15564607e-04, 2.44959715e-05, 0.00000000e+00,\n",
      "       1.91068636e-04, 3.54376280e-04, 6.77723045e-04, 4.88285897e-04,\n",
      "       5.40545780e-04, 6.27097570e-04, 8.27964770e-04, 5.42177268e-04])]\n",
      "[0.0005421772682784693, 0.0005389119563910484]\n",
      "\n"
     ]
    },
    {
     "data": {
      "text/plain": [
       "(2570, 60, 1)"
      ]
     },
     "execution_count": 9,
     "metadata": {},
     "output_type": "execute_result"
    }
   ],
   "source": [
    "# Create the training data set \n",
    "# Create the scaled training data set\n",
    "train_data = scaled_data[0:int(training_data_len), :]\n",
    "# Split the data into x_train and y_train data sets\n",
    "x_train = []\n",
    "y_train = []\n",
    "\n",
    "for i in range(60, len(train_data)):\n",
    "    x_train.append(train_data[i-60:i, 0])\n",
    "    y_train.append(train_data[i, 0])\n",
    "    if i<= 61:\n",
    "        print(x_train)\n",
    "        print(y_train)\n",
    "        print()\n",
    "        \n",
    "# Convert the x_train and y_train to numpy arrays \n",
    "x_train, y_train = np.array(x_train), np.array(y_train)\n",
    "\n",
    "# Reshape the data\n",
    "x_train = np.reshape(x_train, (x_train.shape[0], x_train.shape[1], 1))\n",
    "x_train.shape"
   ]
  },
  {
   "cell_type": "code",
   "execution_count": 10,
   "id": "5023b17b",
   "metadata": {},
   "outputs": [],
   "source": [
    "model = Sequential()\n",
    "model.add(LSTM(256, return_sequences=True, input_shape= (x_train.shape[1], 1)))\n",
    "model.add(Dropout(0.2))\n",
    "\n",
    "model.add(LSTM(128, return_sequences=True, input_shape= (x_train.shape[1], 1)))\n",
    "BatchNormalization()\n",
    "\n",
    "model.add(LSTM(64, return_sequences=False))\n",
    "model.add(Dense(64))\n",
    "model.add(Dense(1))"
   ]
  },
  {
   "cell_type": "code",
   "execution_count": 11,
   "id": "af9ff30a",
   "metadata": {},
   "outputs": [],
   "source": [
    "ckpt = ModelCheckpoint(r\"E:\\kareem\\book 4.2\\Graduation Project\\Tesla\\tesla_model.h5\", \n",
    "                       monitor='val_loss', verbose=1, save_best_only=True,mode='min')\n",
    "\n",
    "reduce_lr = ReduceLROnPlateau(monitor='val_loss', factor=0.02,\n",
    "                              patience=2, min_lr=1e-6, verbose=1)\n",
    "\n",
    "es = EarlyStopping(monitor='val_loss', patience=3, verbose=1)"
   ]
  },
  {
   "cell_type": "code",
   "execution_count": 12,
   "id": "462c4d00",
   "metadata": {},
   "outputs": [],
   "source": [
    "# Create the testing data set\n",
    "# Create a new array containing scaled values from index 1543 to 2002 \n",
    "test_data = scaled_data[training_data_len - 60: , :]\n",
    "# Create the data sets x_test and y_test\n",
    "x_test = []\n",
    "y_test = dataset[training_data_len:, :]\n",
    "for i in range(60, len(test_data)):\n",
    "    x_test.append(test_data[i-60:i, 0])\n",
    "    \n",
    "# Convert the data to a numpy array\n",
    "x_test = np.array(x_test)\n",
    "\n",
    "# Reshape the data\n",
    "x_test = np.reshape(x_test, (x_test.shape[0], x_test.shape[1], 1 ))"
   ]
  },
  {
   "cell_type": "code",
   "execution_count": 13,
   "id": "640547c4",
   "metadata": {},
   "outputs": [
    {
     "name": "stdout",
     "output_type": "stream",
     "text": [
      "Epoch 1/100\n",
      "65/65 [==============================] - ETA: 0s - loss: 3.1754e-04\n",
      "Epoch 1: val_loss improved from inf to 0.00402, saving model to E:\\kareem\\book 4.2\\Graduation Project\\Tesla\\tesla_model.h5\n",
      "65/65 [==============================] - 26s 307ms/step - loss: 3.1754e-04 - val_loss: 0.0040 - lr: 0.0010\n",
      "Epoch 2/100\n",
      "65/65 [==============================] - ETA: 0s - loss: 1.5312e-04\n",
      "Epoch 2: val_loss did not improve from 0.00402\n",
      "65/65 [==============================] - 18s 271ms/step - loss: 1.5312e-04 - val_loss: 0.0090 - lr: 0.0010\n",
      "Epoch 3/100\n",
      "65/65 [==============================] - ETA: 0s - loss: 1.2416e-04\n",
      "Epoch 3: val_loss did not improve from 0.00402\n",
      "\n",
      "Epoch 3: ReduceLROnPlateau reducing learning rate to 2.0000000949949027e-05.\n",
      "65/65 [==============================] - 19s 291ms/step - loss: 1.2416e-04 - val_loss: 0.0165 - lr: 0.0010\n",
      "Epoch 4/100\n",
      "65/65 [==============================] - ETA: 0s - loss: 1.0928e-04\n",
      "Epoch 4: val_loss improved from 0.00402 to 0.00307, saving model to E:\\kareem\\book 4.2\\Graduation Project\\Tesla\\tesla_model.h5\n",
      "65/65 [==============================] - 19s 296ms/step - loss: 1.0928e-04 - val_loss: 0.0031 - lr: 2.0000e-05\n",
      "Epoch 5/100\n",
      "65/65 [==============================] - ETA: 0s - loss: 6.4917e-05\n",
      "Epoch 5: val_loss did not improve from 0.00307\n",
      "65/65 [==============================] - 19s 285ms/step - loss: 6.4917e-05 - val_loss: 0.0032 - lr: 2.0000e-05\n",
      "Epoch 6/100\n",
      "65/65 [==============================] - ETA: 0s - loss: 6.6238e-05\n",
      "Epoch 6: val_loss did not improve from 0.00307\n",
      "\n",
      "Epoch 6: ReduceLROnPlateau reducing learning rate to 1e-06.\n",
      "65/65 [==============================] - 18s 283ms/step - loss: 6.6238e-05 - val_loss: 0.0032 - lr: 2.0000e-05\n",
      "Epoch 7/100\n",
      "65/65 [==============================] - ETA: 0s - loss: 6.4200e-05\n",
      "Epoch 7: val_loss did not improve from 0.00307\n",
      "65/65 [==============================] - 18s 285ms/step - loss: 6.4200e-05 - val_loss: 0.0032 - lr: 1.0000e-06\n",
      "Epoch 7: early stopping\n"
     ]
    }
   ],
   "source": [
    "# Compile the model\n",
    "model.compile(optimizer='adam', loss='mean_squared_error')\n",
    "\n",
    "# Train the model\n",
    "history = model.fit(x_train, y_train, epochs=100, verbose=1, \n",
    "                    batch_size=32, validation_split=0.2, \n",
    "                    callbacks=[ckpt, reduce_lr, es])"
   ]
  },
  {
   "cell_type": "code",
   "execution_count": 15,
   "id": "5fee150a",
   "metadata": {},
   "outputs": [
    {
     "data": {
      "text/html": [
       "<div>\n",
       "<style scoped>\n",
       "    .dataframe tbody tr th:only-of-type {\n",
       "        vertical-align: middle;\n",
       "    }\n",
       "\n",
       "    .dataframe tbody tr th {\n",
       "        vertical-align: top;\n",
       "    }\n",
       "\n",
       "    .dataframe thead th {\n",
       "        text-align: right;\n",
       "    }\n",
       "</style>\n",
       "<table border=\"1\" class=\"dataframe\">\n",
       "  <thead>\n",
       "    <tr style=\"text-align: right;\">\n",
       "      <th></th>\n",
       "      <th>loss</th>\n",
       "      <th>val_loss</th>\n",
       "      <th>lr</th>\n",
       "    </tr>\n",
       "  </thead>\n",
       "  <tbody>\n",
       "    <tr>\n",
       "      <th>0</th>\n",
       "      <td>0.000318</td>\n",
       "      <td>0.004018</td>\n",
       "      <td>0.001000</td>\n",
       "    </tr>\n",
       "    <tr>\n",
       "      <th>1</th>\n",
       "      <td>0.000153</td>\n",
       "      <td>0.009004</td>\n",
       "      <td>0.001000</td>\n",
       "    </tr>\n",
       "    <tr>\n",
       "      <th>2</th>\n",
       "      <td>0.000124</td>\n",
       "      <td>0.016483</td>\n",
       "      <td>0.001000</td>\n",
       "    </tr>\n",
       "    <tr>\n",
       "      <th>3</th>\n",
       "      <td>0.000109</td>\n",
       "      <td>0.003074</td>\n",
       "      <td>0.000020</td>\n",
       "    </tr>\n",
       "    <tr>\n",
       "      <th>4</th>\n",
       "      <td>0.000065</td>\n",
       "      <td>0.003170</td>\n",
       "      <td>0.000020</td>\n",
       "    </tr>\n",
       "    <tr>\n",
       "      <th>5</th>\n",
       "      <td>0.000066</td>\n",
       "      <td>0.003183</td>\n",
       "      <td>0.000020</td>\n",
       "    </tr>\n",
       "    <tr>\n",
       "      <th>6</th>\n",
       "      <td>0.000064</td>\n",
       "      <td>0.003170</td>\n",
       "      <td>0.000001</td>\n",
       "    </tr>\n",
       "  </tbody>\n",
       "</table>\n",
       "</div>"
      ],
      "text/plain": [
       "       loss  val_loss        lr\n",
       "0  0.000318  0.004018  0.001000\n",
       "1  0.000153  0.009004  0.001000\n",
       "2  0.000124  0.016483  0.001000\n",
       "3  0.000109  0.003074  0.000020\n",
       "4  0.000065  0.003170  0.000020\n",
       "5  0.000066  0.003183  0.000020\n",
       "6  0.000064  0.003170  0.000001"
      ]
     },
     "execution_count": 15,
     "metadata": {},
     "output_type": "execute_result"
    }
   ],
   "source": [
    "history_df = pd.DataFrame(history.history)\n",
    "history_df"
   ]
  },
  {
   "cell_type": "code",
   "execution_count": 16,
   "id": "b09663a5",
   "metadata": {},
   "outputs": [
    {
     "data": {
      "text/html": [
       "<div>\n",
       "<style scoped>\n",
       "    .dataframe tbody tr th:only-of-type {\n",
       "        vertical-align: middle;\n",
       "    }\n",
       "\n",
       "    .dataframe tbody tr th {\n",
       "        vertical-align: top;\n",
       "    }\n",
       "\n",
       "    .dataframe thead th {\n",
       "        text-align: right;\n",
       "    }\n",
       "</style>\n",
       "<table border=\"1\" class=\"dataframe\">\n",
       "  <thead>\n",
       "    <tr style=\"text-align: right;\">\n",
       "      <th></th>\n",
       "      <th>val_loss</th>\n",
       "    </tr>\n",
       "  </thead>\n",
       "  <tbody>\n",
       "    <tr>\n",
       "      <th>0</th>\n",
       "      <td>0.004018</td>\n",
       "    </tr>\n",
       "    <tr>\n",
       "      <th>1</th>\n",
       "      <td>0.009004</td>\n",
       "    </tr>\n",
       "    <tr>\n",
       "      <th>2</th>\n",
       "      <td>0.016483</td>\n",
       "    </tr>\n",
       "    <tr>\n",
       "      <th>3</th>\n",
       "      <td>0.003074</td>\n",
       "    </tr>\n",
       "    <tr>\n",
       "      <th>4</th>\n",
       "      <td>0.003170</td>\n",
       "    </tr>\n",
       "    <tr>\n",
       "      <th>5</th>\n",
       "      <td>0.003183</td>\n",
       "    </tr>\n",
       "    <tr>\n",
       "      <th>6</th>\n",
       "      <td>0.003170</td>\n",
       "    </tr>\n",
       "  </tbody>\n",
       "</table>\n",
       "</div>"
      ],
      "text/plain": [
       "   val_loss\n",
       "0  0.004018\n",
       "1  0.009004\n",
       "2  0.016483\n",
       "3  0.003074\n",
       "4  0.003170\n",
       "5  0.003183\n",
       "6  0.003170"
      ]
     },
     "execution_count": 16,
     "metadata": {},
     "output_type": "execute_result"
    }
   ],
   "source": [
    "history_df.loc[:, ['val_loss']]"
   ]
  },
  {
   "cell_type": "code",
   "execution_count": 17,
   "id": "f3a464c0",
   "metadata": {},
   "outputs": [
    {
     "data": {
      "image/png": "[encoded data removed]",
      "text/plain": [
       "<Figure size 640x480 with 1 Axes>"
      ]
     },
     "metadata": {},
     "output_type": "display_data"
    }
   ],
   "source": [
    "history_df = pd.DataFrame(history.history)\n",
    "\n",
    "plt.plot(history_df.loc[:, ['loss']], \"#6daa9f\", label='Training loss')\n",
    "plt.plot(history_df.loc[:, ['val_loss']], \"#000\", label='Tessing loss')\n",
    "plt.title('Training and Validation loss')\n",
    "plt.xlabel('Epochs')\n",
    "plt.ylabel('Loss')\n",
    "plt.legend(loc=\"best\")\n",
    "\n",
    "plt.show()"
   ]
  },
  {
   "cell_type": "code",
   "execution_count": 18,
   "id": "98260576",
   "metadata": {},
   "outputs": [
    {
     "name": "stdout",
     "output_type": "stream",
     "text": [
      "5/5 [==============================] - 2s 88ms/step\n"
     ]
    },
    {
     "data": {
      "text/plain": [
       "19.200246195015545"
      ]
     },
     "execution_count": 18,
     "metadata": {},
     "output_type": "execute_result"
    }
   ],
   "source": [
    "# Create the testing data set\n",
    "# Create a new array containing scaled values from index 1543 to 2002 \n",
    "\n",
    "test_data = scaled_data[training_data_len - 60: , :]\n",
    "\n",
    "# Create the data sets x_test and y_test\n",
    "x_test = []\n",
    "y_test = dataset[training_data_len:, :]\n",
    "\n",
    "for i in range(60, len(test_data)):\n",
    "    x_test.append(test_data[i-60:i, 0])\n",
    "    \n",
    "# Convert the data to a numpy array\n",
    "x_test = np.array(x_test)\n",
    "\n",
    "# Reshape the data\n",
    "x_test = np.reshape(x_test, (x_test.shape[0], x_test.shape[1], 1 ))\n",
    "\n",
    "# Get the models predicted price values \n",
    "predictions = model.predict(x_test)\n",
    "predictions = scaler.inverse_transform(predictions)\n",
    "\n",
    "# Get the root mean squared error (RMSE)\n",
    "rmse = np.sqrt(np.mean(((predictions - y_test) ** 2)))\n",
    "rmse"
   ]
  },
  {
   "cell_type": "code",
   "execution_count": 19,
   "id": "33cb5994",
   "metadata": {
    "scrolled": false
   },
   "outputs": [
    {
     "name": "stderr",
     "output_type": "stream",
     "text": [
      "C:\\Users\\HP\\AppData\\Local\\Temp\\ipykernel_9732\\2388977846.py:4: SettingWithCopyWarning: \n",
      "A value is trying to be set on a copy of a slice from a DataFrame.\n",
      "Try using .loc[row_indexer,col_indexer] = value instead\n",
      "\n",
      "See the caveats in the documentation: https://pandas.pydata.org/pandas-docs/stable/user_guide/indexing.html#returning-a-view-versus-a-copy\n",
      "  valid['Predictions'] = predictions\n"
     ]
    },
    {
     "data": {
      "image/png": "[encoded data removed]",
      "text/plain": [
       "<Figure size 1600x600 with 1 Axes>"
      ]
     },
     "metadata": {},
     "output_type": "display_data"
    }
   ],
   "source": [
    "# Plot the data\n",
    "train = data[:training_data_len]\n",
    "valid = data[training_data_len:]\n",
    "valid['Predictions'] = predictions\n",
    "# Visualize the data\n",
    "plt.figure(figsize=(16,6))\n",
    "plt.title('Model')\n",
    "plt.xlabel('Date', fontsize=18)\n",
    "plt.ylabel('Close Price USD ($)', fontsize=18)\n",
    "plt.plot(train['Close'])\n",
    "plt.plot(valid[['Close', 'Predictions']])\n",
    "plt.legend(['Train', 'Val', 'Predictions'], loc='lower right')\n",
    "plt.show()"
   ]
  },
  {
   "cell_type": "code",
   "execution_count": 20,
   "id": "ba4ff1e7",
   "metadata": {},
   "outputs": [
    {
     "data": {
      "text/plain": [
       "['E:\\\\kareem\\\\book 4.2\\\\Graduation Project\\\\Tesla\\\\tesla_validdata.h5']"
      ]
     },
     "execution_count": 20,
     "metadata": {},
     "output_type": "execute_result"
    }
   ],
   "source": [
    "joblib.dump(train, r\"E:\\kareem\\book 4.2\\Graduation Project\\Tesla\\tesla_traindata.h5\")\n",
    "joblib.dump(valid, r\"E:\\kareem\\book 4.2\\Graduation Project\\Tesla\\tesla_validdata.h5\")"
   ]
  },
  {
   "cell_type": "code",
   "execution_count": 21,
   "id": "377fc37c",
   "metadata": {},
   "outputs": [],
   "source": [
    "model.save(r\"E:\\kareem\\book 4.2\\Graduation Project\\Tesla\\tesla_model.h5\")"
   ]
  },
  {
   "cell_type": "code",
   "execution_count": 22,
   "id": "cfc60a2e",
   "metadata": {},
   "outputs": [],
   "source": [
    "model = load_model(r\"E:\\kareem\\book 4.2\\Graduation Project\\Tesla\\tesla_model.h5\")"
   ]
  },
  {
   "cell_type": "code",
   "execution_count": 23,
   "id": "60541329",
   "metadata": {},
   "outputs": [],
   "source": [
    "def predict(n):\n",
    "    \n",
    "    if (n <= 7) & (n >= 1):\n",
    "    \n",
    "        num = 1\n",
    "        last = []\n",
    "\n",
    "        last_60_value = tesla_df[\"Close\"].iloc[-60:]\n",
    "\n",
    "        for i in last_60_value:\n",
    "            last.append(i)\n",
    "\n",
    "\n",
    "        for i in range(n):\n",
    "            np_list = np.reshape(last[-60:], (-1, 1))\n",
    "            last_csl = scaler.transform(np_list)\n",
    "            last_csl = np.reshape(last_csl, (1, 60, 1))\n",
    "\n",
    "            pred = model.predict(last_csl)\n",
    "            prediction = float(scaler.inverse_transform(pred)[0][0])\n",
    "\n",
    "            last.append(prediction)\n",
    "            print(f\"The prediction number {num} is : {prediction}\")\n",
    "            num = num + 1\n",
    "\n",
    "        return last[60:]\n",
    "    \n",
    "    return \"Sorry you must inter mostly seven days or 'week' or less\""
   ]
  },
  {
   "cell_type": "code",
   "execution_count": 24,
   "id": "82dc5476",
   "metadata": {
    "scrolled": true
   },
   "outputs": [
    {
     "name": "stdout",
     "output_type": "stream",
     "text": [
      "1/1 [==============================] - 1s 1s/step\n",
      "The prediction number 1 is : 172.97853088378906\n",
      "1/1 [==============================] - 0s 35ms/step\n",
      "The prediction number 2 is : 173.61155700683594\n",
      "1/1 [==============================] - 0s 33ms/step\n",
      "The prediction number 3 is : 174.27218627929688\n",
      "1/1 [==============================] - 0s 35ms/step\n",
      "The prediction number 4 is : 174.94163513183594\n",
      "1/1 [==============================] - 0s 41ms/step\n",
      "The prediction number 5 is : 175.60928344726562\n",
      "1/1 [==============================] - 0s 36ms/step\n",
      "The prediction number 6 is : 176.2700653076172\n",
      "1/1 [==============================] - 0s 34ms/step\n",
      "The prediction number 7 is : 176.92239379882812\n"
     ]
    },
    {
     "data": {
      "text/plain": [
       "[172.97853088378906,\n",
       " 173.61155700683594,\n",
       " 174.27218627929688,\n",
       " 174.94163513183594,\n",
       " 175.60928344726562,\n",
       " 176.2700653076172,\n",
       " 176.92239379882812]"
      ]
     },
     "execution_count": 24,
     "metadata": {},
     "output_type": "execute_result"
    }
   ],
   "source": [
    "predict(7)"
   ]
  },
  {
   "cell_type": "code",
   "execution_count": null,
   "id": "8445f22c",
   "metadata": {},
   "outputs": [],
   "source": []
  }
 ],
 "metadata": {
  "kernelspec": {
   "display_name": "Python 3 (ipykernel)",
   "language": "python",
   "name": "python3"
  },
  "language_info": {
   "codemirror_mode": {
    "name": "ipython",
    "version": 3
   },
   "file_extension": ".py",
   "mimetype": "text/x-python",
   "name": "python",
   "nbconvert_exporter": "python",
   "pygments_lexer": "ipython3",
   "version": "3.10.9"
  }
 },
 "nbformat": 4,
 "nbformat_minor": 5
}
