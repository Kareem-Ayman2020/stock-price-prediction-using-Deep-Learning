{
 "cells": [
  {
   "cell_type": "code",
   "execution_count": 1,
   "id": "e5ca1955",
   "metadata": {},
   "outputs": [],
   "source": [
    "import pandas as pd\n",
    "import numpy as np\n",
    "import matplotlib.pyplot as plt\n",
    "import seaborn as sns\n",
    "from plotly import express as px\n",
    "from sklearn.preprocessing import StandardScaler\n",
    "from sklearn.metrics import mean_squared_error\n",
    "from tensorflow.keras.models import Sequential, load_model\n",
    "from datetime import datetime\n",
    "from pandas_datareader import data as pdr\n",
    "import yfinance as yf\n",
    "from tensorflow.keras.layers import Dense, LSTM, Dropout, BatchNormalization\n",
    "import joblib\n",
    "from sklearn.preprocessing import MinMaxScaler\n",
    "from sklearn.preprocessing import MinMaxScaler\n",
    "from tensorflow.keras.layers import Dense, Dropout, LSTM\n",
    "from tensorflow.keras.callbacks import EarlyStopping, ReduceLROnPlateau, ModelCheckpoint\n",
    "\n",
    "\n",
    "plt.style.use('fivethirtyeight')\n",
    "%matplotlib inline\n",
    "\n",
    "yf.pdr_override()"
   ]
  },
  {
   "cell_type": "code",
   "execution_count": 2,
   "id": "39dee3d7",
   "metadata": {},
   "outputs": [
    {
     "name": "stdout",
     "output_type": "stream",
     "text": [
      "[*********************100%***********************]  1 of 1 completed\n"
     ]
    }
   ],
   "source": [
    "yf.pdr_override()\n",
    "\n",
    "############################################\n",
    "end = datetime.now()\n",
    "start = datetime(end.year - 11, end.month, end.day)\n",
    "\n",
    "#############################################################################\n",
    "#Microsoft_df = yf.download(\"Microsoft\", start, end)\n",
    "Microsoft_df = yf.download(\"MSFT\", start, end)  # 'MSFT' is the ticker symbol for Microsoft\n",
    "\n"
   ]
  },
  {
   "cell_type": "code",
   "execution_count": 3,
   "id": "3dcf4cb3",
   "metadata": {},
   "outputs": [
    {
     "data": {
      "text/html": [
       "<div>\n",
       "<style scoped>\n",
       "    .dataframe tbody tr th:only-of-type {\n",
       "        vertical-align: middle;\n",
       "    }\n",
       "\n",
       "    .dataframe tbody tr th {\n",
       "        vertical-align: top;\n",
       "    }\n",
       "\n",
       "    .dataframe thead th {\n",
       "        text-align: right;\n",
       "    }\n",
       "</style>\n",
       "<table border=\"1\" class=\"dataframe\">\n",
       "  <thead>\n",
       "    <tr style=\"text-align: right;\">\n",
       "      <th></th>\n",
       "      <th>Open</th>\n",
       "      <th>High</th>\n",
       "      <th>Low</th>\n",
       "      <th>Close</th>\n",
       "      <th>Adj Close</th>\n",
       "      <th>Volume</th>\n",
       "    </tr>\n",
       "    <tr>\n",
       "      <th>Date</th>\n",
       "      <th></th>\n",
       "      <th></th>\n",
       "      <th></th>\n",
       "      <th></th>\n",
       "      <th></th>\n",
       "      <th></th>\n",
       "    </tr>\n",
       "  </thead>\n",
       "  <tbody>\n",
       "    <tr>\n",
       "      <th>2012-05-18</th>\n",
       "      <td>29.790001</td>\n",
       "      <td>29.809999</td>\n",
       "      <td>29.170000</td>\n",
       "      <td>29.270000</td>\n",
       "      <td>23.669825</td>\n",
       "      <td>56205300</td>\n",
       "    </tr>\n",
       "    <tr>\n",
       "      <th>2012-05-21</th>\n",
       "      <td>29.100000</td>\n",
       "      <td>29.790001</td>\n",
       "      <td>29.059999</td>\n",
       "      <td>29.750000</td>\n",
       "      <td>24.057981</td>\n",
       "      <td>38787900</td>\n",
       "    </tr>\n",
       "    <tr>\n",
       "      <th>2012-05-22</th>\n",
       "      <td>29.690001</td>\n",
       "      <td>29.879999</td>\n",
       "      <td>29.500000</td>\n",
       "      <td>29.760000</td>\n",
       "      <td>24.066074</td>\n",
       "      <td>39504900</td>\n",
       "    </tr>\n",
       "    <tr>\n",
       "      <th>2012-05-23</th>\n",
       "      <td>29.350000</td>\n",
       "      <td>29.400000</td>\n",
       "      <td>28.639999</td>\n",
       "      <td>29.110001</td>\n",
       "      <td>23.540432</td>\n",
       "      <td>65171000</td>\n",
       "    </tr>\n",
       "    <tr>\n",
       "      <th>2012-05-24</th>\n",
       "      <td>29.160000</td>\n",
       "      <td>29.299999</td>\n",
       "      <td>28.760000</td>\n",
       "      <td>29.070000</td>\n",
       "      <td>23.508089</td>\n",
       "      <td>52575000</td>\n",
       "    </tr>\n",
       "    <tr>\n",
       "      <th>...</th>\n",
       "      <td>...</td>\n",
       "      <td>...</td>\n",
       "      <td>...</td>\n",
       "      <td>...</td>\n",
       "      <td>...</td>\n",
       "      <td>...</td>\n",
       "    </tr>\n",
       "    <tr>\n",
       "      <th>2023-05-11</th>\n",
       "      <td>310.100006</td>\n",
       "      <td>311.119995</td>\n",
       "      <td>306.260010</td>\n",
       "      <td>310.109985</td>\n",
       "      <td>309.433533</td>\n",
       "      <td>31680200</td>\n",
       "    </tr>\n",
       "    <tr>\n",
       "      <th>2023-05-12</th>\n",
       "      <td>310.549988</td>\n",
       "      <td>310.649994</td>\n",
       "      <td>306.600006</td>\n",
       "      <td>308.970001</td>\n",
       "      <td>308.296051</td>\n",
       "      <td>19758100</td>\n",
       "    </tr>\n",
       "    <tr>\n",
       "      <th>2023-05-15</th>\n",
       "      <td>309.100006</td>\n",
       "      <td>309.899994</td>\n",
       "      <td>307.589996</td>\n",
       "      <td>309.459991</td>\n",
       "      <td>308.784973</td>\n",
       "      <td>16336500</td>\n",
       "    </tr>\n",
       "    <tr>\n",
       "      <th>2023-05-16</th>\n",
       "      <td>309.829987</td>\n",
       "      <td>313.709991</td>\n",
       "      <td>309.829987</td>\n",
       "      <td>311.739990</td>\n",
       "      <td>311.059998</td>\n",
       "      <td>26730300</td>\n",
       "    </tr>\n",
       "    <tr>\n",
       "      <th>2023-05-17</th>\n",
       "      <td>312.290009</td>\n",
       "      <td>314.429993</td>\n",
       "      <td>310.739990</td>\n",
       "      <td>314.000000</td>\n",
       "      <td>314.000000</td>\n",
       "      <td>24303800</td>\n",
       "    </tr>\n",
       "  </tbody>\n",
       "</table>\n",
       "<p>2767 rows × 6 columns</p>\n",
       "</div>"
      ],
      "text/plain": [
       "                  Open        High         Low       Close   Adj Close  \\\n",
       "Date                                                                     \n",
       "2012-05-18   29.790001   29.809999   29.170000   29.270000   23.669825   \n",
       "2012-05-21   29.100000   29.790001   29.059999   29.750000   24.057981   \n",
       "2012-05-22   29.690001   29.879999   29.500000   29.760000   24.066074   \n",
       "2012-05-23   29.350000   29.400000   28.639999   29.110001   23.540432   \n",
       "2012-05-24   29.160000   29.299999   28.760000   29.070000   23.508089   \n",
       "...                ...         ...         ...         ...         ...   \n",
       "2023-05-11  310.100006  311.119995  306.260010  310.109985  309.433533   \n",
       "2023-05-12  310.549988  310.649994  306.600006  308.970001  308.296051   \n",
       "2023-05-15  309.100006  309.899994  307.589996  309.459991  308.784973   \n",
       "2023-05-16  309.829987  313.709991  309.829987  311.739990  311.059998   \n",
       "2023-05-17  312.290009  314.429993  310.739990  314.000000  314.000000   \n",
       "\n",
       "              Volume  \n",
       "Date                  \n",
       "2012-05-18  56205300  \n",
       "2012-05-21  38787900  \n",
       "2012-05-22  39504900  \n",
       "2012-05-23  65171000  \n",
       "2012-05-24  52575000  \n",
       "...              ...  \n",
       "2023-05-11  31680200  \n",
       "2023-05-12  19758100  \n",
       "2023-05-15  16336500  \n",
       "2023-05-16  26730300  \n",
       "2023-05-17  24303800  \n",
       "\n",
       "[2767 rows x 6 columns]"
      ]
     },
     "execution_count": 3,
     "metadata": {},
     "output_type": "execute_result"
    }
   ],
   "source": [
    "Microsoft_df"
   ]
  },
  {
   "cell_type": "code",
   "execution_count": 4,
   "id": "8b4ba239",
   "metadata": {},
   "outputs": [
    {
     "data": {
      "text/plain": [
       "2629"
      ]
     },
     "execution_count": 4,
     "metadata": {},
     "output_type": "execute_result"
    }
   ],
   "source": [
    "# Create a new dataframe with only the 'Close column \n",
    "data = Microsoft_df.filter(['Close'])\n",
    "# Convert the dataframe to a numpy array\n",
    "dataset = data.values\n",
    "# Get the number of rows to train the model on\n",
    "training_data_len = int(np.ceil( len(dataset) * .95 ))\n",
    "train_data = dataset[:training_data_len]\n",
    "\n",
    "test_data = dataset[training_data_len:]\n",
    "\n",
    "training_data_len\n"
   ]
  },
  {
   "cell_type": "code",
   "execution_count": 5,
   "id": "a5de490d",
   "metadata": {},
   "outputs": [
    {
     "data": {
      "text/plain": [
       "array([[0.00915577],\n",
       "       [0.01067121],\n",
       "       [0.01070278],\n",
       "       ...,\n",
       "       [0.89376146],\n",
       "       [0.90095979],\n",
       "       [0.90809501]])"
      ]
     },
     "execution_count": 5,
     "metadata": {},
     "output_type": "execute_result"
    }
   ],
   "source": [
    "scaler = MinMaxScaler(feature_range=(0,1))\n",
    "scaler.fit(dataset)\n",
    "joblib.dump(scaler, r\"E:\\kareem\\book 4.2\\Graduation Project\\Microsoft\\microsoft_scaler.h5\")\n",
    "\n",
    "scaled_data = scaler.transform(dataset)\n",
    "\n",
    "\n",
    "scaled_data"
   ]
  },
  {
   "cell_type": "code",
   "execution_count": 6,
   "id": "d779381d",
   "metadata": {},
   "outputs": [
    {
     "name": "stdout",
     "output_type": "stream",
     "text": [
      "[array([0.00915577, 0.01067121, 0.01070278, 0.00865063, 0.00852434,\n",
      "       0.00849277, 0.01007135, 0.00937677, 0.0089032 , 0.0065669 ,\n",
      "       0.00688261, 0.00675633, 0.00940835, 0.00902948, 0.01035549,\n",
      "       0.00798762, 0.00921892, 0.00871377, 0.00937677, 0.01152365,\n",
      "       0.01095536, 0.01367052, 0.01439667, 0.0119025 , 0.01367052,\n",
      "       0.01105007, 0.01152365, 0.01199722, 0.01117636, 0.01332323,\n",
      "       0.01322851, 0.01385995, 0.01367052, 0.01206036, 0.0114605 ,\n",
      "       0.01063964, 0.00925048, 0.00713518, 0.00953463, 0.00969249,\n",
      "       0.01038707, 0.01288123, 0.0135758 , 0.01183936, 0.00918735,\n",
      "       0.00877691, 0.00776662, 0.00880848, 0.01070278, 0.01032392,\n",
      "       0.0097872 , 0.00959777, 0.0089032 , 0.01067121, 0.01130265,\n",
      "       0.01228137, 0.01250237, 0.01303908, 0.01278651, 0.01269179])]\n",
      "[0.011870930433119486]\n",
      "\n",
      "[array([0.00915577, 0.01067121, 0.01070278, 0.00865063, 0.00852434,\n",
      "       0.00849277, 0.01007135, 0.00937677, 0.0089032 , 0.0065669 ,\n",
      "       0.00688261, 0.00675633, 0.00940835, 0.00902948, 0.01035549,\n",
      "       0.00798762, 0.00921892, 0.00871377, 0.00937677, 0.01152365,\n",
      "       0.01095536, 0.01367052, 0.01439667, 0.0119025 , 0.01367052,\n",
      "       0.01105007, 0.01152365, 0.01199722, 0.01117636, 0.01332323,\n",
      "       0.01322851, 0.01385995, 0.01367052, 0.01206036, 0.0114605 ,\n",
      "       0.01063964, 0.00925048, 0.00713518, 0.00953463, 0.00969249,\n",
      "       0.01038707, 0.01288123, 0.0135758 , 0.01183936, 0.00918735,\n",
      "       0.00877691, 0.00776662, 0.00880848, 0.01070278, 0.01032392,\n",
      "       0.0097872 , 0.00959777, 0.0089032 , 0.01067121, 0.01130265,\n",
      "       0.01228137, 0.01250237, 0.01303908, 0.01278651, 0.01269179]), array([0.01067121, 0.01070278, 0.00865063, 0.00852434, 0.00849277,\n",
      "       0.01007135, 0.00937677, 0.0089032 , 0.0065669 , 0.00688261,\n",
      "       0.00675633, 0.00940835, 0.00902948, 0.01035549, 0.00798762,\n",
      "       0.00921892, 0.00871377, 0.00937677, 0.01152365, 0.01095536,\n",
      "       0.01367052, 0.01439667, 0.0119025 , 0.01367052, 0.01105007,\n",
      "       0.01152365, 0.01199722, 0.01117636, 0.01332323, 0.01322851,\n",
      "       0.01385995, 0.01367052, 0.01206036, 0.0114605 , 0.01063964,\n",
      "       0.00925048, 0.00713518, 0.00953463, 0.00969249, 0.01038707,\n",
      "       0.01288123, 0.0135758 , 0.01183936, 0.00918735, 0.00877691,\n",
      "       0.00776662, 0.00880848, 0.01070278, 0.01032392, 0.0097872 ,\n",
      "       0.00959777, 0.0089032 , 0.01067121, 0.01130265, 0.01228137,\n",
      "       0.01250237, 0.01303908, 0.01278651, 0.01269179, 0.01187093])]\n",
      "[0.011870930433119486, 0.01209193695454315]\n",
      "\n"
     ]
    },
    {
     "data": {
      "text/plain": [
       "(2569, 60, 1)"
      ]
     },
     "execution_count": 6,
     "metadata": {},
     "output_type": "execute_result"
    }
   ],
   "source": [
    "# Create the training data set \n",
    "# Create the scaled training data set\n",
    "train_data = scaled_data[0:int(training_data_len), :]\n",
    "# Split the data into x_train and y_train data sets\n",
    "x_train = []\n",
    "y_train = []\n",
    "\n",
    "for i in range(60, len(train_data)):\n",
    "    x_train.append(train_data[i-60:i, 0])\n",
    "    y_train.append(train_data[i, 0])\n",
    "    if i<= 61:\n",
    "        print(x_train)\n",
    "        print(y_train)\n",
    "        print()\n",
    "        \n",
    "# Convert the x_train and y_train to numpy arrays \n",
    "x_train, y_train = np.array(x_train), np.array(y_train)\n",
    "\n",
    "# Reshape the data\n",
    "x_train = np.reshape(x_train, (x_train.shape[0], x_train.shape[1], 1))\n",
    "x_train.shape"
   ]
  },
  {
   "cell_type": "code",
   "execution_count": 7,
   "id": "5023b17b",
   "metadata": {},
   "outputs": [],
   "source": [
    "model = Sequential()\n",
    "model.add(LSTM(256, return_sequences=True, input_shape= (x_train.shape[1], 1)))\n",
    "model.add(Dropout(0.2))\n",
    "\n",
    "model.add(LSTM(128, return_sequences=True, input_shape= (x_train.shape[1], 1)))\n",
    "BatchNormalization()\n",
    "\n",
    "model.add(LSTM(64, return_sequences=False))\n",
    "model.add(Dense(64))\n",
    "model.add(Dense(1))"
   ]
  },
  {
   "cell_type": "code",
   "execution_count": 8,
   "id": "af9ff30a",
   "metadata": {},
   "outputs": [],
   "source": [
    "ckpt = ModelCheckpoint(r\"E:\\kareem\\book 4.2\\Graduation Project\\Microsoft\\microsoft_model.h5\", \n",
    "                       monitor='val_loss', verbose=1, save_best_only=True,mode='min')\n",
    "\n",
    "reduce_lr = ReduceLROnPlateau(monitor='val_loss', factor=0.02,\n",
    "                              patience=2, min_lr=1e-6, verbose=1)\n",
    "\n",
    "es = EarlyStopping(monitor='val_loss', patience=3, verbose=1)"
   ]
  },
  {
   "cell_type": "code",
   "execution_count": 9,
   "id": "462c4d00",
   "metadata": {},
   "outputs": [],
   "source": [
    "# Create the testing data set\n",
    "# Create a new array containing scaled values from index 1543 to 2002 \n",
    "test_data = scaled_data[training_data_len - 60: , :]\n",
    "# Create the data sets x_test and y_test\n",
    "x_test = []\n",
    "y_test = dataset[training_data_len:, :]\n",
    "for i in range(60, len(test_data)):\n",
    "    x_test.append(test_data[i-60:i, 0])\n",
    "    \n",
    "# Convert the data to a numpy array\n",
    "x_test = np.array(x_test)\n",
    "\n",
    "# Reshape the data\n",
    "x_test = np.reshape(x_test, (x_test.shape[0], x_test.shape[1], 1 ))"
   ]
  },
  {
   "cell_type": "code",
   "execution_count": 10,
   "id": "640547c4",
   "metadata": {},
   "outputs": [
    {
     "name": "stdout",
     "output_type": "stream",
     "text": [
      "Epoch 1/100\n",
      "65/65 [==============================] - ETA: 0s - loss: 0.0021\n",
      "Epoch 1: val_loss improved from inf to 0.00325, saving model to E:\\kareem\\book 4.2\\Graduation Project\\Microsoft\\microsoft_model.h5\n",
      "65/65 [==============================] - 26s 304ms/step - loss: 0.0021 - val_loss: 0.0032 - lr: 0.0010\n",
      "Epoch 2/100\n",
      "65/65 [==============================] - ETA: 0s - loss: 1.5050e-04\n",
      "Epoch 2: val_loss improved from 0.00325 to 0.00191, saving model to E:\\kareem\\book 4.2\\Graduation Project\\Microsoft\\microsoft_model.h5\n",
      "65/65 [==============================] - 18s 275ms/step - loss: 1.5050e-04 - val_loss: 0.0019 - lr: 0.0010\n",
      "Epoch 3/100\n",
      "65/65 [==============================] - ETA: 0s - loss: 1.5061e-04\n",
      "Epoch 3: val_loss improved from 0.00191 to 0.00187, saving model to E:\\kareem\\book 4.2\\Graduation Project\\Microsoft\\microsoft_model.h5\n",
      "65/65 [==============================] - 19s 300ms/step - loss: 1.5061e-04 - val_loss: 0.0019 - lr: 0.0010\n",
      "Epoch 4/100\n",
      "65/65 [==============================] - ETA: 0s - loss: 1.7168e-04\n",
      "Epoch 4: val_loss improved from 0.00187 to 0.00118, saving model to E:\\kareem\\book 4.2\\Graduation Project\\Microsoft\\microsoft_model.h5\n",
      "65/65 [==============================] - 19s 298ms/step - loss: 1.7168e-04 - val_loss: 0.0012 - lr: 0.0010\n",
      "Epoch 5/100\n",
      "65/65 [==============================] - ETA: 0s - loss: 1.4729e-04\n",
      "Epoch 5: val_loss improved from 0.00118 to 0.00103, saving model to E:\\kareem\\book 4.2\\Graduation Project\\Microsoft\\microsoft_model.h5\n",
      "65/65 [==============================] - 19s 295ms/step - loss: 1.4729e-04 - val_loss: 0.0010 - lr: 0.0010\n",
      "Epoch 6/100\n",
      "65/65 [==============================] - ETA: 0s - loss: 1.9416e-04\n",
      "Epoch 6: val_loss did not improve from 0.00103\n",
      "65/65 [==============================] - 19s 300ms/step - loss: 1.9416e-04 - val_loss: 0.0037 - lr: 0.0010\n",
      "Epoch 7/100\n",
      "65/65 [==============================] - ETA: 0s - loss: 1.9518e-04\n",
      "Epoch 7: val_loss did not improve from 0.00103\n",
      "\n",
      "Epoch 7: ReduceLROnPlateau reducing learning rate to 2.0000000949949027e-05.\n",
      "65/65 [==============================] - 19s 294ms/step - loss: 1.9518e-04 - val_loss: 0.0024 - lr: 0.0010\n",
      "Epoch 8/100\n",
      "65/65 [==============================] - ETA: 0s - loss: 1.1973e-04\n",
      "Epoch 8: val_loss did not improve from 0.00103\n",
      "65/65 [==============================] - 19s 299ms/step - loss: 1.1973e-04 - val_loss: 0.0013 - lr: 2.0000e-05\n",
      "Epoch 8: early stopping\n"
     ]
    }
   ],
   "source": [
    "# Compile the model\n",
    "model.compile(optimizer='adam', loss='mean_squared_error')\n",
    "\n",
    "# Train the model\n",
    "history = model.fit(x_train, y_train, epochs=100, verbose=1, \n",
    "                    batch_size=32, validation_split=0.2, \n",
    "                    callbacks=[ckpt, reduce_lr, es])"
   ]
  },
  {
   "cell_type": "code",
   "execution_count": 11,
   "id": "5fee150a",
   "metadata": {},
   "outputs": [
    {
     "data": {
      "text/html": [
       "<div>\n",
       "<style scoped>\n",
       "    .dataframe tbody tr th:only-of-type {\n",
       "        vertical-align: middle;\n",
       "    }\n",
       "\n",
       "    .dataframe tbody tr th {\n",
       "        vertical-align: top;\n",
       "    }\n",
       "\n",
       "    .dataframe thead th {\n",
       "        text-align: right;\n",
       "    }\n",
       "</style>\n",
       "<table border=\"1\" class=\"dataframe\">\n",
       "  <thead>\n",
       "    <tr style=\"text-align: right;\">\n",
       "      <th></th>\n",
       "      <th>loss</th>\n",
       "      <th>val_loss</th>\n",
       "      <th>lr</th>\n",
       "    </tr>\n",
       "  </thead>\n",
       "  <tbody>\n",
       "    <tr>\n",
       "      <th>0</th>\n",
       "      <td>0.002140</td>\n",
       "      <td>0.003245</td>\n",
       "      <td>0.00100</td>\n",
       "    </tr>\n",
       "    <tr>\n",
       "      <th>1</th>\n",
       "      <td>0.000150</td>\n",
       "      <td>0.001908</td>\n",
       "      <td>0.00100</td>\n",
       "    </tr>\n",
       "    <tr>\n",
       "      <th>2</th>\n",
       "      <td>0.000151</td>\n",
       "      <td>0.001869</td>\n",
       "      <td>0.00100</td>\n",
       "    </tr>\n",
       "    <tr>\n",
       "      <th>3</th>\n",
       "      <td>0.000172</td>\n",
       "      <td>0.001184</td>\n",
       "      <td>0.00100</td>\n",
       "    </tr>\n",
       "    <tr>\n",
       "      <th>4</th>\n",
       "      <td>0.000147</td>\n",
       "      <td>0.001034</td>\n",
       "      <td>0.00100</td>\n",
       "    </tr>\n",
       "    <tr>\n",
       "      <th>5</th>\n",
       "      <td>0.000194</td>\n",
       "      <td>0.003686</td>\n",
       "      <td>0.00100</td>\n",
       "    </tr>\n",
       "    <tr>\n",
       "      <th>6</th>\n",
       "      <td>0.000195</td>\n",
       "      <td>0.002388</td>\n",
       "      <td>0.00100</td>\n",
       "    </tr>\n",
       "    <tr>\n",
       "      <th>7</th>\n",
       "      <td>0.000120</td>\n",
       "      <td>0.001282</td>\n",
       "      <td>0.00002</td>\n",
       "    </tr>\n",
       "  </tbody>\n",
       "</table>\n",
       "</div>"
      ],
      "text/plain": [
       "       loss  val_loss       lr\n",
       "0  0.002140  0.003245  0.00100\n",
       "1  0.000150  0.001908  0.00100\n",
       "2  0.000151  0.001869  0.00100\n",
       "3  0.000172  0.001184  0.00100\n",
       "4  0.000147  0.001034  0.00100\n",
       "5  0.000194  0.003686  0.00100\n",
       "6  0.000195  0.002388  0.00100\n",
       "7  0.000120  0.001282  0.00002"
      ]
     },
     "execution_count": 11,
     "metadata": {},
     "output_type": "execute_result"
    }
   ],
   "source": [
    "history_df = pd.DataFrame(history.history)\n",
    "history_df"
   ]
  },
  {
   "cell_type": "code",
   "execution_count": 12,
   "id": "b09663a5",
   "metadata": {},
   "outputs": [
    {
     "data": {
      "text/html": [
       "<div>\n",
       "<style scoped>\n",
       "    .dataframe tbody tr th:only-of-type {\n",
       "        vertical-align: middle;\n",
       "    }\n",
       "\n",
       "    .dataframe tbody tr th {\n",
       "        vertical-align: top;\n",
       "    }\n",
       "\n",
       "    .dataframe thead th {\n",
       "        text-align: right;\n",
       "    }\n",
       "</style>\n",
       "<table border=\"1\" class=\"dataframe\">\n",
       "  <thead>\n",
       "    <tr style=\"text-align: right;\">\n",
       "      <th></th>\n",
       "      <th>val_loss</th>\n",
       "    </tr>\n",
       "  </thead>\n",
       "  <tbody>\n",
       "    <tr>\n",
       "      <th>0</th>\n",
       "      <td>0.003245</td>\n",
       "    </tr>\n",
       "    <tr>\n",
       "      <th>1</th>\n",
       "      <td>0.001908</td>\n",
       "    </tr>\n",
       "    <tr>\n",
       "      <th>2</th>\n",
       "      <td>0.001869</td>\n",
       "    </tr>\n",
       "    <tr>\n",
       "      <th>3</th>\n",
       "      <td>0.001184</td>\n",
       "    </tr>\n",
       "    <tr>\n",
       "      <th>4</th>\n",
       "      <td>0.001034</td>\n",
       "    </tr>\n",
       "    <tr>\n",
       "      <th>5</th>\n",
       "      <td>0.003686</td>\n",
       "    </tr>\n",
       "    <tr>\n",
       "      <th>6</th>\n",
       "      <td>0.002388</td>\n",
       "    </tr>\n",
       "    <tr>\n",
       "      <th>7</th>\n",
       "      <td>0.001282</td>\n",
       "    </tr>\n",
       "  </tbody>\n",
       "</table>\n",
       "</div>"
      ],
      "text/plain": [
       "   val_loss\n",
       "0  0.003245\n",
       "1  0.001908\n",
       "2  0.001869\n",
       "3  0.001184\n",
       "4  0.001034\n",
       "5  0.003686\n",
       "6  0.002388\n",
       "7  0.001282"
      ]
     },
     "execution_count": 12,
     "metadata": {},
     "output_type": "execute_result"
    }
   ],
   "source": [
    "history_df.loc[:, ['val_loss']]"
   ]
  },
  {
   "cell_type": "code",
   "execution_count": 13,
   "id": "f3a464c0",
   "metadata": {},
   "outputs": [
    {
     "data": {
      "image/png": "[encoded data removed]",
      "text/plain": [
       "<Figure size 640x480 with 1 Axes>"
      ]
     },
     "metadata": {},
     "output_type": "display_data"
    }
   ],
   "source": [
    "history_df = pd.DataFrame(history.history)\n",
    "\n",
    "plt.plot(history_df.loc[:, ['loss']], \"#6daa9f\", label='Training loss')\n",
    "plt.plot(history_df.loc[:, ['val_loss']], \"#000\", label='Tessing loss')\n",
    "plt.title('Training and Validation loss')\n",
    "plt.xlabel('Epochs')\n",
    "plt.ylabel('Loss')\n",
    "plt.legend(loc=\"best\")\n",
    "\n",
    "plt.show()"
   ]
  },
  {
   "cell_type": "code",
   "execution_count": 14,
   "id": "98260576",
   "metadata": {},
   "outputs": [
    {
     "name": "stdout",
     "output_type": "stream",
     "text": [
      "5/5 [==============================] - 2s 74ms/step\n"
     ]
    },
    {
     "data": {
      "text/plain": [
       "12.601740350610827"
      ]
     },
     "execution_count": 14,
     "metadata": {},
     "output_type": "execute_result"
    }
   ],
   "source": [
    "# Create the testing data set\n",
    "# Create a new array containing scaled values from index 1543 to 2002 \n",
    "\n",
    "test_data = scaled_data[training_data_len - 60: , :]\n",
    "\n",
    "# Create the data sets x_test and y_test\n",
    "x_test = []\n",
    "y_test = dataset[training_data_len:, :]\n",
    "\n",
    "for i in range(60, len(test_data)):\n",
    "    x_test.append(test_data[i-60:i, 0])\n",
    "    \n",
    "# Convert the data to a numpy array\n",
    "x_test = np.array(x_test)\n",
    "\n",
    "# Reshape the data\n",
    "x_test = np.reshape(x_test, (x_test.shape[0], x_test.shape[1], 1 ))\n",
    "\n",
    "# Get the models predicted price values \n",
    "predictions = model.predict(x_test)\n",
    "predictions = scaler.inverse_transform(predictions)\n",
    "\n",
    "# Get the root mean squared error (RMSE)\n",
    "rmse = np.sqrt(np.mean(((predictions - y_test) ** 2)))\n",
    "rmse"
   ]
  },
  {
   "cell_type": "code",
   "execution_count": 15,
   "id": "33cb5994",
   "metadata": {
    "scrolled": false
   },
   "outputs": [
    {
     "name": "stderr",
     "output_type": "stream",
     "text": [
      "C:\\Users\\HP\\AppData\\Local\\Temp\\ipykernel_5768\\2388977846.py:4: SettingWithCopyWarning: \n",
      "A value is trying to be set on a copy of a slice from a DataFrame.\n",
      "Try using .loc[row_indexer,col_indexer] = value instead\n",
      "\n",
      "See the caveats in the documentation: https://pandas.pydata.org/pandas-docs/stable/user_guide/indexing.html#returning-a-view-versus-a-copy\n",
      "  valid['Predictions'] = predictions\n"
     ]
    },
    {
     "data": {
      "image/png": "[encoded data removed]",
      "text/plain": [
       "<Figure size 1600x600 with 1 Axes>"
      ]
     },
     "metadata": {},
     "output_type": "display_data"
    }
   ],
   "source": [
    "# Plot the data\n",
    "train = data[:training_data_len]\n",
    "valid = data[training_data_len:]\n",
    "valid['Predictions'] = predictions\n",
    "# Visualize the data\n",
    "plt.figure(figsize=(16,6))\n",
    "plt.title('Model')\n",
    "plt.xlabel('Date', fontsize=18)\n",
    "plt.ylabel('Close Price USD ($)', fontsize=18)\n",
    "plt.plot(train['Close'])\n",
    "plt.plot(valid[['Close', 'Predictions']])\n",
    "plt.legend(['Train', 'Val', 'Predictions'], loc='lower right')\n",
    "plt.show()"
   ]
  },
  {
   "cell_type": "code",
   "execution_count": 16,
   "id": "ba4ff1e7",
   "metadata": {},
   "outputs": [
    {
     "data": {
      "text/plain": [
       "['E:\\\\kareem\\\\book 4.2\\\\Graduation Project\\\\Microsoft\\\\microsoft_validdata.h5']"
      ]
     },
     "execution_count": 16,
     "metadata": {},
     "output_type": "execute_result"
    }
   ],
   "source": [
    "joblib.dump(train, r\"E:\\kareem\\book 4.2\\Graduation Project\\Microsoft\\microsoft_traindata.h5\")\n",
    "joblib.dump(valid, r\"E:\\kareem\\book 4.2\\Graduation Project\\Microsoft\\microsoft_validdata.h5\")"
   ]
  },
  {
   "cell_type": "code",
   "execution_count": 17,
   "id": "377fc37c",
   "metadata": {},
   "outputs": [],
   "source": [
    "model.save(r\"E:\\kareem\\book 4.2\\Graduation Project\\Microsoft\\microsoft_model.h5\")"
   ]
  },
  {
   "cell_type": "code",
   "execution_count": 18,
   "id": "cfc60a2e",
   "metadata": {},
   "outputs": [],
   "source": [
    "model = load_model(r\"E:\\kareem\\book 4.2\\Graduation Project\\Microsoft\\microsoft_model.h5\")"
   ]
  },
  {
   "cell_type": "code",
   "execution_count": 21,
   "id": "60541329",
   "metadata": {},
   "outputs": [],
   "source": [
    "def predict(n):\n",
    "    \n",
    "    if (n <= 7) & (n >= 1):\n",
    "    \n",
    "        num = 1\n",
    "        last = []\n",
    "\n",
    "        last_60_value = Microsoft_df[\"Close\"].iloc[-60:]\n",
    "\n",
    "        for i in last_60_value:\n",
    "            last.append(i)\n",
    "\n",
    "\n",
    "        for i in range(n):\n",
    "            np_list = np.reshape(last[-60:], (-1, 1))\n",
    "            last_csl = scaler.transform(np_list)\n",
    "            last_csl = np.reshape(last_csl, (1, 60, 1))\n",
    "\n",
    "            pred = model.predict(last_csl)\n",
    "            prediction = float(scaler.inverse_transform(pred)[0][0])\n",
    "\n",
    "            last.append(prediction)\n",
    "            print(f\"The prediction number {num} is : {prediction}\")\n",
    "            num = num + 1\n",
    "\n",
    "        return last[60:]\n",
    "    \n",
    "    return \"Sorry you must inter mostly seven days or 'week' or less\""
   ]
  },
  {
   "cell_type": "code",
   "execution_count": 22,
   "id": "82dc5476",
   "metadata": {
    "scrolled": true
   },
   "outputs": [
    {
     "name": "stdout",
     "output_type": "stream",
     "text": [
      "1/1 [==============================] - 1s 1s/step\n",
      "The prediction number 1 is : 298.9725341796875\n",
      "1/1 [==============================] - 0s 36ms/step\n",
      "The prediction number 2 is : 299.32049560546875\n",
      "1/1 [==============================] - 0s 36ms/step\n",
      "The prediction number 3 is : 299.2651672363281\n",
      "1/1 [==============================] - 0s 35ms/step\n",
      "The prediction number 4 is : 298.8494567871094\n",
      "1/1 [==============================] - 0s 40ms/step\n",
      "The prediction number 5 is : 298.15557861328125\n",
      "1/1 [==============================] - 0s 37ms/step\n",
      "The prediction number 6 is : 297.27117919921875\n",
      "1/1 [==============================] - 0s 34ms/step\n",
      "The prediction number 7 is : 296.2720031738281\n"
     ]
    },
    {
     "data": {
      "text/plain": [
       "[298.9725341796875,\n",
       " 299.32049560546875,\n",
       " 299.2651672363281,\n",
       " 298.8494567871094,\n",
       " 298.15557861328125,\n",
       " 297.27117919921875,\n",
       " 296.2720031738281]"
      ]
     },
     "execution_count": 22,
     "metadata": {},
     "output_type": "execute_result"
    }
   ],
   "source": [
    "predict(7)"
   ]
  },
  {
   "cell_type": "code",
   "execution_count": null,
   "id": "8445f22c",
   "metadata": {},
   "outputs": [],
   "source": []
  }
 ],
 "metadata": {
  "kernelspec": {
   "display_name": "Python 3 (ipykernel)",
   "language": "python",
   "name": "python3"
  },
  "language_info": {
   "codemirror_mode": {
    "name": "ipython",
    "version": 3
   },
   "file_extension": ".py",
   "mimetype": "text/x-python",
   "name": "python",
   "nbconvert_exporter": "python",
   "pygments_lexer": "ipython3",
   "version": "3.10.9"
  }
 },
 "nbformat": 4,
 "nbformat_minor": 5
}
