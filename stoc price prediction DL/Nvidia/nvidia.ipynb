{
 "cells": [
  {
   "cell_type": "code",
   "execution_count": 1,
   "id": "e5ca1955",
   "metadata": {},
   "outputs": [],
   "source": [
    "import pandas as pd\n",
    "import numpy as np\n",
    "import matplotlib.pyplot as plt\n",
    "import seaborn as sns\n",
    "from plotly import express as px\n",
    "from sklearn.preprocessing import StandardScaler\n",
    "from sklearn.metrics import mean_squared_error\n",
    "from tensorflow.keras.models import Sequential, load_model\n",
    "from datetime import datetime\n",
    "from pandas_datareader import data as pdr\n",
    "import yfinance as yf\n",
    "from tensorflow.keras.layers import Dense, LSTM, Dropout, BatchNormalization\n",
    "import joblib\n",
    "from sklearn.preprocessing import MinMaxScaler\n",
    "from sklearn.preprocessing import MinMaxScaler\n",
    "from tensorflow.keras.layers import Dense, Dropout, LSTM\n",
    "from tensorflow.keras.callbacks import EarlyStopping, ReduceLROnPlateau, ModelCheckpoint\n",
    "\n",
    "\n",
    "plt.style.use('fivethirtyeight')\n",
    "%matplotlib inline\n",
    "\n",
    "yf.pdr_override()"
   ]
  },
  {
   "cell_type": "code",
   "execution_count": 2,
   "id": "39dee3d7",
   "metadata": {},
   "outputs": [
    {
     "name": "stdout",
     "output_type": "stream",
     "text": [
      "[*********************100%***********************]  1 of 1 completed\n"
     ]
    }
   ],
   "source": [
    "yf.pdr_override()\n",
    "\n",
    "############################################\n",
    "end = datetime.now()\n",
    "start = datetime(end.year - 11, end.month, end.day)\n",
    "\n",
    "#############################################################################\n",
    "nvidia_df = yf.download(\"NVDA\", start, end)\n"
   ]
  },
  {
   "cell_type": "code",
   "execution_count": 3,
   "id": "3dcf4cb3",
   "metadata": {},
   "outputs": [
    {
     "data": {
      "text/html": [
       "<div>\n",
       "<style scoped>\n",
       "    .dataframe tbody tr th:only-of-type {\n",
       "        vertical-align: middle;\n",
       "    }\n",
       "\n",
       "    .dataframe tbody tr th {\n",
       "        vertical-align: top;\n",
       "    }\n",
       "\n",
       "    .dataframe thead th {\n",
       "        text-align: right;\n",
       "    }\n",
       "</style>\n",
       "<table border=\"1\" class=\"dataframe\">\n",
       "  <thead>\n",
       "    <tr style=\"text-align: right;\">\n",
       "      <th></th>\n",
       "      <th>Open</th>\n",
       "      <th>High</th>\n",
       "      <th>Low</th>\n",
       "      <th>Close</th>\n",
       "      <th>Adj Close</th>\n",
       "      <th>Volume</th>\n",
       "    </tr>\n",
       "    <tr>\n",
       "      <th>Date</th>\n",
       "      <th></th>\n",
       "      <th></th>\n",
       "      <th></th>\n",
       "      <th></th>\n",
       "      <th></th>\n",
       "      <th></th>\n",
       "    </tr>\n",
       "  </thead>\n",
       "  <tbody>\n",
       "    <tr>\n",
       "      <th>2012-05-18</th>\n",
       "      <td>3.170000</td>\n",
       "      <td>3.185000</td>\n",
       "      <td>3.005000</td>\n",
       "      <td>3.020000</td>\n",
       "      <td>2.771141</td>\n",
       "      <td>56728800</td>\n",
       "    </tr>\n",
       "    <tr>\n",
       "      <th>2012-05-21</th>\n",
       "      <td>3.025000</td>\n",
       "      <td>3.087500</td>\n",
       "      <td>3.005000</td>\n",
       "      <td>3.072500</td>\n",
       "      <td>2.819315</td>\n",
       "      <td>41626000</td>\n",
       "    </tr>\n",
       "    <tr>\n",
       "      <th>2012-05-22</th>\n",
       "      <td>3.070000</td>\n",
       "      <td>3.075000</td>\n",
       "      <td>2.990000</td>\n",
       "      <td>3.035000</td>\n",
       "      <td>2.784904</td>\n",
       "      <td>41014000</td>\n",
       "    </tr>\n",
       "    <tr>\n",
       "      <th>2012-05-23</th>\n",
       "      <td>3.002500</td>\n",
       "      <td>3.115000</td>\n",
       "      <td>2.957500</td>\n",
       "      <td>3.110000</td>\n",
       "      <td>2.853725</td>\n",
       "      <td>49600000</td>\n",
       "    </tr>\n",
       "    <tr>\n",
       "      <th>2012-05-24</th>\n",
       "      <td>3.127500</td>\n",
       "      <td>3.132500</td>\n",
       "      <td>3.005000</td>\n",
       "      <td>3.027500</td>\n",
       "      <td>2.778024</td>\n",
       "      <td>52042000</td>\n",
       "    </tr>\n",
       "    <tr>\n",
       "      <th>...</th>\n",
       "      <td>...</td>\n",
       "      <td>...</td>\n",
       "      <td>...</td>\n",
       "      <td>...</td>\n",
       "      <td>...</td>\n",
       "      <td>...</td>\n",
       "    </tr>\n",
       "    <tr>\n",
       "      <th>2023-05-12</th>\n",
       "      <td>285.290009</td>\n",
       "      <td>287.799988</td>\n",
       "      <td>280.459991</td>\n",
       "      <td>283.399994</td>\n",
       "      <td>283.399994</td>\n",
       "      <td>27402700</td>\n",
       "    </tr>\n",
       "    <tr>\n",
       "      <th>2023-05-15</th>\n",
       "      <td>285.079987</td>\n",
       "      <td>289.690002</td>\n",
       "      <td>281.519989</td>\n",
       "      <td>289.529999</td>\n",
       "      <td>289.529999</td>\n",
       "      <td>29392600</td>\n",
       "    </tr>\n",
       "    <tr>\n",
       "      <th>2023-05-16</th>\n",
       "      <td>288.410004</td>\n",
       "      <td>298.700012</td>\n",
       "      <td>288.320007</td>\n",
       "      <td>292.130005</td>\n",
       "      <td>292.130005</td>\n",
       "      <td>44940500</td>\n",
       "    </tr>\n",
       "    <tr>\n",
       "      <th>2023-05-17</th>\n",
       "      <td>295.839996</td>\n",
       "      <td>301.989990</td>\n",
       "      <td>294.299988</td>\n",
       "      <td>301.779999</td>\n",
       "      <td>301.779999</td>\n",
       "      <td>43117900</td>\n",
       "    </tr>\n",
       "    <tr>\n",
       "      <th>2023-05-18</th>\n",
       "      <td>304.100006</td>\n",
       "      <td>318.239990</td>\n",
       "      <td>303.200012</td>\n",
       "      <td>313.730011</td>\n",
       "      <td>313.730011</td>\n",
       "      <td>42285332</td>\n",
       "    </tr>\n",
       "  </tbody>\n",
       "</table>\n",
       "<p>2768 rows × 6 columns</p>\n",
       "</div>"
      ],
      "text/plain": [
       "                  Open        High         Low       Close   Adj Close  \\\n",
       "Date                                                                     \n",
       "2012-05-18    3.170000    3.185000    3.005000    3.020000    2.771141   \n",
       "2012-05-21    3.025000    3.087500    3.005000    3.072500    2.819315   \n",
       "2012-05-22    3.070000    3.075000    2.990000    3.035000    2.784904   \n",
       "2012-05-23    3.002500    3.115000    2.957500    3.110000    2.853725   \n",
       "2012-05-24    3.127500    3.132500    3.005000    3.027500    2.778024   \n",
       "...                ...         ...         ...         ...         ...   \n",
       "2023-05-12  285.290009  287.799988  280.459991  283.399994  283.399994   \n",
       "2023-05-15  285.079987  289.690002  281.519989  289.529999  289.529999   \n",
       "2023-05-16  288.410004  298.700012  288.320007  292.130005  292.130005   \n",
       "2023-05-17  295.839996  301.989990  294.299988  301.779999  301.779999   \n",
       "2023-05-18  304.100006  318.239990  303.200012  313.730011  313.730011   \n",
       "\n",
       "              Volume  \n",
       "Date                  \n",
       "2012-05-18  56728800  \n",
       "2012-05-21  41626000  \n",
       "2012-05-22  41014000  \n",
       "2012-05-23  49600000  \n",
       "2012-05-24  52042000  \n",
       "...              ...  \n",
       "2023-05-12  27402700  \n",
       "2023-05-15  29392600  \n",
       "2023-05-16  44940500  \n",
       "2023-05-17  43117900  \n",
       "2023-05-18  42285332  \n",
       "\n",
       "[2768 rows x 6 columns]"
      ]
     },
     "execution_count": 3,
     "metadata": {},
     "output_type": "execute_result"
    }
   ],
   "source": [
    "nvidia_df"
   ]
  },
  {
   "cell_type": "code",
   "execution_count": 4,
   "id": "8b4ba239",
   "metadata": {},
   "outputs": [
    {
     "data": {
      "text/plain": [
       "2630"
      ]
     },
     "execution_count": 4,
     "metadata": {},
     "output_type": "execute_result"
    }
   ],
   "source": [
    "# Create a new dataframe with only the 'Close column \n",
    "data = nvidia_df.filter(['Close'])\n",
    "# Convert the dataframe to a numpy array\n",
    "dataset = data.values\n",
    "# Get the number of rows to train the model on\n",
    "training_data_len = int(np.ceil( len(dataset) * .95 ))\n",
    "train_data = dataset[:training_data_len]\n",
    "\n",
    "test_data = dataset[training_data_len:]\n",
    "\n",
    "training_data_len\n"
   ]
  },
  {
   "cell_type": "code",
   "execution_count": 5,
   "id": "a5de490d",
   "metadata": {},
   "outputs": [
    {
     "data": {
      "text/plain": [
       "array([[5.28836551e-04],\n",
       "       [6.87487588e-04],\n",
       "       [5.74165727e-04],\n",
       "       ...,\n",
       "       [8.74197290e-01],\n",
       "       [9.03358838e-01],\n",
       "       [9.39470867e-01]])"
      ]
     },
     "execution_count": 5,
     "metadata": {},
     "output_type": "execute_result"
    }
   ],
   "source": [
    "scaler = MinMaxScaler(feature_range=(0,1))\n",
    "scaler.fit(dataset)\n",
    "joblib.dump(scaler, r\"E:\\kareem\\book 4.2\\Graduation Project\\nvidia\\nvidia_scaler.h5\")\n",
    "\n",
    "scaled_data = scaler.transform(dataset)\n",
    "\n",
    "\n",
    "scaled_data"
   ]
  },
  {
   "cell_type": "code",
   "execution_count": 6,
   "id": "d779381d",
   "metadata": {},
   "outputs": [
    {
     "name": "stdout",
     "output_type": "stream",
     "text": [
      "[array([0.00052884, 0.00068749, 0.00057417, 0.00080081, 0.0005515 ,\n",
      "       0.00077059, 0.00101234, 0.00089902, 0.00079326, 0.00045329,\n",
      "       0.00026442, 0.00052128, 0.00076304, 0.0003853 , 0.00055906,\n",
      "       0.00066482, 0.00085369, 0.00060438, 0.00049106, 0.00068749,\n",
      "       0.00077059, 0.00140519, 0.00156385, 0.001103  , 0.00122388,\n",
      "       0.00091413, 0.0010199 , 0.00132965, 0.00140519, 0.00184337,\n",
      "       0.00156385, 0.00182826, 0.0017225 , 0.00152607, 0.00139009,\n",
      "       0.00108789, 0.00092924, 0.00077059, 0.00089147, 0.00092169,\n",
      "       0.00074793, 0.00126921, 0.00136742, 0.00108034, 0.00120877,\n",
      "       0.001103  , 0.00129187, 0.0013372 , 0.00158651, 0.00147319,\n",
      "       0.00163184, 0.00151852, 0.00155629, 0.00176783, 0.00198692,\n",
      "       0.00209268, 0.00215312, 0.00251575, 0.00244776, 0.0025913 ])]\n",
      "[0.0024250940148484255]\n",
      "\n",
      "[array([0.00052884, 0.00068749, 0.00057417, 0.00080081, 0.0005515 ,\n",
      "       0.00077059, 0.00101234, 0.00089902, 0.00079326, 0.00045329,\n",
      "       0.00026442, 0.00052128, 0.00076304, 0.0003853 , 0.00055906,\n",
      "       0.00066482, 0.00085369, 0.00060438, 0.00049106, 0.00068749,\n",
      "       0.00077059, 0.00140519, 0.00156385, 0.001103  , 0.00122388,\n",
      "       0.00091413, 0.0010199 , 0.00132965, 0.00140519, 0.00184337,\n",
      "       0.00156385, 0.00182826, 0.0017225 , 0.00152607, 0.00139009,\n",
      "       0.00108789, 0.00092924, 0.00077059, 0.00089147, 0.00092169,\n",
      "       0.00074793, 0.00126921, 0.00136742, 0.00108034, 0.00120877,\n",
      "       0.001103  , 0.00129187, 0.0013372 , 0.00158651, 0.00147319,\n",
      "       0.00163184, 0.00151852, 0.00155629, 0.00176783, 0.00198692,\n",
      "       0.00209268, 0.00215312, 0.00251575, 0.00244776, 0.0025913 ]), array([0.00068749, 0.00057417, 0.00080081, 0.0005515 , 0.00077059,\n",
      "       0.00101234, 0.00089902, 0.00079326, 0.00045329, 0.00026442,\n",
      "       0.00052128, 0.00076304, 0.0003853 , 0.00055906, 0.00066482,\n",
      "       0.00085369, 0.00060438, 0.00049106, 0.00068749, 0.00077059,\n",
      "       0.00140519, 0.00156385, 0.001103  , 0.00122388, 0.00091413,\n",
      "       0.0010199 , 0.00132965, 0.00140519, 0.00184337, 0.00156385,\n",
      "       0.00182826, 0.0017225 , 0.00152607, 0.00139009, 0.00108789,\n",
      "       0.00092924, 0.00077059, 0.00089147, 0.00092169, 0.00074793,\n",
      "       0.00126921, 0.00136742, 0.00108034, 0.00120877, 0.001103  ,\n",
      "       0.00129187, 0.0013372 , 0.00158651, 0.00147319, 0.00163184,\n",
      "       0.00151852, 0.00155629, 0.00176783, 0.00198692, 0.00209268,\n",
      "       0.00215312, 0.00251575, 0.00244776, 0.0025913 , 0.00242509])]\n",
      "[0.0024250940148484255, 0.0023419906445608547]\n",
      "\n"
     ]
    },
    {
     "data": {
      "text/plain": [
       "(2570, 60, 1)"
      ]
     },
     "execution_count": 6,
     "metadata": {},
     "output_type": "execute_result"
    }
   ],
   "source": [
    "# Create the training data set \n",
    "# Create the scaled training data set\n",
    "train_data = scaled_data[0:int(training_data_len), :]\n",
    "# Split the data into x_train and y_train data sets\n",
    "x_train = []\n",
    "y_train = []\n",
    "\n",
    "for i in range(60, len(train_data)):\n",
    "    x_train.append(train_data[i-60:i, 0])\n",
    "    y_train.append(train_data[i, 0])\n",
    "    if i<= 61:\n",
    "        print(x_train)\n",
    "        print(y_train)\n",
    "        print()\n",
    "        \n",
    "# Convert the x_train and y_train to numpy arrays \n",
    "x_train, y_train = np.array(x_train), np.array(y_train)\n",
    "\n",
    "# Reshape the data\n",
    "x_train = np.reshape(x_train, (x_train.shape[0], x_train.shape[1], 1))\n",
    "x_train.shape"
   ]
  },
  {
   "cell_type": "code",
   "execution_count": 7,
   "id": "5023b17b",
   "metadata": {},
   "outputs": [],
   "source": [
    "model = Sequential()\n",
    "model.add(LSTM(256, return_sequences=True, input_shape= (x_train.shape[1], 1)))\n",
    "model.add(Dropout(0.2))\n",
    "\n",
    "model.add(LSTM(128, return_sequences=True, input_shape= (x_train.shape[1], 1)))\n",
    "BatchNormalization()\n",
    "\n",
    "model.add(LSTM(64, return_sequences=False))\n",
    "model.add(Dense(64))\n",
    "model.add(Dense(1))"
   ]
  },
  {
   "cell_type": "code",
   "execution_count": 8,
   "id": "af9ff30a",
   "metadata": {},
   "outputs": [],
   "source": [
    "ckpt = ModelCheckpoint(r\"E:\\kareem\\book 4.2\\Graduation Project\\nvidia\\nvidia_model.h5\", \n",
    "                       monitor='val_loss', verbose=1, save_best_only=True,mode='min')\n",
    "\n",
    "reduce_lr = ReduceLROnPlateau(monitor='val_loss', factor=0.02,\n",
    "                              patience=2, min_lr=1e-6, verbose=1)\n",
    "\n",
    "es = EarlyStopping(monitor='val_loss', patience=3, verbose=1)"
   ]
  },
  {
   "cell_type": "code",
   "execution_count": 9,
   "id": "462c4d00",
   "metadata": {},
   "outputs": [],
   "source": [
    "# Create the testing data set\n",
    "# Create a new array containing scaled values from index 1543 to 2002 \n",
    "test_data = scaled_data[training_data_len - 60: , :]\n",
    "# Create the data sets x_test and y_test\n",
    "x_test = []\n",
    "y_test = dataset[training_data_len:, :]\n",
    "for i in range(60, len(test_data)):\n",
    "    x_test.append(test_data[i-60:i, 0])\n",
    "    \n",
    "# Convert the data to a numpy array\n",
    "x_test = np.array(x_test)\n",
    "\n",
    "# Reshape the data\n",
    "x_test = np.reshape(x_test, (x_test.shape[0], x_test.shape[1], 1 ))"
   ]
  },
  {
   "cell_type": "code",
   "execution_count": 10,
   "id": "640547c4",
   "metadata": {},
   "outputs": [
    {
     "name": "stdout",
     "output_type": "stream",
     "text": [
      "Epoch 1/100\n",
      "65/65 [==============================] - ETA: 0s - loss: 6.8524e-04\n",
      "Epoch 1: val_loss improved from inf to 0.00308, saving model to E:\\kareem\\book 4.2\\Graduation Project\\nvidia\\nvidia_model.h5\n",
      "65/65 [==============================] - 25s 296ms/step - loss: 6.8524e-04 - val_loss: 0.0031 - lr: 0.0010\n",
      "Epoch 2/100\n",
      "65/65 [==============================] - ETA: 0s - loss: 1.2535e-04\n",
      "Epoch 2: val_loss did not improve from 0.00308\n",
      "65/65 [==============================] - 18s 273ms/step - loss: 1.2535e-04 - val_loss: 0.0032 - lr: 0.0010\n",
      "Epoch 3/100\n",
      "65/65 [==============================] - ETA: 0s - loss: 8.2091e-05\n",
      "Epoch 3: val_loss did not improve from 0.00308\n",
      "\n",
      "Epoch 3: ReduceLROnPlateau reducing learning rate to 2.0000000949949027e-05.\n",
      "65/65 [==============================] - 19s 290ms/step - loss: 8.2091e-05 - val_loss: 0.0045 - lr: 0.0010\n",
      "Epoch 4/100\n",
      "65/65 [==============================] - ETA: 0s - loss: 6.2544e-05\n",
      "Epoch 4: val_loss did not improve from 0.00308\n",
      "65/65 [==============================] - 19s 297ms/step - loss: 6.2544e-05 - val_loss: 0.0032 - lr: 2.0000e-05\n",
      "Epoch 4: early stopping\n"
     ]
    }
   ],
   "source": [
    "# Compile the model\n",
    "model.compile(optimizer='adam', loss='mean_squared_error')\n",
    "\n",
    "# Train the model\n",
    "history = model.fit(x_train, y_train, epochs=100, verbose=1, \n",
    "                    batch_size=32, validation_split=0.2, \n",
    "                    callbacks=[ckpt, reduce_lr, es])"
   ]
  },
  {
   "cell_type": "code",
   "execution_count": 11,
   "id": "5fee150a",
   "metadata": {},
   "outputs": [
    {
     "data": {
      "text/html": [
       "<div>\n",
       "<style scoped>\n",
       "    .dataframe tbody tr th:only-of-type {\n",
       "        vertical-align: middle;\n",
       "    }\n",
       "\n",
       "    .dataframe tbody tr th {\n",
       "        vertical-align: top;\n",
       "    }\n",
       "\n",
       "    .dataframe thead th {\n",
       "        text-align: right;\n",
       "    }\n",
       "</style>\n",
       "<table border=\"1\" class=\"dataframe\">\n",
       "  <thead>\n",
       "    <tr style=\"text-align: right;\">\n",
       "      <th></th>\n",
       "      <th>loss</th>\n",
       "      <th>val_loss</th>\n",
       "      <th>lr</th>\n",
       "    </tr>\n",
       "  </thead>\n",
       "  <tbody>\n",
       "    <tr>\n",
       "      <th>0</th>\n",
       "      <td>0.000685</td>\n",
       "      <td>0.003082</td>\n",
       "      <td>0.00100</td>\n",
       "    </tr>\n",
       "    <tr>\n",
       "      <th>1</th>\n",
       "      <td>0.000125</td>\n",
       "      <td>0.003222</td>\n",
       "      <td>0.00100</td>\n",
       "    </tr>\n",
       "    <tr>\n",
       "      <th>2</th>\n",
       "      <td>0.000082</td>\n",
       "      <td>0.004470</td>\n",
       "      <td>0.00100</td>\n",
       "    </tr>\n",
       "    <tr>\n",
       "      <th>3</th>\n",
       "      <td>0.000063</td>\n",
       "      <td>0.003226</td>\n",
       "      <td>0.00002</td>\n",
       "    </tr>\n",
       "  </tbody>\n",
       "</table>\n",
       "</div>"
      ],
      "text/plain": [
       "       loss  val_loss       lr\n",
       "0  0.000685  0.003082  0.00100\n",
       "1  0.000125  0.003222  0.00100\n",
       "2  0.000082  0.004470  0.00100\n",
       "3  0.000063  0.003226  0.00002"
      ]
     },
     "execution_count": 11,
     "metadata": {},
     "output_type": "execute_result"
    }
   ],
   "source": [
    "history_df = pd.DataFrame(history.history)\n",
    "history_df"
   ]
  },
  {
   "cell_type": "code",
   "execution_count": 12,
   "id": "b09663a5",
   "metadata": {},
   "outputs": [
    {
     "data": {
      "text/html": [
       "<div>\n",
       "<style scoped>\n",
       "    .dataframe tbody tr th:only-of-type {\n",
       "        vertical-align: middle;\n",
       "    }\n",
       "\n",
       "    .dataframe tbody tr th {\n",
       "        vertical-align: top;\n",
       "    }\n",
       "\n",
       "    .dataframe thead th {\n",
       "        text-align: right;\n",
       "    }\n",
       "</style>\n",
       "<table border=\"1\" class=\"dataframe\">\n",
       "  <thead>\n",
       "    <tr style=\"text-align: right;\">\n",
       "      <th></th>\n",
       "      <th>val_loss</th>\n",
       "    </tr>\n",
       "  </thead>\n",
       "  <tbody>\n",
       "    <tr>\n",
       "      <th>0</th>\n",
       "      <td>0.003082</td>\n",
       "    </tr>\n",
       "    <tr>\n",
       "      <th>1</th>\n",
       "      <td>0.003222</td>\n",
       "    </tr>\n",
       "    <tr>\n",
       "      <th>2</th>\n",
       "      <td>0.004470</td>\n",
       "    </tr>\n",
       "    <tr>\n",
       "      <th>3</th>\n",
       "      <td>0.003226</td>\n",
       "    </tr>\n",
       "  </tbody>\n",
       "</table>\n",
       "</div>"
      ],
      "text/plain": [
       "   val_loss\n",
       "0  0.003082\n",
       "1  0.003222\n",
       "2  0.004470\n",
       "3  0.003226"
      ]
     },
     "execution_count": 12,
     "metadata": {},
     "output_type": "execute_result"
    }
   ],
   "source": [
    "history_df.loc[:, ['val_loss']]"
   ]
  },
  {
   "cell_type": "code",
   "execution_count": 13,
   "id": "f3a464c0",
   "metadata": {},
   "outputs": [
    {
     "data": {
      "image/png": "[encoded data removed]",
      "text/plain": [
       "<Figure size 640x480 with 1 Axes>"
      ]
     },
     "metadata": {},
     "output_type": "display_data"
    }
   ],
   "source": [
    "history_df = pd.DataFrame(history.history)\n",
    "\n",
    "plt.plot(history_df.loc[:, ['loss']], \"#6daa9f\", label='Training loss')\n",
    "plt.plot(history_df.loc[:, ['val_loss']], \"#000\", label='Tessing loss')\n",
    "plt.title('Training and Validation loss')\n",
    "plt.xlabel('Epochs')\n",
    "plt.ylabel('Loss')\n",
    "plt.legend(loc=\"best\")\n",
    "\n",
    "plt.show()"
   ]
  },
  {
   "cell_type": "code",
   "execution_count": 14,
   "id": "98260576",
   "metadata": {},
   "outputs": [
    {
     "name": "stdout",
     "output_type": "stream",
     "text": [
      "5/5 [==============================] - 2s 76ms/step\n"
     ]
    },
    {
     "data": {
      "text/plain": [
       "12.940807726938244"
      ]
     },
     "execution_count": 14,
     "metadata": {},
     "output_type": "execute_result"
    }
   ],
   "source": [
    "# Create the testing data set\n",
    "# Create a new array containing scaled values from index 1543 to 2002 \n",
    "\n",
    "test_data = scaled_data[training_data_len - 60: , :]\n",
    "\n",
    "# Create the data sets x_test and y_test\n",
    "x_test = []\n",
    "y_test = dataset[training_data_len:, :]\n",
    "\n",
    "for i in range(60, len(test_data)):\n",
    "    x_test.append(test_data[i-60:i, 0])\n",
    "    \n",
    "# Convert the data to a numpy array\n",
    "x_test = np.array(x_test)\n",
    "\n",
    "# Reshape the data\n",
    "x_test = np.reshape(x_test, (x_test.shape[0], x_test.shape[1], 1 ))\n",
    "\n",
    "# Get the models predicted price values \n",
    "predictions = model.predict(x_test)\n",
    "predictions = scaler.inverse_transform(predictions)\n",
    "\n",
    "# Get the root mean squared error (RMSE)\n",
    "rmse = np.sqrt(np.mean(((predictions - y_test) ** 2)))\n",
    "rmse"
   ]
  },
  {
   "cell_type": "code",
   "execution_count": 15,
   "id": "33cb5994",
   "metadata": {
    "scrolled": false
   },
   "outputs": [
    {
     "name": "stderr",
     "output_type": "stream",
     "text": [
      "C:\\Users\\HP\\AppData\\Local\\Temp\\ipykernel_6876\\2388977846.py:4: SettingWithCopyWarning: \n",
      "A value is trying to be set on a copy of a slice from a DataFrame.\n",
      "Try using .loc[row_indexer,col_indexer] = value instead\n",
      "\n",
      "See the caveats in the documentation: https://pandas.pydata.org/pandas-docs/stable/user_guide/indexing.html#returning-a-view-versus-a-copy\n",
      "  valid['Predictions'] = predictions\n"
     ]
    },
    {
     "data": {
      "image/png": "[encoded data removed]",
      "text/plain": [
       "<Figure size 1600x600 with 1 Axes>"
      ]
     },
     "metadata": {},
     "output_type": "display_data"
    }
   ],
   "source": [
    "# Plot the data\n",
    "train = data[:training_data_len]\n",
    "valid = data[training_data_len:]\n",
    "valid['Predictions'] = predictions\n",
    "# Visualize the data\n",
    "plt.figure(figsize=(16,6))\n",
    "plt.title('Model')\n",
    "plt.xlabel('Date', fontsize=18)\n",
    "plt.ylabel('Close Price USD ($)', fontsize=18)\n",
    "plt.plot(train['Close'])\n",
    "plt.plot(valid[['Close', 'Predictions']])\n",
    "plt.legend(['Train', 'Val', 'Predictions'], loc='lower right')\n",
    "plt.show()"
   ]
  },
  {
   "cell_type": "code",
   "execution_count": 16,
   "id": "ba4ff1e7",
   "metadata": {},
   "outputs": [
    {
     "data": {
      "text/plain": [
       "['E:\\\\kareem\\\\book 4.2\\\\Graduation Project\\\\nvidia\\\\nvidia_validdata.h5']"
      ]
     },
     "execution_count": 16,
     "metadata": {},
     "output_type": "execute_result"
    }
   ],
   "source": [
    "joblib.dump(train, r\"E:\\kareem\\book 4.2\\Graduation Project\\nvidia\\nvidia_traindata.h5\")\n",
    "joblib.dump(valid, r\"E:\\kareem\\book 4.2\\Graduation Project\\nvidia\\nvidia_validdata.h5\")"
   ]
  },
  {
   "cell_type": "code",
   "execution_count": 17,
   "id": "377fc37c",
   "metadata": {},
   "outputs": [],
   "source": [
    "model.save(r\"E:\\kareem\\book 4.2\\Graduation Project\\nvidia\\nvidia_model.h5\")"
   ]
  },
  {
   "cell_type": "code",
   "execution_count": 18,
   "id": "cfc60a2e",
   "metadata": {},
   "outputs": [],
   "source": [
    "model = load_model(r\"E:\\kareem\\book 4.2\\Graduation Project\\nvidia\\nvidia_model.h5\")"
   ]
  },
  {
   "cell_type": "code",
   "execution_count": 19,
   "id": "60541329",
   "metadata": {},
   "outputs": [],
   "source": [
    "def predict(n):\n",
    "    \n",
    "    if (n <= 7) & (n >= 1):\n",
    "    \n",
    "        num = 1\n",
    "        last = []\n",
    "\n",
    "        last_60_value = nvidia_df[\"Close\"].iloc[-60:]\n",
    "\n",
    "        for i in last_60_value:\n",
    "            last.append(i)\n",
    "\n",
    "\n",
    "        for i in range(n):\n",
    "            np_list = np.reshape(last[-60:], (-1, 1))\n",
    "            last_csl = scaler.transform(np_list)\n",
    "            last_csl = np.reshape(last_csl, (1, 60, 1))\n",
    "\n",
    "            pred = model.predict(last_csl)\n",
    "            prediction = float(scaler.inverse_transform(pred)[0][0])\n",
    "\n",
    "            last.append(prediction)\n",
    "            print(f\"The prediction number {num} is : {prediction}\")\n",
    "            num = num + 1\n",
    "\n",
    "        return last[60:]\n",
    "    \n",
    "    return \"Sorry you must inter mostly seven days or 'week' or less\""
   ]
  },
  {
   "cell_type": "code",
   "execution_count": 20,
   "id": "82dc5476",
   "metadata": {
    "scrolled": true
   },
   "outputs": [
    {
     "name": "stdout",
     "output_type": "stream",
     "text": [
      "1/1 [==============================] - 1s 1s/step\n",
      "The prediction number 1 is : 299.2661437988281\n",
      "1/1 [==============================] - 0s 35ms/step\n",
      "The prediction number 2 is : 301.16168212890625\n",
      "1/1 [==============================] - 0s 34ms/step\n",
      "The prediction number 3 is : 303.1257019042969\n",
      "1/1 [==============================] - 0s 40ms/step\n",
      "The prediction number 4 is : 305.0853576660156\n",
      "1/1 [==============================] - 0s 38ms/step\n",
      "The prediction number 5 is : 307.00543212890625\n",
      "1/1 [==============================] - 0s 34ms/step\n",
      "The prediction number 6 is : 308.8741149902344\n",
      "1/1 [==============================] - 0s 34ms/step\n",
      "The prediction number 7 is : 310.6934509277344\n"
     ]
    },
    {
     "data": {
      "text/plain": [
       "[299.2661437988281,\n",
       " 301.16168212890625,\n",
       " 303.1257019042969,\n",
       " 305.0853576660156,\n",
       " 307.00543212890625,\n",
       " 308.8741149902344,\n",
       " 310.6934509277344]"
      ]
     },
     "execution_count": 20,
     "metadata": {},
     "output_type": "execute_result"
    }
   ],
   "source": [
    "predict(7)"
   ]
  },
  {
   "cell_type": "code",
   "execution_count": null,
   "id": "8445f22c",
   "metadata": {},
   "outputs": [],
   "source": []
  }
 ],
 "metadata": {
  "kernelspec": {
   "display_name": "Python 3 (ipykernel)",
   "language": "python",
   "name": "python3"
  },
  "language_info": {
   "codemirror_mode": {
    "name": "ipython",
    "version": 3
   },
   "file_extension": ".py",
   "mimetype": "text/x-python",
   "name": "python",
   "nbconvert_exporter": "python",
   "pygments_lexer": "ipython3",
   "version": "3.10.9"
  }
 },
 "nbformat": 4,
 "nbformat_minor": 5
}
