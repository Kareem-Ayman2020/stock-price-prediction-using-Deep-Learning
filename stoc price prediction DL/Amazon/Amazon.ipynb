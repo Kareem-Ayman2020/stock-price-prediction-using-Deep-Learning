{
 "cells": [
  {
   "cell_type": "code",
   "execution_count": 1,
   "id": "e5ca1955",
   "metadata": {},
   "outputs": [],
   "source": [
    "import pandas as pd\n",
    "import numpy as np\n",
    "import matplotlib.pyplot as plt\n",
    "import seaborn as sns\n",
    "from plotly import express as px\n",
    "from sklearn.preprocessing import StandardScaler\n",
    "from sklearn.metrics import mean_squared_error\n",
    "from tensorflow.keras.models import Sequential, load_model\n",
    "from datetime import datetime\n",
    "from pandas_datareader import data as pdr\n",
    "import yfinance as yf\n",
    "from tensorflow.keras.layers import Dense, LSTM, Dropout, BatchNormalization\n",
    "import joblib\n",
    "from sklearn.preprocessing import MinMaxScaler\n",
    "from sklearn.preprocessing import MinMaxScaler\n",
    "from tensorflow.keras.layers import Dense, Dropout, LSTM\n",
    "from tensorflow.keras.callbacks import EarlyStopping, ReduceLROnPlateau, ModelCheckpoint\n",
    "\n",
    "\n",
    "plt.style.use('fivethirtyeight')\n",
    "%matplotlib inline\n",
    "\n",
    "yf.pdr_override()"
   ]
  },
  {
   "cell_type": "code",
   "execution_count": 2,
   "id": "39dee3d7",
   "metadata": {},
   "outputs": [
    {
     "name": "stdout",
     "output_type": "stream",
     "text": [
      "[*********************100%***********************]  1 of 1 completed\n"
     ]
    }
   ],
   "source": [
    "yf.pdr_override()\n",
    "\n",
    "############################################\n",
    "end = datetime.now()\n",
    "start = datetime(end.year - 11, end.month, end.day)\n",
    "\n",
    "#############################################################################\n",
    "amazon_df = yf.download(\"AMZN\", start, end)\n"
   ]
  },
  {
   "cell_type": "code",
   "execution_count": 3,
   "id": "3dcf4cb3",
   "metadata": {},
   "outputs": [
    {
     "data": {
      "text/html": [
       "<div>\n",
       "<style scoped>\n",
       "    .dataframe tbody tr th:only-of-type {\n",
       "        vertical-align: middle;\n",
       "    }\n",
       "\n",
       "    .dataframe tbody tr th {\n",
       "        vertical-align: top;\n",
       "    }\n",
       "\n",
       "    .dataframe thead th {\n",
       "        text-align: right;\n",
       "    }\n",
       "</style>\n",
       "<table border=\"1\" class=\"dataframe\">\n",
       "  <thead>\n",
       "    <tr style=\"text-align: right;\">\n",
       "      <th></th>\n",
       "      <th>Open</th>\n",
       "      <th>High</th>\n",
       "      <th>Low</th>\n",
       "      <th>Close</th>\n",
       "      <th>Adj Close</th>\n",
       "      <th>Volume</th>\n",
       "    </tr>\n",
       "    <tr>\n",
       "      <th>Date</th>\n",
       "      <th></th>\n",
       "      <th></th>\n",
       "      <th></th>\n",
       "      <th></th>\n",
       "      <th></th>\n",
       "      <th></th>\n",
       "    </tr>\n",
       "  </thead>\n",
       "  <tbody>\n",
       "    <tr>\n",
       "      <th>2012-05-18</th>\n",
       "      <td>10.970500</td>\n",
       "      <td>10.981500</td>\n",
       "      <td>10.640500</td>\n",
       "      <td>10.692500</td>\n",
       "      <td>10.692500</td>\n",
       "      <td>104634000</td>\n",
       "    </tr>\n",
       "    <tr>\n",
       "      <th>2012-05-21</th>\n",
       "      <td>10.701500</td>\n",
       "      <td>10.999000</td>\n",
       "      <td>10.641000</td>\n",
       "      <td>10.905500</td>\n",
       "      <td>10.905500</td>\n",
       "      <td>71596000</td>\n",
       "    </tr>\n",
       "    <tr>\n",
       "      <th>2012-05-22</th>\n",
       "      <td>10.915500</td>\n",
       "      <td>10.943500</td>\n",
       "      <td>10.698000</td>\n",
       "      <td>10.766500</td>\n",
       "      <td>10.766500</td>\n",
       "      <td>74662000</td>\n",
       "    </tr>\n",
       "    <tr>\n",
       "      <th>2012-05-23</th>\n",
       "      <td>10.735500</td>\n",
       "      <td>10.877500</td>\n",
       "      <td>10.559000</td>\n",
       "      <td>10.864000</td>\n",
       "      <td>10.864000</td>\n",
       "      <td>84876000</td>\n",
       "    </tr>\n",
       "    <tr>\n",
       "      <th>2012-05-24</th>\n",
       "      <td>10.849000</td>\n",
       "      <td>10.883000</td>\n",
       "      <td>10.635000</td>\n",
       "      <td>10.762000</td>\n",
       "      <td>10.762000</td>\n",
       "      <td>62822000</td>\n",
       "    </tr>\n",
       "    <tr>\n",
       "      <th>...</th>\n",
       "      <td>...</td>\n",
       "      <td>...</td>\n",
       "      <td>...</td>\n",
       "      <td>...</td>\n",
       "      <td>...</td>\n",
       "      <td>...</td>\n",
       "    </tr>\n",
       "    <tr>\n",
       "      <th>2023-05-11</th>\n",
       "      <td>111.029999</td>\n",
       "      <td>113.279999</td>\n",
       "      <td>110.489998</td>\n",
       "      <td>112.180000</td>\n",
       "      <td>112.180000</td>\n",
       "      <td>74924800</td>\n",
       "    </tr>\n",
       "    <tr>\n",
       "      <th>2023-05-12</th>\n",
       "      <td>112.160004</td>\n",
       "      <td>112.639999</td>\n",
       "      <td>109.320000</td>\n",
       "      <td>110.260002</td>\n",
       "      <td>110.260002</td>\n",
       "      <td>49810100</td>\n",
       "    </tr>\n",
       "    <tr>\n",
       "      <th>2023-05-15</th>\n",
       "      <td>111.150002</td>\n",
       "      <td>112.290001</td>\n",
       "      <td>109.250000</td>\n",
       "      <td>111.199997</td>\n",
       "      <td>111.199997</td>\n",
       "      <td>53011100</td>\n",
       "    </tr>\n",
       "    <tr>\n",
       "      <th>2023-05-16</th>\n",
       "      <td>111.050003</td>\n",
       "      <td>114.790001</td>\n",
       "      <td>111.050003</td>\n",
       "      <td>113.400002</td>\n",
       "      <td>113.400002</td>\n",
       "      <td>71472900</td>\n",
       "    </tr>\n",
       "    <tr>\n",
       "      <th>2023-05-17</th>\n",
       "      <td>114.889999</td>\n",
       "      <td>115.830002</td>\n",
       "      <td>114.220001</td>\n",
       "      <td>115.500000</td>\n",
       "      <td>115.500000</td>\n",
       "      <td>65591800</td>\n",
       "    </tr>\n",
       "  </tbody>\n",
       "</table>\n",
       "<p>2767 rows × 6 columns</p>\n",
       "</div>"
      ],
      "text/plain": [
       "                  Open        High         Low       Close   Adj Close  \\\n",
       "Date                                                                     \n",
       "2012-05-18   10.970500   10.981500   10.640500   10.692500   10.692500   \n",
       "2012-05-21   10.701500   10.999000   10.641000   10.905500   10.905500   \n",
       "2012-05-22   10.915500   10.943500   10.698000   10.766500   10.766500   \n",
       "2012-05-23   10.735500   10.877500   10.559000   10.864000   10.864000   \n",
       "2012-05-24   10.849000   10.883000   10.635000   10.762000   10.762000   \n",
       "...                ...         ...         ...         ...         ...   \n",
       "2023-05-11  111.029999  113.279999  110.489998  112.180000  112.180000   \n",
       "2023-05-12  112.160004  112.639999  109.320000  110.260002  110.260002   \n",
       "2023-05-15  111.150002  112.290001  109.250000  111.199997  111.199997   \n",
       "2023-05-16  111.050003  114.790001  111.050003  113.400002  113.400002   \n",
       "2023-05-17  114.889999  115.830002  114.220001  115.500000  115.500000   \n",
       "\n",
       "               Volume  \n",
       "Date                   \n",
       "2012-05-18  104634000  \n",
       "2012-05-21   71596000  \n",
       "2012-05-22   74662000  \n",
       "2012-05-23   84876000  \n",
       "2012-05-24   62822000  \n",
       "...               ...  \n",
       "2023-05-11   74924800  \n",
       "2023-05-12   49810100  \n",
       "2023-05-15   53011100  \n",
       "2023-05-16   71472900  \n",
       "2023-05-17   65591800  \n",
       "\n",
       "[2767 rows x 6 columns]"
      ]
     },
     "execution_count": 3,
     "metadata": {},
     "output_type": "execute_result"
    }
   ],
   "source": [
    "amazon_df"
   ]
  },
  {
   "cell_type": "code",
   "execution_count": 4,
   "id": "8b4ba239",
   "metadata": {},
   "outputs": [
    {
     "data": {
      "text/plain": [
       "2629"
      ]
     },
     "execution_count": 4,
     "metadata": {},
     "output_type": "execute_result"
    }
   ],
   "source": [
    "# Create a new dataframe with only the 'Close column \n",
    "data = amazon_df.filter(['Close'])\n",
    "# Convert the dataframe to a numpy array\n",
    "dataset = data.values\n",
    "# Get the number of rows to train the model on\n",
    "training_data_len = int(np.ceil( len(dataset) * .95 ))\n",
    "train_data = dataset[:training_data_len]\n",
    "\n",
    "test_data = dataset[training_data_len:]\n",
    "\n",
    "training_data_len\n"
   ]
  },
  {
   "cell_type": "code",
   "execution_count": 5,
   "id": "a5de490d",
   "metadata": {},
   "outputs": [
    {
     "data": {
      "text/plain": [
       "array([[0.00159798],\n",
       "       [0.00280712],\n",
       "       [0.00201806],\n",
       "       ...,\n",
       "       [0.57214626],\n",
       "       [0.58463497],\n",
       "       [0.59655598]])"
      ]
     },
     "execution_count": 5,
     "metadata": {},
     "output_type": "execute_result"
    }
   ],
   "source": [
    "scaler = MinMaxScaler(feature_range=(0,1))\n",
    "scaler.fit(dataset)\n",
    "joblib.dump(scaler, r\"E:\\kareem\\book 4.2\\Graduation Project\\Amazon\\amazon_scaler.h5\")\n",
    "\n",
    "scaled_data = scaler.transform(dataset)\n",
    "\n",
    "\n",
    "scaled_data"
   ]
  },
  {
   "cell_type": "code",
   "execution_count": 6,
   "id": "d779381d",
   "metadata": {},
   "outputs": [
    {
     "name": "stdout",
     "output_type": "stream",
     "text": [
      "[array([0.00159798, 0.00280712, 0.00201806, 0.00257153, 0.00199251,\n",
      "       0.0013255 , 0.00185343, 0.00028667, 0.00133118, 0.        ,\n",
      "       0.00180234, 0.00141633, 0.00267371, 0.00300296, 0.00291213,\n",
      "       0.00235014, 0.00232744, 0.00184775, 0.00176828, 0.00287523,\n",
      "       0.00409856, 0.00448741, 0.00420074, 0.00350534, 0.00395664,\n",
      "       0.00336343, 0.00493587, 0.00493871, 0.00371538, 0.00571357,\n",
      "       0.00598889, 0.00604849, 0.00534742, 0.00477692, 0.00477692,\n",
      "       0.00320164, 0.00288091, 0.00202657, 0.00288659, 0.00221106,\n",
      "       0.00247219, 0.00262546, 0.00509481, 0.00569654, 0.0050494 ,\n",
      "       0.00420642, 0.00250625, 0.0033464 , 0.00825956, 0.00791044,\n",
      "       0.00711855, 0.00677511, 0.0064118 , 0.00759255, 0.00731439,\n",
      "       0.00804385, 0.00742509, 0.00733426, 0.00696244, 0.00687445])]\n",
      "[0.007087326560475858]\n",
      "\n",
      "[array([0.00159798, 0.00280712, 0.00201806, 0.00257153, 0.00199251,\n",
      "       0.0013255 , 0.00185343, 0.00028667, 0.00133118, 0.        ,\n",
      "       0.00180234, 0.00141633, 0.00267371, 0.00300296, 0.00291213,\n",
      "       0.00235014, 0.00232744, 0.00184775, 0.00176828, 0.00287523,\n",
      "       0.00409856, 0.00448741, 0.00420074, 0.00350534, 0.00395664,\n",
      "       0.00336343, 0.00493587, 0.00493871, 0.00371538, 0.00571357,\n",
      "       0.00598889, 0.00604849, 0.00534742, 0.00477692, 0.00477692,\n",
      "       0.00320164, 0.00288091, 0.00202657, 0.00288659, 0.00221106,\n",
      "       0.00247219, 0.00262546, 0.00509481, 0.00569654, 0.0050494 ,\n",
      "       0.00420642, 0.00250625, 0.0033464 , 0.00825956, 0.00791044,\n",
      "       0.00711855, 0.00677511, 0.0064118 , 0.00759255, 0.00731439,\n",
      "       0.00804385, 0.00742509, 0.00733426, 0.00696244, 0.00687445]), array([0.00280712, 0.00201806, 0.00257153, 0.00199251, 0.0013255 ,\n",
      "       0.00185343, 0.00028667, 0.00133118, 0.        , 0.00180234,\n",
      "       0.00141633, 0.00267371, 0.00300296, 0.00291213, 0.00235014,\n",
      "       0.00232744, 0.00184775, 0.00176828, 0.00287523, 0.00409856,\n",
      "       0.00448741, 0.00420074, 0.00350534, 0.00395664, 0.00336343,\n",
      "       0.00493587, 0.00493871, 0.00371538, 0.00571357, 0.00598889,\n",
      "       0.00604849, 0.00534742, 0.00477692, 0.00477692, 0.00320164,\n",
      "       0.00288091, 0.00202657, 0.00288659, 0.00221106, 0.00247219,\n",
      "       0.00262546, 0.00509481, 0.00569654, 0.0050494 , 0.00420642,\n",
      "       0.00250625, 0.0033464 , 0.00825956, 0.00791044, 0.00711855,\n",
      "       0.00677511, 0.0064118 , 0.00759255, 0.00731439, 0.00804385,\n",
      "       0.00742509, 0.00733426, 0.00696244, 0.00687445, 0.00708733])]\n",
      "[0.007087326560475858, 0.00828794403171703]\n",
      "\n"
     ]
    },
    {
     "data": {
      "text/plain": [
       "(2569, 60, 1)"
      ]
     },
     "execution_count": 6,
     "metadata": {},
     "output_type": "execute_result"
    }
   ],
   "source": [
    "# Create the training data set \n",
    "# Create the scaled training data set\n",
    "train_data = scaled_data[0:int(training_data_len), :]\n",
    "# Split the data into x_train and y_train data sets\n",
    "x_train = []\n",
    "y_train = []\n",
    "\n",
    "for i in range(60, len(train_data)):\n",
    "    x_train.append(train_data[i-60:i, 0])\n",
    "    y_train.append(train_data[i, 0])\n",
    "    if i<= 61:\n",
    "        print(x_train)\n",
    "        print(y_train)\n",
    "        print()\n",
    "        \n",
    "# Convert the x_train and y_train to numpy arrays \n",
    "x_train, y_train = np.array(x_train), np.array(y_train)\n",
    "\n",
    "# Reshape the data\n",
    "x_train = np.reshape(x_train, (x_train.shape[0], x_train.shape[1], 1))\n",
    "x_train.shape"
   ]
  },
  {
   "cell_type": "code",
   "execution_count": 7,
   "id": "5023b17b",
   "metadata": {},
   "outputs": [],
   "source": [
    "model = Sequential()\n",
    "model.add(LSTM(256, return_sequences=True, input_shape= (x_train.shape[1], 1)))\n",
    "model.add(Dropout(0.2))\n",
    "\n",
    "model.add(LSTM(128, return_sequences=True, input_shape= (x_train.shape[1], 1)))\n",
    "BatchNormalization()\n",
    "\n",
    "model.add(LSTM(64, return_sequences=False))\n",
    "model.add(Dense(64))\n",
    "model.add(Dense(1))"
   ]
  },
  {
   "cell_type": "code",
   "execution_count": 8,
   "id": "af9ff30a",
   "metadata": {},
   "outputs": [],
   "source": [
    "ckpt = ModelCheckpoint(r\"E:\\kareem\\book 4.2\\Graduation Project\\Amazon\\amazon_model.h5\", \n",
    "                       monitor='val_loss', verbose=1, save_best_only=True,mode='min')\n",
    "\n",
    "reduce_lr = ReduceLROnPlateau(monitor='val_loss', factor=0.02,\n",
    "                              patience=2, min_lr=1e-6, verbose=1)\n",
    "\n",
    "es = EarlyStopping(monitor='val_loss', patience=3, verbose=1)"
   ]
  },
  {
   "cell_type": "code",
   "execution_count": 9,
   "id": "462c4d00",
   "metadata": {},
   "outputs": [],
   "source": [
    "# Create the testing data set\n",
    "# Create a new array containing scaled values from index 1543 to 2002 \n",
    "test_data = scaled_data[training_data_len - 60: , :]\n",
    "# Create the data sets x_test and y_test\n",
    "x_test = []\n",
    "y_test = dataset[training_data_len:, :]\n",
    "for i in range(60, len(test_data)):\n",
    "    x_test.append(test_data[i-60:i, 0])\n",
    "    \n",
    "# Convert the data to a numpy array\n",
    "x_test = np.array(x_test)\n",
    "\n",
    "# Reshape the data\n",
    "x_test = np.reshape(x_test, (x_test.shape[0], x_test.shape[1], 1 ))"
   ]
  },
  {
   "cell_type": "code",
   "execution_count": 10,
   "id": "640547c4",
   "metadata": {},
   "outputs": [
    {
     "name": "stdout",
     "output_type": "stream",
     "text": [
      "Epoch 1/100\n",
      "65/65 [==============================] - ETA: 0s - loss: 0.0033\n",
      "Epoch 1: val_loss improved from inf to 0.00329, saving model to E:\\kareem\\book 4.2\\Graduation Project\\Amazon\\amazon_model.h5\n",
      "65/65 [==============================] - 26s 309ms/step - loss: 0.0033 - val_loss: 0.0033 - lr: 0.0010\n",
      "Epoch 2/100\n",
      "65/65 [==============================] - ETA: 0s - loss: 5.0813e-04\n",
      "Epoch 2: val_loss improved from 0.00329 to 0.00314, saving model to E:\\kareem\\book 4.2\\Graduation Project\\Amazon\\amazon_model.h5\n",
      "65/65 [==============================] - 17s 269ms/step - loss: 5.0813e-04 - val_loss: 0.0031 - lr: 0.0010\n",
      "Epoch 3/100\n",
      "65/65 [==============================] - ETA: 0s - loss: 4.2279e-04\n",
      "Epoch 3: val_loss improved from 0.00314 to 0.00253, saving model to E:\\kareem\\book 4.2\\Graduation Project\\Amazon\\amazon_model.h5\n",
      "65/65 [==============================] - 19s 292ms/step - loss: 4.2279e-04 - val_loss: 0.0025 - lr: 0.0010\n",
      "Epoch 4/100\n",
      "65/65 [==============================] - ETA: 0s - loss: 3.7371e-04\n",
      "Epoch 4: val_loss improved from 0.00253 to 0.00185, saving model to E:\\kareem\\book 4.2\\Graduation Project\\Amazon\\amazon_model.h5\n",
      "65/65 [==============================] - 19s 291ms/step - loss: 3.7371e-04 - val_loss: 0.0018 - lr: 0.0010\n",
      "Epoch 5/100\n",
      "65/65 [==============================] - ETA: 0s - loss: 3.3804e-04\n",
      "Epoch 5: val_loss did not improve from 0.00185\n",
      "65/65 [==============================] - 19s 295ms/step - loss: 3.3804e-04 - val_loss: 0.0022 - lr: 0.0010\n",
      "Epoch 6/100\n",
      "65/65 [==============================] - ETA: 0s - loss: 3.0935e-04\n",
      "Epoch 6: val_loss did not improve from 0.00185\n",
      "\n",
      "Epoch 6: ReduceLROnPlateau reducing learning rate to 2.0000000949949027e-05.\n",
      "65/65 [==============================] - 19s 294ms/step - loss: 3.0935e-04 - val_loss: 0.0048 - lr: 0.0010\n",
      "Epoch 7/100\n",
      "65/65 [==============================] - ETA: 0s - loss: 3.5397e-04\n",
      "Epoch 7: val_loss improved from 0.00185 to 0.00156, saving model to E:\\kareem\\book 4.2\\Graduation Project\\Amazon\\amazon_model.h5\n",
      "65/65 [==============================] - 19s 288ms/step - loss: 3.5397e-04 - val_loss: 0.0016 - lr: 2.0000e-05\n",
      "Epoch 8/100\n",
      "65/65 [==============================] - ETA: 0s - loss: 2.3925e-04\n",
      "Epoch 8: val_loss did not improve from 0.00156\n",
      "65/65 [==============================] - 19s 292ms/step - loss: 2.3925e-04 - val_loss: 0.0016 - lr: 2.0000e-05\n",
      "Epoch 9/100\n",
      "65/65 [==============================] - ETA: 0s - loss: 2.3147e-04\n",
      "Epoch 9: val_loss did not improve from 0.00156\n",
      "\n",
      "Epoch 9: ReduceLROnPlateau reducing learning rate to 1e-06.\n",
      "65/65 [==============================] - 21s 317ms/step - loss: 2.3147e-04 - val_loss: 0.0016 - lr: 2.0000e-05\n",
      "Epoch 10/100\n",
      "65/65 [==============================] - ETA: 0s - loss: 2.3143e-04\n",
      "Epoch 10: val_loss did not improve from 0.00156\n",
      "65/65 [==============================] - 23s 362ms/step - loss: 2.3143e-04 - val_loss: 0.0016 - lr: 1.0000e-06\n",
      "Epoch 10: early stopping\n"
     ]
    }
   ],
   "source": [
    "# Compile the model\n",
    "model.compile(optimizer='adam', loss='mean_squared_error')\n",
    "\n",
    "# Train the model\n",
    "history = model.fit(x_train, y_train, epochs=100, verbose=1, \n",
    "                    batch_size=32, validation_split=0.2, \n",
    "                    callbacks=[ckpt, reduce_lr, es])"
   ]
  },
  {
   "cell_type": "code",
   "execution_count": 11,
   "id": "5fee150a",
   "metadata": {},
   "outputs": [
    {
     "data": {
      "text/html": [
       "<div>\n",
       "<style scoped>\n",
       "    .dataframe tbody tr th:only-of-type {\n",
       "        vertical-align: middle;\n",
       "    }\n",
       "\n",
       "    .dataframe tbody tr th {\n",
       "        vertical-align: top;\n",
       "    }\n",
       "\n",
       "    .dataframe thead th {\n",
       "        text-align: right;\n",
       "    }\n",
       "</style>\n",
       "<table border=\"1\" class=\"dataframe\">\n",
       "  <thead>\n",
       "    <tr style=\"text-align: right;\">\n",
       "      <th></th>\n",
       "      <th>loss</th>\n",
       "      <th>val_loss</th>\n",
       "      <th>lr</th>\n",
       "    </tr>\n",
       "  </thead>\n",
       "  <tbody>\n",
       "    <tr>\n",
       "      <th>0</th>\n",
       "      <td>0.003270</td>\n",
       "      <td>0.003292</td>\n",
       "      <td>0.001000</td>\n",
       "    </tr>\n",
       "    <tr>\n",
       "      <th>1</th>\n",
       "      <td>0.000508</td>\n",
       "      <td>0.003140</td>\n",
       "      <td>0.001000</td>\n",
       "    </tr>\n",
       "    <tr>\n",
       "      <th>2</th>\n",
       "      <td>0.000423</td>\n",
       "      <td>0.002527</td>\n",
       "      <td>0.001000</td>\n",
       "    </tr>\n",
       "    <tr>\n",
       "      <th>3</th>\n",
       "      <td>0.000374</td>\n",
       "      <td>0.001848</td>\n",
       "      <td>0.001000</td>\n",
       "    </tr>\n",
       "    <tr>\n",
       "      <th>4</th>\n",
       "      <td>0.000338</td>\n",
       "      <td>0.002211</td>\n",
       "      <td>0.001000</td>\n",
       "    </tr>\n",
       "    <tr>\n",
       "      <th>5</th>\n",
       "      <td>0.000309</td>\n",
       "      <td>0.004780</td>\n",
       "      <td>0.001000</td>\n",
       "    </tr>\n",
       "    <tr>\n",
       "      <th>6</th>\n",
       "      <td>0.000354</td>\n",
       "      <td>0.001558</td>\n",
       "      <td>0.000020</td>\n",
       "    </tr>\n",
       "    <tr>\n",
       "      <th>7</th>\n",
       "      <td>0.000239</td>\n",
       "      <td>0.001592</td>\n",
       "      <td>0.000020</td>\n",
       "    </tr>\n",
       "    <tr>\n",
       "      <th>8</th>\n",
       "      <td>0.000231</td>\n",
       "      <td>0.001606</td>\n",
       "      <td>0.000020</td>\n",
       "    </tr>\n",
       "    <tr>\n",
       "      <th>9</th>\n",
       "      <td>0.000231</td>\n",
       "      <td>0.001611</td>\n",
       "      <td>0.000001</td>\n",
       "    </tr>\n",
       "  </tbody>\n",
       "</table>\n",
       "</div>"
      ],
      "text/plain": [
       "       loss  val_loss        lr\n",
       "0  0.003270  0.003292  0.001000\n",
       "1  0.000508  0.003140  0.001000\n",
       "2  0.000423  0.002527  0.001000\n",
       "3  0.000374  0.001848  0.001000\n",
       "4  0.000338  0.002211  0.001000\n",
       "5  0.000309  0.004780  0.001000\n",
       "6  0.000354  0.001558  0.000020\n",
       "7  0.000239  0.001592  0.000020\n",
       "8  0.000231  0.001606  0.000020\n",
       "9  0.000231  0.001611  0.000001"
      ]
     },
     "execution_count": 11,
     "metadata": {},
     "output_type": "execute_result"
    }
   ],
   "source": [
    "history_df = pd.DataFrame(history.history)\n",
    "history_df"
   ]
  },
  {
   "cell_type": "code",
   "execution_count": 12,
   "id": "b09663a5",
   "metadata": {},
   "outputs": [
    {
     "data": {
      "text/html": [
       "<div>\n",
       "<style scoped>\n",
       "    .dataframe tbody tr th:only-of-type {\n",
       "        vertical-align: middle;\n",
       "    }\n",
       "\n",
       "    .dataframe tbody tr th {\n",
       "        vertical-align: top;\n",
       "    }\n",
       "\n",
       "    .dataframe thead th {\n",
       "        text-align: right;\n",
       "    }\n",
       "</style>\n",
       "<table border=\"1\" class=\"dataframe\">\n",
       "  <thead>\n",
       "    <tr style=\"text-align: right;\">\n",
       "      <th></th>\n",
       "      <th>val_loss</th>\n",
       "    </tr>\n",
       "  </thead>\n",
       "  <tbody>\n",
       "    <tr>\n",
       "      <th>0</th>\n",
       "      <td>0.003292</td>\n",
       "    </tr>\n",
       "    <tr>\n",
       "      <th>1</th>\n",
       "      <td>0.003140</td>\n",
       "    </tr>\n",
       "    <tr>\n",
       "      <th>2</th>\n",
       "      <td>0.002527</td>\n",
       "    </tr>\n",
       "    <tr>\n",
       "      <th>3</th>\n",
       "      <td>0.001848</td>\n",
       "    </tr>\n",
       "    <tr>\n",
       "      <th>4</th>\n",
       "      <td>0.002211</td>\n",
       "    </tr>\n",
       "    <tr>\n",
       "      <th>5</th>\n",
       "      <td>0.004780</td>\n",
       "    </tr>\n",
       "    <tr>\n",
       "      <th>6</th>\n",
       "      <td>0.001558</td>\n",
       "    </tr>\n",
       "    <tr>\n",
       "      <th>7</th>\n",
       "      <td>0.001592</td>\n",
       "    </tr>\n",
       "    <tr>\n",
       "      <th>8</th>\n",
       "      <td>0.001606</td>\n",
       "    </tr>\n",
       "    <tr>\n",
       "      <th>9</th>\n",
       "      <td>0.001611</td>\n",
       "    </tr>\n",
       "  </tbody>\n",
       "</table>\n",
       "</div>"
      ],
      "text/plain": [
       "   val_loss\n",
       "0  0.003292\n",
       "1  0.003140\n",
       "2  0.002527\n",
       "3  0.001848\n",
       "4  0.002211\n",
       "5  0.004780\n",
       "6  0.001558\n",
       "7  0.001592\n",
       "8  0.001606\n",
       "9  0.001611"
      ]
     },
     "execution_count": 12,
     "metadata": {},
     "output_type": "execute_result"
    }
   ],
   "source": [
    "history_df.loc[:, ['val_loss']]"
   ]
  },
  {
   "cell_type": "code",
   "execution_count": 13,
   "id": "f3a464c0",
   "metadata": {},
   "outputs": [
    {
     "data": {
      "image/png": "[encoded data removed]",
      "text/plain": [
       "<Figure size 640x480 with 1 Axes>"
      ]
     },
     "metadata": {},
     "output_type": "display_data"
    }
   ],
   "source": [
    "history_df = pd.DataFrame(history.history)\n",
    "\n",
    "plt.plot(history_df.loc[:, ['loss']], \"#6daa9f\", label='Training loss')\n",
    "plt.plot(history_df.loc[:, ['val_loss']], \"#000\", label='Tessing loss')\n",
    "plt.title('Training and Validation loss')\n",
    "plt.xlabel('Epochs')\n",
    "plt.ylabel('Loss')\n",
    "plt.legend(loc=\"best\")\n",
    "\n",
    "plt.show()"
   ]
  },
  {
   "cell_type": "code",
   "execution_count": 14,
   "id": "98260576",
   "metadata": {},
   "outputs": [
    {
     "name": "stdout",
     "output_type": "stream",
     "text": [
      "5/5 [==============================] - 2s 78ms/step\n"
     ]
    },
    {
     "data": {
      "text/plain": [
       "6.021998408326985"
      ]
     },
     "execution_count": 14,
     "metadata": {},
     "output_type": "execute_result"
    }
   ],
   "source": [
    "# Create the testing data set\n",
    "# Create a new array containing scaled values from index 1543 to 2002 \n",
    "\n",
    "test_data = scaled_data[training_data_len - 60: , :]\n",
    "\n",
    "# Create the data sets x_test and y_test\n",
    "x_test = []\n",
    "y_test = dataset[training_data_len:, :]\n",
    "\n",
    "for i in range(60, len(test_data)):\n",
    "    x_test.append(test_data[i-60:i, 0])\n",
    "    \n",
    "# Convert the data to a numpy array\n",
    "x_test = np.array(x_test)\n",
    "\n",
    "# Reshape the data\n",
    "x_test = np.reshape(x_test, (x_test.shape[0], x_test.shape[1], 1 ))\n",
    "\n",
    "# Get the models predicted price values \n",
    "predictions = model.predict(x_test)\n",
    "predictions = scaler.inverse_transform(predictions)\n",
    "\n",
    "# Get the root mean squared error (RMSE)\n",
    "rmse = np.sqrt(np.mean(((predictions - y_test) ** 2)))\n",
    "rmse"
   ]
  },
  {
   "cell_type": "code",
   "execution_count": 15,
   "id": "33cb5994",
   "metadata": {
    "scrolled": false
   },
   "outputs": [
    {
     "name": "stderr",
     "output_type": "stream",
     "text": [
      "C:\\Users\\HP\\AppData\\Local\\Temp\\ipykernel_1104\\2388977846.py:4: SettingWithCopyWarning: \n",
      "A value is trying to be set on a copy of a slice from a DataFrame.\n",
      "Try using .loc[row_indexer,col_indexer] = value instead\n",
      "\n",
      "See the caveats in the documentation: https://pandas.pydata.org/pandas-docs/stable/user_guide/indexing.html#returning-a-view-versus-a-copy\n",
      "  valid['Predictions'] = predictions\n"
     ]
    },
    {
     "data": {
      "image/png": "[encoded data removed]",
      "text/plain": [
       "<Figure size 1600x600 with 1 Axes>"
      ]
     },
     "metadata": {},
     "output_type": "display_data"
    }
   ],
   "source": [
    "# Plot the data\n",
    "train = data[:training_data_len]\n",
    "valid = data[training_data_len:]\n",
    "valid['Predictions'] = predictions\n",
    "# Visualize the data\n",
    "plt.figure(figsize=(16,6))\n",
    "plt.title('Model')\n",
    "plt.xlabel('Date', fontsize=18)\n",
    "plt.ylabel('Close Price USD ($)', fontsize=18)\n",
    "plt.plot(train['Close'])\n",
    "plt.plot(valid[['Close', 'Predictions']])\n",
    "plt.legend(['Train', 'Val', 'Predictions'], loc='lower right')\n",
    "plt.show()"
   ]
  },
  {
   "cell_type": "code",
   "execution_count": 16,
   "id": "ba4ff1e7",
   "metadata": {},
   "outputs": [
    {
     "data": {
      "text/plain": [
       "['E:\\\\kareem\\\\book 4.2\\\\Graduation Project\\\\Amazon\\\\amazon_validdata.h5']"
      ]
     },
     "execution_count": 16,
     "metadata": {},
     "output_type": "execute_result"
    }
   ],
   "source": [
    "joblib.dump(train, r\"E:\\kareem\\book 4.2\\Graduation Project\\Amazon\\amazon_traindata.h5\")\n",
    "joblib.dump(valid, r\"E:\\kareem\\book 4.2\\Graduation Project\\Amazon\\amazon_validdata.h5\")"
   ]
  },
  {
   "cell_type": "code",
   "execution_count": 17,
   "id": "377fc37c",
   "metadata": {},
   "outputs": [],
   "source": [
    "model.save(r\"E:\\kareem\\book 4.2\\Graduation Project\\Amazon\\amazon_model.h5\")"
   ]
  },
  {
   "cell_type": "code",
   "execution_count": 18,
   "id": "cfc60a2e",
   "metadata": {},
   "outputs": [],
   "source": [
    "model = load_model(r\"E:\\kareem\\book 4.2\\Graduation Project\\Amazon\\amazon_model.h5\")"
   ]
  },
  {
   "cell_type": "code",
   "execution_count": 19,
   "id": "60541329",
   "metadata": {},
   "outputs": [],
   "source": [
    "def predict(n):\n",
    "    \n",
    "    if (n <= 7) & (n >= 1):\n",
    "    \n",
    "        num = 1\n",
    "        last = []\n",
    "\n",
    "        last_60_value = amazon_df[\"Close\"].iloc[-60:]\n",
    "\n",
    "        for i in last_60_value:\n",
    "            last.append(i)\n",
    "\n",
    "\n",
    "        for i in range(n):\n",
    "            np_list = np.reshape(last[-60:], (-1, 1))\n",
    "            last_csl = scaler.transform(np_list)\n",
    "            last_csl = np.reshape(last_csl, (1, 60, 1))\n",
    "\n",
    "            pred = model.predict(last_csl)\n",
    "            prediction = float(scaler.inverse_transform(pred)[0][0])\n",
    "\n",
    "            last.append(prediction)\n",
    "            print(f\"The prediction number {num} is : {prediction}\")\n",
    "            num = num + 1\n",
    "\n",
    "        return last[60:]\n",
    "    \n",
    "    return \"Sorry you must inter mostly seven days or 'week' or less\""
   ]
  },
  {
   "cell_type": "code",
   "execution_count": 20,
   "id": "82dc5476",
   "metadata": {
    "scrolled": true
   },
   "outputs": [
    {
     "name": "stdout",
     "output_type": "stream",
     "text": [
      "1/1 [==============================] - 1s 1s/step\n",
      "The prediction number 1 is : 110.02001953125\n",
      "1/1 [==============================] - 0s 36ms/step\n",
      "The prediction number 2 is : 110.96107482910156\n",
      "1/1 [==============================] - 0s 36ms/step\n",
      "The prediction number 3 is : 111.72798156738281\n",
      "1/1 [==============================] - 0s 37ms/step\n",
      "The prediction number 4 is : 112.30972290039062\n",
      "1/1 [==============================] - 0s 33ms/step\n",
      "The prediction number 5 is : 112.73292541503906\n",
      "1/1 [==============================] - 0s 42ms/step\n",
      "The prediction number 6 is : 113.0389175415039\n",
      "1/1 [==============================] - 0s 35ms/step\n",
      "The prediction number 7 is : 113.26876831054688\n"
     ]
    },
    {
     "data": {
      "text/plain": [
       "[110.02001953125,\n",
       " 110.96107482910156,\n",
       " 111.72798156738281,\n",
       " 112.30972290039062,\n",
       " 112.73292541503906,\n",
       " 113.0389175415039,\n",
       " 113.26876831054688]"
      ]
     },
     "execution_count": 20,
     "metadata": {},
     "output_type": "execute_result"
    }
   ],
   "source": [
    "predict(7)"
   ]
  },
  {
   "cell_type": "code",
   "execution_count": null,
   "id": "8445f22c",
   "metadata": {},
   "outputs": [],
   "source": []
  }
 ],
 "metadata": {
  "kernelspec": {
   "display_name": "Python 3 (ipykernel)",
   "language": "python",
   "name": "python3"
  },
  "language_info": {
   "codemirror_mode": {
    "name": "ipython",
    "version": 3
   },
   "file_extension": ".py",
   "mimetype": "text/x-python",
   "name": "python",
   "nbconvert_exporter": "python",
   "pygments_lexer": "ipython3",
   "version": "3.10.9"
  }
 },
 "nbformat": 4,
 "nbformat_minor": 5
}
