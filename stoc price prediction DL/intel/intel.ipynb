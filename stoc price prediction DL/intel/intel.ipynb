{
 "cells": [
  {
   "cell_type": "code",
   "execution_count": 1,
   "id": "e5ca1955",
   "metadata": {},
   "outputs": [],
   "source": [
    "import pandas as pd\n",
    "import numpy as np\n",
    "import matplotlib.pyplot as plt\n",
    "import seaborn as sns\n",
    "from plotly import express as px\n",
    "from sklearn.preprocessing import StandardScaler\n",
    "from sklearn.metrics import mean_squared_error\n",
    "from tensorflow.keras.models import Sequential, load_model\n",
    "from datetime import datetime\n",
    "from pandas_datareader import data as pdr\n",
    "import yfinance as yf\n",
    "from tensorflow.keras.layers import Dense, LSTM, Dropout, BatchNormalization\n",
    "import joblib\n",
    "from sklearn.preprocessing import MinMaxScaler\n",
    "from sklearn.preprocessing import MinMaxScaler\n",
    "from tensorflow.keras.layers import Dense, Dropout, LSTM\n",
    "from tensorflow.keras.callbacks import EarlyStopping, ReduceLROnPlateau, ModelCheckpoint\n",
    "\n",
    "\n",
    "plt.style.use('fivethirtyeight')\n",
    "%matplotlib inline\n",
    "\n",
    "yf.pdr_override()"
   ]
  },
  {
   "cell_type": "code",
   "execution_count": 3,
   "id": "39dee3d7",
   "metadata": {},
   "outputs": [
    {
     "name": "stdout",
     "output_type": "stream",
     "text": [
      "[*********************100%***********************]  1 of 1 completed\n"
     ]
    }
   ],
   "source": [
    "yf.pdr_override()\n",
    "\n",
    "############################################\n",
    "end = datetime.now()\n",
    "start = datetime(end.year - 11, end.month, end.day)\n",
    "\n",
    "#############################################################################\n",
    "intel_df = yf.download(\"INTC\", start, end)\n"
   ]
  },
  {
   "cell_type": "code",
   "execution_count": 4,
   "id": "3dcf4cb3",
   "metadata": {},
   "outputs": [
    {
     "data": {
      "text/html": [
       "<div>\n",
       "<style scoped>\n",
       "    .dataframe tbody tr th:only-of-type {\n",
       "        vertical-align: middle;\n",
       "    }\n",
       "\n",
       "    .dataframe tbody tr th {\n",
       "        vertical-align: top;\n",
       "    }\n",
       "\n",
       "    .dataframe thead th {\n",
       "        text-align: right;\n",
       "    }\n",
       "</style>\n",
       "<table border=\"1\" class=\"dataframe\">\n",
       "  <thead>\n",
       "    <tr style=\"text-align: right;\">\n",
       "      <th></th>\n",
       "      <th>Open</th>\n",
       "      <th>High</th>\n",
       "      <th>Low</th>\n",
       "      <th>Close</th>\n",
       "      <th>Adj Close</th>\n",
       "      <th>Volume</th>\n",
       "    </tr>\n",
       "    <tr>\n",
       "      <th>Date</th>\n",
       "      <th></th>\n",
       "      <th></th>\n",
       "      <th></th>\n",
       "      <th></th>\n",
       "      <th></th>\n",
       "      <th></th>\n",
       "    </tr>\n",
       "  </thead>\n",
       "  <tbody>\n",
       "    <tr>\n",
       "      <th>2012-05-18</th>\n",
       "      <td>26.240000</td>\n",
       "      <td>26.570000</td>\n",
       "      <td>26.049999</td>\n",
       "      <td>26.070000</td>\n",
       "      <td>18.665682</td>\n",
       "      <td>43444900</td>\n",
       "    </tr>\n",
       "    <tr>\n",
       "      <th>2012-05-21</th>\n",
       "      <td>26.059999</td>\n",
       "      <td>26.190001</td>\n",
       "      <td>25.680000</td>\n",
       "      <td>26.150000</td>\n",
       "      <td>18.722956</td>\n",
       "      <td>41389400</td>\n",
       "    </tr>\n",
       "    <tr>\n",
       "      <th>2012-05-22</th>\n",
       "      <td>26.270000</td>\n",
       "      <td>26.280001</td>\n",
       "      <td>25.780001</td>\n",
       "      <td>26.030001</td>\n",
       "      <td>18.637041</td>\n",
       "      <td>46037700</td>\n",
       "    </tr>\n",
       "    <tr>\n",
       "      <th>2012-05-23</th>\n",
       "      <td>25.469999</td>\n",
       "      <td>25.510000</td>\n",
       "      <td>24.920000</td>\n",
       "      <td>25.440001</td>\n",
       "      <td>18.214611</td>\n",
       "      <td>61969600</td>\n",
       "    </tr>\n",
       "    <tr>\n",
       "      <th>2012-05-24</th>\n",
       "      <td>25.570000</td>\n",
       "      <td>25.780001</td>\n",
       "      <td>25.309999</td>\n",
       "      <td>25.650000</td>\n",
       "      <td>18.364965</td>\n",
       "      <td>37129200</td>\n",
       "    </tr>\n",
       "    <tr>\n",
       "      <th>...</th>\n",
       "      <td>...</td>\n",
       "      <td>...</td>\n",
       "      <td>...</td>\n",
       "      <td>...</td>\n",
       "      <td>...</td>\n",
       "      <td>...</td>\n",
       "    </tr>\n",
       "    <tr>\n",
       "      <th>2023-05-12</th>\n",
       "      <td>29.030001</td>\n",
       "      <td>29.100000</td>\n",
       "      <td>28.719999</td>\n",
       "      <td>28.950001</td>\n",
       "      <td>28.950001</td>\n",
       "      <td>24147300</td>\n",
       "    </tr>\n",
       "    <tr>\n",
       "      <th>2023-05-15</th>\n",
       "      <td>28.900000</td>\n",
       "      <td>29.830000</td>\n",
       "      <td>28.879999</td>\n",
       "      <td>29.799999</td>\n",
       "      <td>29.799999</td>\n",
       "      <td>28717500</td>\n",
       "    </tr>\n",
       "    <tr>\n",
       "      <th>2023-05-16</th>\n",
       "      <td>29.620001</td>\n",
       "      <td>29.900000</td>\n",
       "      <td>29.209999</td>\n",
       "      <td>29.219999</td>\n",
       "      <td>29.219999</td>\n",
       "      <td>22812000</td>\n",
       "    </tr>\n",
       "    <tr>\n",
       "      <th>2023-05-17</th>\n",
       "      <td>29.520000</td>\n",
       "      <td>29.559999</td>\n",
       "      <td>28.680000</td>\n",
       "      <td>28.870001</td>\n",
       "      <td>28.870001</td>\n",
       "      <td>41642600</td>\n",
       "    </tr>\n",
       "    <tr>\n",
       "      <th>2023-05-18</th>\n",
       "      <td>29.000000</td>\n",
       "      <td>29.719999</td>\n",
       "      <td>28.872000</td>\n",
       "      <td>29.417299</td>\n",
       "      <td>29.417299</td>\n",
       "      <td>16866082</td>\n",
       "    </tr>\n",
       "  </tbody>\n",
       "</table>\n",
       "<p>2768 rows × 6 columns</p>\n",
       "</div>"
      ],
      "text/plain": [
       "                 Open       High        Low      Close  Adj Close    Volume\n",
       "Date                                                                       \n",
       "2012-05-18  26.240000  26.570000  26.049999  26.070000  18.665682  43444900\n",
       "2012-05-21  26.059999  26.190001  25.680000  26.150000  18.722956  41389400\n",
       "2012-05-22  26.270000  26.280001  25.780001  26.030001  18.637041  46037700\n",
       "2012-05-23  25.469999  25.510000  24.920000  25.440001  18.214611  61969600\n",
       "2012-05-24  25.570000  25.780001  25.309999  25.650000  18.364965  37129200\n",
       "...               ...        ...        ...        ...        ...       ...\n",
       "2023-05-12  29.030001  29.100000  28.719999  28.950001  28.950001  24147300\n",
       "2023-05-15  28.900000  29.830000  28.879999  29.799999  29.799999  28717500\n",
       "2023-05-16  29.620001  29.900000  29.209999  29.219999  29.219999  22812000\n",
       "2023-05-17  29.520000  29.559999  28.680000  28.870001  28.870001  41642600\n",
       "2023-05-18  29.000000  29.719999  28.872000  29.417299  29.417299  16866082\n",
       "\n",
       "[2768 rows x 6 columns]"
      ]
     },
     "execution_count": 4,
     "metadata": {},
     "output_type": "execute_result"
    }
   ],
   "source": [
    "intel_df"
   ]
  },
  {
   "cell_type": "code",
   "execution_count": 5,
   "id": "8b4ba239",
   "metadata": {},
   "outputs": [
    {
     "data": {
      "text/plain": [
       "2630"
      ]
     },
     "execution_count": 5,
     "metadata": {},
     "output_type": "execute_result"
    }
   ],
   "source": [
    "# Create a new dataframe with only the 'Close column \n",
    "data = intel_df.filter(['Close'])\n",
    "# Convert the dataframe to a numpy array\n",
    "dataset = data.values\n",
    "# Get the number of rows to train the model on\n",
    "training_data_len = int(np.ceil( len(dataset) * .95 ))\n",
    "train_data = dataset[:training_data_len]\n",
    "\n",
    "test_data = dataset[training_data_len:]\n",
    "\n",
    "training_data_len\n"
   ]
  },
  {
   "cell_type": "code",
   "execution_count": 6,
   "id": "a5de490d",
   "metadata": {},
   "outputs": [
    {
     "data": {
      "text/plain": [
       "array([[0.13663203],\n",
       "       [0.13826102],\n",
       "       [0.13581755],\n",
       "       ...,\n",
       "       [0.20077374],\n",
       "       [0.19364692],\n",
       "       [0.20479126]])"
      ]
     },
     "execution_count": 6,
     "metadata": {},
     "output_type": "execute_result"
    }
   ],
   "source": [
    "scaler = MinMaxScaler(feature_range=(0,1))\n",
    "scaler.fit(dataset)\n",
    "joblib.dump(scaler, r\"E:\\kareem\\book 4.2\\Graduation Project\\intel\\intel_scaler.h5\")\n",
    "\n",
    "scaled_data = scaler.transform(dataset)\n",
    "\n",
    "\n",
    "scaled_data"
   ]
  },
  {
   "cell_type": "code",
   "execution_count": 7,
   "id": "d779381d",
   "metadata": {},
   "outputs": [
    {
     "name": "stdout",
     "output_type": "stream",
     "text": [
      "[array([0.13663203, 0.13826102, 0.13581755, 0.1238037 , 0.1280798 ,\n",
      "       0.12991242, 0.13703929, 0.13785377, 0.13194868, 0.11769494,\n",
      "       0.11565873, 0.12360007, 0.13663203, 0.13398493, 0.14355527,\n",
      "       0.13500304, 0.14579515, 0.14620241, 0.15516186, 0.16249235,\n",
      "       0.16412135, 0.16595397, 0.16860107, 0.14966399, 0.15434738,\n",
      "       0.13622477, 0.13541029, 0.13968639, 0.13174505, 0.14844225,\n",
      "       0.14884951, 0.15271839, 0.146406  , 0.13846465, 0.13866828,\n",
      "       0.12624718, 0.12278556, 0.10954997, 0.11993483, 0.11749131,\n",
      "       0.12258193, 0.13948276, 0.1364284 , 0.1254327 , 0.12013846,\n",
      "       0.11504784, 0.11749131, 0.12502544, 0.13561392, 0.13031968,\n",
      "       0.12909794, 0.1337813 , 0.13337404, 0.13989002, 0.14151901,\n",
      "       0.14538789, 0.14742414, 0.1494604 , 0.1531256 , 0.14925677])]\n",
      "[0.14498063211964185]\n",
      "\n",
      "[array([0.13663203, 0.13826102, 0.13581755, 0.1238037 , 0.1280798 ,\n",
      "       0.12991242, 0.13703929, 0.13785377, 0.13194868, 0.11769494,\n",
      "       0.11565873, 0.12360007, 0.13663203, 0.13398493, 0.14355527,\n",
      "       0.13500304, 0.14579515, 0.14620241, 0.15516186, 0.16249235,\n",
      "       0.16412135, 0.16595397, 0.16860107, 0.14966399, 0.15434738,\n",
      "       0.13622477, 0.13541029, 0.13968639, 0.13174505, 0.14844225,\n",
      "       0.14884951, 0.15271839, 0.146406  , 0.13846465, 0.13866828,\n",
      "       0.12624718, 0.12278556, 0.10954997, 0.11993483, 0.11749131,\n",
      "       0.12258193, 0.13948276, 0.1364284 , 0.1254327 , 0.12013846,\n",
      "       0.11504784, 0.11749131, 0.12502544, 0.13561392, 0.13031968,\n",
      "       0.12909794, 0.1337813 , 0.13337404, 0.13989002, 0.14151901,\n",
      "       0.14538789, 0.14742414, 0.1494604 , 0.1531256 , 0.14925677]), array([0.13826102, 0.13581755, 0.1238037 , 0.1280798 , 0.12991242,\n",
      "       0.13703929, 0.13785377, 0.13194868, 0.11769494, 0.11565873,\n",
      "       0.12360007, 0.13663203, 0.13398493, 0.14355527, 0.13500304,\n",
      "       0.14579515, 0.14620241, 0.15516186, 0.16249235, 0.16412135,\n",
      "       0.16595397, 0.16860107, 0.14966399, 0.15434738, 0.13622477,\n",
      "       0.13541029, 0.13968639, 0.13174505, 0.14844225, 0.14884951,\n",
      "       0.15271839, 0.146406  , 0.13846465, 0.13866828, 0.12624718,\n",
      "       0.12278556, 0.10954997, 0.11993483, 0.11749131, 0.12258193,\n",
      "       0.13948276, 0.1364284 , 0.1254327 , 0.12013846, 0.11504784,\n",
      "       0.11749131, 0.12502544, 0.13561392, 0.13031968, 0.12909794,\n",
      "       0.1337813 , 0.13337404, 0.13989002, 0.14151901, 0.14538789,\n",
      "       0.14742414, 0.1494604 , 0.1531256 , 0.14925677, 0.14498063])]\n",
      "[0.14498063211964185, 0.14070453597094024]\n",
      "\n"
     ]
    },
    {
     "data": {
      "text/plain": [
       "(2570, 60, 1)"
      ]
     },
     "execution_count": 7,
     "metadata": {},
     "output_type": "execute_result"
    }
   ],
   "source": [
    "# Create the training data set \n",
    "# Create the scaled training data set\n",
    "train_data = scaled_data[0:int(training_data_len), :]\n",
    "# Split the data into x_train and y_train data sets\n",
    "x_train = []\n",
    "y_train = []\n",
    "\n",
    "for i in range(60, len(train_data)):\n",
    "    x_train.append(train_data[i-60:i, 0])\n",
    "    y_train.append(train_data[i, 0])\n",
    "    if i<= 61:\n",
    "        print(x_train)\n",
    "        print(y_train)\n",
    "        print()\n",
    "        \n",
    "# Convert the x_train and y_train to numpy arrays \n",
    "x_train, y_train = np.array(x_train), np.array(y_train)\n",
    "\n",
    "# Reshape the data\n",
    "x_train = np.reshape(x_train, (x_train.shape[0], x_train.shape[1], 1))\n",
    "x_train.shape"
   ]
  },
  {
   "cell_type": "code",
   "execution_count": 8,
   "id": "5023b17b",
   "metadata": {},
   "outputs": [],
   "source": [
    "model = Sequential()\n",
    "model.add(LSTM(256, return_sequences=True, input_shape= (x_train.shape[1], 1)))\n",
    "model.add(Dropout(0.2))\n",
    "\n",
    "model.add(LSTM(128, return_sequences=True, input_shape= (x_train.shape[1], 1)))\n",
    "BatchNormalization()\n",
    "\n",
    "model.add(LSTM(64, return_sequences=False))\n",
    "model.add(Dense(64))\n",
    "model.add(Dense(1))"
   ]
  },
  {
   "cell_type": "code",
   "execution_count": 9,
   "id": "af9ff30a",
   "metadata": {},
   "outputs": [],
   "source": [
    "ckpt = ModelCheckpoint(r\"E:\\kareem\\book 4.2\\Graduation Project\\intel\\intel_model.h5\", \n",
    "                       monitor='val_loss', verbose=1, save_best_only=True,mode='min')\n",
    "\n",
    "reduce_lr = ReduceLROnPlateau(monitor='val_loss', factor=0.02,\n",
    "                              patience=2, min_lr=1e-6, verbose=1)\n",
    "\n",
    "es = EarlyStopping(monitor='val_loss', patience=3, verbose=1)"
   ]
  },
  {
   "cell_type": "code",
   "execution_count": 10,
   "id": "462c4d00",
   "metadata": {},
   "outputs": [],
   "source": [
    "# Create the testing data set\n",
    "# Create a new array containing scaled values from index 1543 to 2002 \n",
    "test_data = scaled_data[training_data_len - 60: , :]\n",
    "# Create the data sets x_test and y_test\n",
    "x_test = []\n",
    "y_test = dataset[training_data_len:, :]\n",
    "for i in range(60, len(test_data)):\n",
    "    x_test.append(test_data[i-60:i, 0])\n",
    "    \n",
    "# Convert the data to a numpy array\n",
    "x_test = np.array(x_test)\n",
    "\n",
    "# Reshape the data\n",
    "x_test = np.reshape(x_test, (x_test.shape[0], x_test.shape[1], 1 ))"
   ]
  },
  {
   "cell_type": "code",
   "execution_count": 11,
   "id": "640547c4",
   "metadata": {},
   "outputs": [
    {
     "name": "stdout",
     "output_type": "stream",
     "text": [
      "Epoch 1/100\n",
      "65/65 [==============================] - ETA: 0s - loss: 0.0089\n",
      "Epoch 1: val_loss improved from inf to 0.00280, saving model to E:\\kareem\\book 4.2\\Graduation Project\\intel\\intel_model.h5\n",
      "65/65 [==============================] - 25s 300ms/step - loss: 0.0089 - val_loss: 0.0028 - lr: 0.0010\n",
      "Epoch 2/100\n",
      "65/65 [==============================] - ETA: 0s - loss: 0.0016\n",
      "Epoch 2: val_loss improved from 0.00280 to 0.00271, saving model to E:\\kareem\\book 4.2\\Graduation Project\\intel\\intel_model.h5\n",
      "65/65 [==============================] - 18s 278ms/step - loss: 0.0016 - val_loss: 0.0027 - lr: 0.0010\n",
      "Epoch 3/100\n",
      "65/65 [==============================] - ETA: 0s - loss: 0.0014\n",
      "Epoch 3: val_loss improved from 0.00271 to 0.00248, saving model to E:\\kareem\\book 4.2\\Graduation Project\\intel\\intel_model.h5\n",
      "65/65 [==============================] - 19s 295ms/step - loss: 0.0014 - val_loss: 0.0025 - lr: 0.0010\n",
      "Epoch 4/100\n",
      "65/65 [==============================] - ETA: 0s - loss: 0.0012\n",
      "Epoch 4: val_loss did not improve from 0.00248\n",
      "65/65 [==============================] - 19s 291ms/step - loss: 0.0012 - val_loss: 0.0037 - lr: 0.0010\n",
      "Epoch 5/100\n",
      "65/65 [==============================] - ETA: 0s - loss: 0.0011\n",
      "Epoch 5: val_loss did not improve from 0.00248\n",
      "\n",
      "Epoch 5: ReduceLROnPlateau reducing learning rate to 2.0000000949949027e-05.\n",
      "65/65 [==============================] - 20s 301ms/step - loss: 0.0011 - val_loss: 0.0026 - lr: 0.0010\n",
      "Epoch 6/100\n",
      "65/65 [==============================] - ETA: 0s - loss: 9.2500e-04\n",
      "Epoch 6: val_loss improved from 0.00248 to 0.00179, saving model to E:\\kareem\\book 4.2\\Graduation Project\\intel\\intel_model.h5\n",
      "65/65 [==============================] - 19s 295ms/step - loss: 9.2500e-04 - val_loss: 0.0018 - lr: 2.0000e-05\n",
      "Epoch 7/100\n",
      "65/65 [==============================] - ETA: 0s - loss: 8.7587e-04\n",
      "Epoch 7: val_loss did not improve from 0.00179\n",
      "65/65 [==============================] - 21s 324ms/step - loss: 8.7587e-04 - val_loss: 0.0018 - lr: 2.0000e-05\n",
      "Epoch 8/100\n",
      "65/65 [==============================] - ETA: 0s - loss: 8.6529e-04\n",
      "Epoch 8: val_loss did not improve from 0.00179\n",
      "\n",
      "Epoch 8: ReduceLROnPlateau reducing learning rate to 1e-06.\n",
      "65/65 [==============================] - 20s 315ms/step - loss: 8.6529e-04 - val_loss: 0.0018 - lr: 2.0000e-05\n",
      "Epoch 9/100\n",
      "65/65 [==============================] - ETA: 0s - loss: 8.8122e-04\n",
      "Epoch 9: val_loss did not improve from 0.00179\n",
      "65/65 [==============================] - 21s 322ms/step - loss: 8.8122e-04 - val_loss: 0.0018 - lr: 1.0000e-06\n",
      "Epoch 9: early stopping\n"
     ]
    }
   ],
   "source": [
    "# Compile the model\n",
    "model.compile(optimizer='adam', loss='mean_squared_error')\n",
    "\n",
    "# Train the model\n",
    "history = model.fit(x_train, y_train, epochs=100, verbose=1, \n",
    "                    batch_size=32, validation_split=0.2, \n",
    "                    callbacks=[ckpt, reduce_lr, es])"
   ]
  },
  {
   "cell_type": "code",
   "execution_count": 12,
   "id": "5fee150a",
   "metadata": {},
   "outputs": [
    {
     "data": {
      "text/html": [
       "<div>\n",
       "<style scoped>\n",
       "    .dataframe tbody tr th:only-of-type {\n",
       "        vertical-align: middle;\n",
       "    }\n",
       "\n",
       "    .dataframe tbody tr th {\n",
       "        vertical-align: top;\n",
       "    }\n",
       "\n",
       "    .dataframe thead th {\n",
       "        text-align: right;\n",
       "    }\n",
       "</style>\n",
       "<table border=\"1\" class=\"dataframe\">\n",
       "  <thead>\n",
       "    <tr style=\"text-align: right;\">\n",
       "      <th></th>\n",
       "      <th>loss</th>\n",
       "      <th>val_loss</th>\n",
       "      <th>lr</th>\n",
       "    </tr>\n",
       "  </thead>\n",
       "  <tbody>\n",
       "    <tr>\n",
       "      <th>0</th>\n",
       "      <td>0.008880</td>\n",
       "      <td>0.002796</td>\n",
       "      <td>0.001000</td>\n",
       "    </tr>\n",
       "    <tr>\n",
       "      <th>1</th>\n",
       "      <td>0.001594</td>\n",
       "      <td>0.002706</td>\n",
       "      <td>0.001000</td>\n",
       "    </tr>\n",
       "    <tr>\n",
       "      <th>2</th>\n",
       "      <td>0.001424</td>\n",
       "      <td>0.002480</td>\n",
       "      <td>0.001000</td>\n",
       "    </tr>\n",
       "    <tr>\n",
       "      <th>3</th>\n",
       "      <td>0.001231</td>\n",
       "      <td>0.003722</td>\n",
       "      <td>0.001000</td>\n",
       "    </tr>\n",
       "    <tr>\n",
       "      <th>4</th>\n",
       "      <td>0.001091</td>\n",
       "      <td>0.002614</td>\n",
       "      <td>0.001000</td>\n",
       "    </tr>\n",
       "    <tr>\n",
       "      <th>5</th>\n",
       "      <td>0.000925</td>\n",
       "      <td>0.001791</td>\n",
       "      <td>0.000020</td>\n",
       "    </tr>\n",
       "    <tr>\n",
       "      <th>6</th>\n",
       "      <td>0.000876</td>\n",
       "      <td>0.001804</td>\n",
       "      <td>0.000020</td>\n",
       "    </tr>\n",
       "    <tr>\n",
       "      <th>7</th>\n",
       "      <td>0.000865</td>\n",
       "      <td>0.001807</td>\n",
       "      <td>0.000020</td>\n",
       "    </tr>\n",
       "    <tr>\n",
       "      <th>8</th>\n",
       "      <td>0.000881</td>\n",
       "      <td>0.001803</td>\n",
       "      <td>0.000001</td>\n",
       "    </tr>\n",
       "  </tbody>\n",
       "</table>\n",
       "</div>"
      ],
      "text/plain": [
       "       loss  val_loss        lr\n",
       "0  0.008880  0.002796  0.001000\n",
       "1  0.001594  0.002706  0.001000\n",
       "2  0.001424  0.002480  0.001000\n",
       "3  0.001231  0.003722  0.001000\n",
       "4  0.001091  0.002614  0.001000\n",
       "5  0.000925  0.001791  0.000020\n",
       "6  0.000876  0.001804  0.000020\n",
       "7  0.000865  0.001807  0.000020\n",
       "8  0.000881  0.001803  0.000001"
      ]
     },
     "execution_count": 12,
     "metadata": {},
     "output_type": "execute_result"
    }
   ],
   "source": [
    "history_df = pd.DataFrame(history.history)\n",
    "history_df"
   ]
  },
  {
   "cell_type": "code",
   "execution_count": 13,
   "id": "b09663a5",
   "metadata": {},
   "outputs": [
    {
     "data": {
      "text/html": [
       "<div>\n",
       "<style scoped>\n",
       "    .dataframe tbody tr th:only-of-type {\n",
       "        vertical-align: middle;\n",
       "    }\n",
       "\n",
       "    .dataframe tbody tr th {\n",
       "        vertical-align: top;\n",
       "    }\n",
       "\n",
       "    .dataframe thead th {\n",
       "        text-align: right;\n",
       "    }\n",
       "</style>\n",
       "<table border=\"1\" class=\"dataframe\">\n",
       "  <thead>\n",
       "    <tr style=\"text-align: right;\">\n",
       "      <th></th>\n",
       "      <th>val_loss</th>\n",
       "    </tr>\n",
       "  </thead>\n",
       "  <tbody>\n",
       "    <tr>\n",
       "      <th>0</th>\n",
       "      <td>0.002796</td>\n",
       "    </tr>\n",
       "    <tr>\n",
       "      <th>1</th>\n",
       "      <td>0.002706</td>\n",
       "    </tr>\n",
       "    <tr>\n",
       "      <th>2</th>\n",
       "      <td>0.002480</td>\n",
       "    </tr>\n",
       "    <tr>\n",
       "      <th>3</th>\n",
       "      <td>0.003722</td>\n",
       "    </tr>\n",
       "    <tr>\n",
       "      <th>4</th>\n",
       "      <td>0.002614</td>\n",
       "    </tr>\n",
       "    <tr>\n",
       "      <th>5</th>\n",
       "      <td>0.001791</td>\n",
       "    </tr>\n",
       "    <tr>\n",
       "      <th>6</th>\n",
       "      <td>0.001804</td>\n",
       "    </tr>\n",
       "    <tr>\n",
       "      <th>7</th>\n",
       "      <td>0.001807</td>\n",
       "    </tr>\n",
       "    <tr>\n",
       "      <th>8</th>\n",
       "      <td>0.001803</td>\n",
       "    </tr>\n",
       "  </tbody>\n",
       "</table>\n",
       "</div>"
      ],
      "text/plain": [
       "   val_loss\n",
       "0  0.002796\n",
       "1  0.002706\n",
       "2  0.002480\n",
       "3  0.003722\n",
       "4  0.002614\n",
       "5  0.001791\n",
       "6  0.001804\n",
       "7  0.001807\n",
       "8  0.001803"
      ]
     },
     "execution_count": 13,
     "metadata": {},
     "output_type": "execute_result"
    }
   ],
   "source": [
    "history_df.loc[:, ['val_loss']]"
   ]
  },
  {
   "cell_type": "code",
   "execution_count": 14,
   "id": "f3a464c0",
   "metadata": {},
   "outputs": [
    {
     "data": {
      "image/png": "[encoded data removed]",
      "text/plain": [
       "<Figure size 640x480 with 1 Axes>"
      ]
     },
     "metadata": {},
     "output_type": "display_data"
    }
   ],
   "source": [
    "history_df = pd.DataFrame(history.history)\n",
    "\n",
    "plt.plot(history_df.loc[:, ['loss']], \"#6daa9f\", label='Training loss')\n",
    "plt.plot(history_df.loc[:, ['val_loss']], \"#000\", label='Tessing loss')\n",
    "plt.title('Training and Validation loss')\n",
    "plt.xlabel('Epochs')\n",
    "plt.ylabel('Loss')\n",
    "plt.legend(loc=\"best\")\n",
    "\n",
    "plt.show()"
   ]
  },
  {
   "cell_type": "code",
   "execution_count": 15,
   "id": "98260576",
   "metadata": {},
   "outputs": [
    {
     "name": "stdout",
     "output_type": "stream",
     "text": [
      "5/5 [==============================] - 2s 73ms/step\n"
     ]
    },
    {
     "data": {
      "text/plain": [
       "1.393639546154136"
      ]
     },
     "execution_count": 15,
     "metadata": {},
     "output_type": "execute_result"
    }
   ],
   "source": [
    "# Create the testing data set\n",
    "# Create a new array containing scaled values from index 1543 to 2002 \n",
    "\n",
    "test_data = scaled_data[training_data_len - 60: , :]\n",
    "\n",
    "# Create the data sets x_test and y_test\n",
    "x_test = []\n",
    "y_test = dataset[training_data_len:, :]\n",
    "\n",
    "for i in range(60, len(test_data)):\n",
    "    x_test.append(test_data[i-60:i, 0])\n",
    "    \n",
    "# Convert the data to a numpy array\n",
    "x_test = np.array(x_test)\n",
    "\n",
    "# Reshape the data\n",
    "x_test = np.reshape(x_test, (x_test.shape[0], x_test.shape[1], 1 ))\n",
    "\n",
    "# Get the models predicted price values \n",
    "predictions = model.predict(x_test)\n",
    "predictions = scaler.inverse_transform(predictions)\n",
    "\n",
    "# Get the root mean squared error (RMSE)\n",
    "rmse = np.sqrt(np.mean(((predictions - y_test) ** 2)))\n",
    "rmse"
   ]
  },
  {
   "cell_type": "code",
   "execution_count": 16,
   "id": "33cb5994",
   "metadata": {
    "scrolled": false
   },
   "outputs": [
    {
     "name": "stderr",
     "output_type": "stream",
     "text": [
      "C:\\Users\\HP\\AppData\\Local\\Temp\\ipykernel_12636\\2388977846.py:4: SettingWithCopyWarning: \n",
      "A value is trying to be set on a copy of a slice from a DataFrame.\n",
      "Try using .loc[row_indexer,col_indexer] = value instead\n",
      "\n",
      "See the caveats in the documentation: https://pandas.pydata.org/pandas-docs/stable/user_guide/indexing.html#returning-a-view-versus-a-copy\n",
      "  valid['Predictions'] = predictions\n"
     ]
    },
    {
     "data": {
      "image/png": "[encoded data removed]",
      "text/plain": [
       "<Figure size 1600x600 with 1 Axes>"
      ]
     },
     "metadata": {},
     "output_type": "display_data"
    }
   ],
   "source": [
    "# Plot the data\n",
    "train = data[:training_data_len]\n",
    "valid = data[training_data_len:]\n",
    "valid['Predictions'] = predictions\n",
    "# Visualize the data\n",
    "plt.figure(figsize=(16,6))\n",
    "plt.title('Model')\n",
    "plt.xlabel('Date', fontsize=18)\n",
    "plt.ylabel('Close Price USD ($)', fontsize=18)\n",
    "plt.plot(train['Close'])\n",
    "plt.plot(valid[['Close', 'Predictions']])\n",
    "plt.legend(['Train', 'Val', 'Predictions'], loc='lower right')\n",
    "plt.show()"
   ]
  },
  {
   "cell_type": "code",
   "execution_count": 17,
   "id": "ba4ff1e7",
   "metadata": {},
   "outputs": [
    {
     "data": {
      "text/plain": [
       "['E:\\\\kareem\\\\book 4.2\\\\Graduation Project\\\\intel\\\\intel_validdata.h5']"
      ]
     },
     "execution_count": 17,
     "metadata": {},
     "output_type": "execute_result"
    }
   ],
   "source": [
    "joblib.dump(train, r\"E:\\kareem\\book 4.2\\Graduation Project\\intel\\intel_traindata.h5\")\n",
    "joblib.dump(valid, r\"E:\\kareem\\book 4.2\\Graduation Project\\intel\\intel_validdata.h5\")"
   ]
  },
  {
   "cell_type": "code",
   "execution_count": 18,
   "id": "377fc37c",
   "metadata": {},
   "outputs": [],
   "source": [
    "model.save(r\"E:\\kareem\\book 4.2\\Graduation Project\\intel\\intel_model.h5\")"
   ]
  },
  {
   "cell_type": "code",
   "execution_count": 19,
   "id": "cfc60a2e",
   "metadata": {},
   "outputs": [],
   "source": [
    "model = load_model(r\"E:\\kareem\\book 4.2\\Graduation Project\\intel\\intel_model.h5\")"
   ]
  },
  {
   "cell_type": "code",
   "execution_count": 20,
   "id": "60541329",
   "metadata": {},
   "outputs": [],
   "source": [
    "def predict(n):\n",
    "    \n",
    "    if (n <= 7) & (n >= 1):\n",
    "    \n",
    "        num = 1\n",
    "        last = []\n",
    "\n",
    "        last_60_value = intel_df[\"Close\"].iloc[-60:]\n",
    "\n",
    "        for i in last_60_value:\n",
    "            last.append(i)\n",
    "\n",
    "\n",
    "        for i in range(n):\n",
    "            np_list = np.reshape(last[-60:], (-1, 1))\n",
    "            last_csl = scaler.transform(np_list)\n",
    "            last_csl = np.reshape(last_csl, (1, 60, 1))\n",
    "\n",
    "            pred = model.predict(last_csl)\n",
    "            prediction = float(scaler.inverse_transform(pred)[0][0])\n",
    "\n",
    "            last.append(prediction)\n",
    "            print(f\"The prediction number {num} is : {prediction}\")\n",
    "            num = num + 1\n",
    "\n",
    "        return last[60:]\n",
    "    \n",
    "    return \"Sorry you must inter mostly seven days or 'week' or less\""
   ]
  },
  {
   "cell_type": "code",
   "execution_count": 21,
   "id": "82dc5476",
   "metadata": {
    "scrolled": true
   },
   "outputs": [
    {
     "name": "stdout",
     "output_type": "stream",
     "text": [
      "1/1 [==============================] - 1s 1s/step\n",
      "The prediction number 1 is : 29.823322296142578\n",
      "1/1 [==============================] - 0s 35ms/step\n",
      "The prediction number 2 is : 29.640535354614258\n",
      "1/1 [==============================] - 0s 34ms/step\n",
      "The prediction number 3 is : 29.517332077026367\n",
      "1/1 [==============================] - 0s 37ms/step\n",
      "The prediction number 4 is : 29.450754165649414\n",
      "1/1 [==============================] - 0s 38ms/step\n",
      "The prediction number 5 is : 29.42940902709961\n",
      "1/1 [==============================] - 0s 38ms/step\n",
      "The prediction number 6 is : 29.43955421447754\n",
      "1/1 [==============================] - 0s 40ms/step\n",
      "The prediction number 7 is : 29.46870994567871\n"
     ]
    },
    {
     "data": {
      "text/plain": [
       "[29.823322296142578,\n",
       " 29.640535354614258,\n",
       " 29.517332077026367,\n",
       " 29.450754165649414,\n",
       " 29.42940902709961,\n",
       " 29.43955421447754,\n",
       " 29.46870994567871]"
      ]
     },
     "execution_count": 21,
     "metadata": {},
     "output_type": "execute_result"
    }
   ],
   "source": [
    "predict(7)"
   ]
  },
  {
   "cell_type": "code",
   "execution_count": null,
   "id": "8445f22c",
   "metadata": {},
   "outputs": [],
   "source": []
  }
 ],
 "metadata": {
  "kernelspec": {
   "display_name": "Python 3 (ipykernel)",
   "language": "python",
   "name": "python3"
  },
  "language_info": {
   "codemirror_mode": {
    "name": "ipython",
    "version": 3
   },
   "file_extension": ".py",
   "mimetype": "text/x-python",
   "name": "python",
   "nbconvert_exporter": "python",
   "pygments_lexer": "ipython3",
   "version": "3.10.9"
  }
 },
 "nbformat": 4,
 "nbformat_minor": 5
}
