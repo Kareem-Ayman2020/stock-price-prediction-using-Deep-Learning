{
 "cells": [
  {
   "cell_type": "code",
   "execution_count": 1,
   "id": "e5ca1955",
   "metadata": {},
   "outputs": [],
   "source": [
    "import pandas as pd\n",
    "import numpy as np\n",
    "import matplotlib.pyplot as plt\n",
    "import seaborn as sns\n",
    "from plotly import express as px\n",
    "from sklearn.preprocessing import StandardScaler\n",
    "from sklearn.metrics import mean_squared_error\n",
    "from tensorflow.keras.models import Sequential, load_model\n",
    "from datetime import datetime\n",
    "from pandas_datareader import data as pdr\n",
    "import yfinance as yf\n",
    "from tensorflow.keras.layers import Dense, LSTM, Dropout, BatchNormalization\n",
    "import joblib\n",
    "from sklearn.preprocessing import MinMaxScaler\n",
    "from sklearn.preprocessing import MinMaxScaler\n",
    "from tensorflow.keras.layers import Dense, Dropout, LSTM\n",
    "from tensorflow.keras.callbacks import EarlyStopping, ReduceLROnPlateau, ModelCheckpoint\n",
    "\n",
    "\n",
    "plt.style.use('fivethirtyeight')\n",
    "%matplotlib inline\n",
    "\n",
    "yf.pdr_override()"
   ]
  },
  {
   "cell_type": "code",
   "execution_count": 2,
   "id": "39dee3d7",
   "metadata": {},
   "outputs": [
    {
     "name": "stdout",
     "output_type": "stream",
     "text": [
      "[*********************100%***********************]  1 of 1 completed\n"
     ]
    }
   ],
   "source": [
    "yf.pdr_override()\n",
    "\n",
    "############################################\n",
    "end = datetime.now()\n",
    "start = datetime(end.year - 11, end.month, end.day)\n",
    "\n",
    "#############################################################################\n",
    "apple_df = yf.download(\"AAPL\", start, end)\n"
   ]
  },
  {
   "cell_type": "code",
   "execution_count": 3,
   "id": "3dcf4cb3",
   "metadata": {},
   "outputs": [
    {
     "data": {
      "text/html": [
       "<div>\n",
       "<style scoped>\n",
       "    .dataframe tbody tr th:only-of-type {\n",
       "        vertical-align: middle;\n",
       "    }\n",
       "\n",
       "    .dataframe tbody tr th {\n",
       "        vertical-align: top;\n",
       "    }\n",
       "\n",
       "    .dataframe thead th {\n",
       "        text-align: right;\n",
       "    }\n",
       "</style>\n",
       "<table border=\"1\" class=\"dataframe\">\n",
       "  <thead>\n",
       "    <tr style=\"text-align: right;\">\n",
       "      <th></th>\n",
       "      <th>Open</th>\n",
       "      <th>High</th>\n",
       "      <th>Low</th>\n",
       "      <th>Close</th>\n",
       "      <th>Adj Close</th>\n",
       "      <th>Volume</th>\n",
       "    </tr>\n",
       "    <tr>\n",
       "      <th>Date</th>\n",
       "      <th></th>\n",
       "      <th></th>\n",
       "      <th></th>\n",
       "      <th></th>\n",
       "      <th></th>\n",
       "      <th></th>\n",
       "    </tr>\n",
       "  </thead>\n",
       "  <tbody>\n",
       "    <tr>\n",
       "      <th>2012-05-18</th>\n",
       "      <td>19.070000</td>\n",
       "      <td>19.407499</td>\n",
       "      <td>18.649286</td>\n",
       "      <td>18.942142</td>\n",
       "      <td>16.099735</td>\n",
       "      <td>732292400</td>\n",
       "    </tr>\n",
       "    <tr>\n",
       "      <th>2012-05-21</th>\n",
       "      <td>19.089287</td>\n",
       "      <td>20.055000</td>\n",
       "      <td>19.073214</td>\n",
       "      <td>20.045713</td>\n",
       "      <td>17.037706</td>\n",
       "      <td>631106000</td>\n",
       "    </tr>\n",
       "    <tr>\n",
       "      <th>2012-05-22</th>\n",
       "      <td>20.341070</td>\n",
       "      <td>20.495714</td>\n",
       "      <td>19.735001</td>\n",
       "      <td>19.891787</td>\n",
       "      <td>16.906878</td>\n",
       "      <td>694870400</td>\n",
       "    </tr>\n",
       "    <tr>\n",
       "      <th>2012-05-23</th>\n",
       "      <td>19.910713</td>\n",
       "      <td>20.457144</td>\n",
       "      <td>19.758215</td>\n",
       "      <td>20.377144</td>\n",
       "      <td>17.319405</td>\n",
       "      <td>584897600</td>\n",
       "    </tr>\n",
       "    <tr>\n",
       "      <th>2012-05-24</th>\n",
       "      <td>20.566786</td>\n",
       "      <td>20.589287</td>\n",
       "      <td>20.043928</td>\n",
       "      <td>20.190001</td>\n",
       "      <td>17.160343</td>\n",
       "      <td>496230000</td>\n",
       "    </tr>\n",
       "    <tr>\n",
       "      <th>...</th>\n",
       "      <td>...</td>\n",
       "      <td>...</td>\n",
       "      <td>...</td>\n",
       "      <td>...</td>\n",
       "      <td>...</td>\n",
       "      <td>...</td>\n",
       "    </tr>\n",
       "    <tr>\n",
       "      <th>2023-05-11</th>\n",
       "      <td>173.850006</td>\n",
       "      <td>174.589996</td>\n",
       "      <td>172.169998</td>\n",
       "      <td>173.750000</td>\n",
       "      <td>173.510010</td>\n",
       "      <td>49514700</td>\n",
       "    </tr>\n",
       "    <tr>\n",
       "      <th>2023-05-12</th>\n",
       "      <td>173.619995</td>\n",
       "      <td>174.059998</td>\n",
       "      <td>171.000000</td>\n",
       "      <td>172.570007</td>\n",
       "      <td>172.570007</td>\n",
       "      <td>45497800</td>\n",
       "    </tr>\n",
       "    <tr>\n",
       "      <th>2023-05-15</th>\n",
       "      <td>173.160004</td>\n",
       "      <td>173.210007</td>\n",
       "      <td>171.470001</td>\n",
       "      <td>172.070007</td>\n",
       "      <td>172.070007</td>\n",
       "      <td>37266700</td>\n",
       "    </tr>\n",
       "    <tr>\n",
       "      <th>2023-05-16</th>\n",
       "      <td>171.990005</td>\n",
       "      <td>173.139999</td>\n",
       "      <td>171.800003</td>\n",
       "      <td>172.070007</td>\n",
       "      <td>172.070007</td>\n",
       "      <td>42110300</td>\n",
       "    </tr>\n",
       "    <tr>\n",
       "      <th>2023-05-17</th>\n",
       "      <td>171.710007</td>\n",
       "      <td>172.929993</td>\n",
       "      <td>170.419998</td>\n",
       "      <td>172.690002</td>\n",
       "      <td>172.690002</td>\n",
       "      <td>57913300</td>\n",
       "    </tr>\n",
       "  </tbody>\n",
       "</table>\n",
       "<p>2767 rows × 6 columns</p>\n",
       "</div>"
      ],
      "text/plain": [
       "                  Open        High         Low       Close   Adj Close  \\\n",
       "Date                                                                     \n",
       "2012-05-18   19.070000   19.407499   18.649286   18.942142   16.099735   \n",
       "2012-05-21   19.089287   20.055000   19.073214   20.045713   17.037706   \n",
       "2012-05-22   20.341070   20.495714   19.735001   19.891787   16.906878   \n",
       "2012-05-23   19.910713   20.457144   19.758215   20.377144   17.319405   \n",
       "2012-05-24   20.566786   20.589287   20.043928   20.190001   17.160343   \n",
       "...                ...         ...         ...         ...         ...   \n",
       "2023-05-11  173.850006  174.589996  172.169998  173.750000  173.510010   \n",
       "2023-05-12  173.619995  174.059998  171.000000  172.570007  172.570007   \n",
       "2023-05-15  173.160004  173.210007  171.470001  172.070007  172.070007   \n",
       "2023-05-16  171.990005  173.139999  171.800003  172.070007  172.070007   \n",
       "2023-05-17  171.710007  172.929993  170.419998  172.690002  172.690002   \n",
       "\n",
       "               Volume  \n",
       "Date                   \n",
       "2012-05-18  732292400  \n",
       "2012-05-21  631106000  \n",
       "2012-05-22  694870400  \n",
       "2012-05-23  584897600  \n",
       "2012-05-24  496230000  \n",
       "...               ...  \n",
       "2023-05-11   49514700  \n",
       "2023-05-12   45497800  \n",
       "2023-05-15   37266700  \n",
       "2023-05-16   42110300  \n",
       "2023-05-17   57913300  \n",
       "\n",
       "[2767 rows x 6 columns]"
      ]
     },
     "execution_count": 3,
     "metadata": {},
     "output_type": "execute_result"
    }
   ],
   "source": [
    "apple_df"
   ]
  },
  {
   "cell_type": "code",
   "execution_count": 4,
   "id": "8b4ba239",
   "metadata": {},
   "outputs": [
    {
     "data": {
      "text/plain": [
       "2629"
      ]
     },
     "execution_count": 4,
     "metadata": {},
     "output_type": "execute_result"
    }
   ],
   "source": [
    "# Create a new dataframe with only the 'Close column \n",
    "data = apple_df.filter(['Close'])\n",
    "# Convert the dataframe to a numpy array\n",
    "dataset = data.values\n",
    "# Get the number of rows to train the model on\n",
    "training_data_len = int(np.ceil( len(dataset) * .95 ))\n",
    "train_data = dataset[:training_data_len]\n",
    "\n",
    "test_data = dataset[training_data_len:]\n",
    "\n",
    "training_data_len\n"
   ]
  },
  {
   "cell_type": "code",
   "execution_count": 8,
   "id": "a5de490d",
   "metadata": {},
   "outputs": [
    {
     "data": {
      "text/plain": [
       "array([[0.02971896],\n",
       "       [0.03628539],\n",
       "       [0.0353695 ],\n",
       "       ...,\n",
       "       [0.94085541],\n",
       "       [0.94085541],\n",
       "       [0.94454449]])"
      ]
     },
     "execution_count": 8,
     "metadata": {},
     "output_type": "execute_result"
    }
   ],
   "source": [
    "scaler = MinMaxScaler(feature_range=(0,1))\n",
    "scaler.fit(dataset)\n",
    "joblib.dump(scaler, r\"E:\\kareem\\book 4.2\\Graduation Project\\Apple\\apple_scaler.h5\")\n",
    "\n",
    "scaled_data = scaler.transform(dataset)\n",
    "\n",
    "\n",
    "scaled_data"
   ]
  },
  {
   "cell_type": "code",
   "execution_count": 9,
   "id": "d779381d",
   "metadata": {},
   "outputs": [
    {
     "name": "stdout",
     "output_type": "stream",
     "text": [
      "[array([0.02971896, 0.03628539, 0.0353695 , 0.03825746, 0.03714392,\n",
      "       0.03650002, 0.03862083, 0.04008713, 0.03978112, 0.03622376,\n",
      "       0.03692503, 0.03661477, 0.03844871, 0.03850396, 0.04033151,\n",
      "       0.03838709, 0.03944748, 0.03859746, 0.03846358, 0.0390161 ,\n",
      "       0.04149179, 0.04183818, 0.0414833 , 0.03976837, 0.04070977,\n",
      "       0.03830208, 0.03856984, 0.03909472, 0.03793656, 0.04111353,\n",
      "       0.04292408, 0.04438824, 0.04662594, 0.04576316, 0.04746533,\n",
      "       0.04625831, 0.04545503, 0.04427987, 0.04556978, 0.04598205,\n",
      "       0.04598843, 0.04584392, 0.04755672, 0.04542741, 0.04532753,\n",
      "       0.04470914, 0.0391946 , 0.03917548, 0.04136004, 0.04345748,\n",
      "       0.04680019, 0.04596079, 0.04616905, 0.04784998, 0.04930564,\n",
      "       0.04895713, 0.048734  , 0.04891887, 0.04912501, 0.05088881])]\n",
      "[0.05124793576495604]\n",
      "\n",
      "[array([0.02971896, 0.03628539, 0.0353695 , 0.03825746, 0.03714392,\n",
      "       0.03650002, 0.03862083, 0.04008713, 0.03978112, 0.03622376,\n",
      "       0.03692503, 0.03661477, 0.03844871, 0.03850396, 0.04033151,\n",
      "       0.03838709, 0.03944748, 0.03859746, 0.03846358, 0.0390161 ,\n",
      "       0.04149179, 0.04183818, 0.0414833 , 0.03976837, 0.04070977,\n",
      "       0.03830208, 0.03856984, 0.03909472, 0.03793656, 0.04111353,\n",
      "       0.04292408, 0.04438824, 0.04662594, 0.04576316, 0.04746533,\n",
      "       0.04625831, 0.04545503, 0.04427987, 0.04556978, 0.04598205,\n",
      "       0.04598843, 0.04584392, 0.04755672, 0.04542741, 0.04532753,\n",
      "       0.04470914, 0.0391946 , 0.03917548, 0.04136004, 0.04345748,\n",
      "       0.04680019, 0.04596079, 0.04616905, 0.04784998, 0.04930564,\n",
      "       0.04895713, 0.048734  , 0.04891887, 0.04912501, 0.05088881]), array([0.03628539, 0.0353695 , 0.03825746, 0.03714392, 0.03650002,\n",
      "       0.03862083, 0.04008713, 0.03978112, 0.03622376, 0.03692503,\n",
      "       0.03661477, 0.03844871, 0.03850396, 0.04033151, 0.03838709,\n",
      "       0.03944748, 0.03859746, 0.03846358, 0.0390161 , 0.04149179,\n",
      "       0.04183818, 0.0414833 , 0.03976837, 0.04070977, 0.03830208,\n",
      "       0.03856984, 0.03909472, 0.03793656, 0.04111353, 0.04292408,\n",
      "       0.04438824, 0.04662594, 0.04576316, 0.04746533, 0.04625831,\n",
      "       0.04545503, 0.04427987, 0.04556978, 0.04598205, 0.04598843,\n",
      "       0.04584392, 0.04755672, 0.04542741, 0.04532753, 0.04470914,\n",
      "       0.0391946 , 0.03917548, 0.04136004, 0.04345748, 0.04680019,\n",
      "       0.04596079, 0.04616905, 0.04784998, 0.04930564, 0.04895713,\n",
      "       0.048734  , 0.04891887, 0.04912501, 0.05088881, 0.05124794])]\n",
      "[0.05124793576495604, 0.05106518211033406]\n",
      "\n"
     ]
    },
    {
     "data": {
      "text/plain": [
       "(2569, 60, 1)"
      ]
     },
     "execution_count": 9,
     "metadata": {},
     "output_type": "execute_result"
    }
   ],
   "source": [
    "# Create the training data set \n",
    "# Create the scaled training data set\n",
    "train_data = scaled_data[0:int(training_data_len), :]\n",
    "# Split the data into x_train and y_train data sets\n",
    "x_train = []\n",
    "y_train = []\n",
    "\n",
    "for i in range(60, len(train_data)):\n",
    "    x_train.append(train_data[i-60:i, 0])\n",
    "    y_train.append(train_data[i, 0])\n",
    "    if i<= 61:\n",
    "        print(x_train)\n",
    "        print(y_train)\n",
    "        print()\n",
    "        \n",
    "# Convert the x_train and y_train to numpy arrays \n",
    "x_train, y_train = np.array(x_train), np.array(y_train)\n",
    "\n",
    "# Reshape the data\n",
    "x_train = np.reshape(x_train, (x_train.shape[0], x_train.shape[1], 1))\n",
    "x_train.shape"
   ]
  },
  {
   "cell_type": "code",
   "execution_count": 10,
   "id": "5023b17b",
   "metadata": {},
   "outputs": [],
   "source": [
    "model = Sequential()\n",
    "model.add(LSTM(256, return_sequences=True, input_shape= (x_train.shape[1], 1)))\n",
    "model.add(Dropout(0.2))\n",
    "\n",
    "model.add(LSTM(128, return_sequences=True, input_shape= (x_train.shape[1], 1)))\n",
    "BatchNormalization()\n",
    "\n",
    "model.add(LSTM(64, return_sequences=False))\n",
    "model.add(Dense(64))\n",
    "model.add(Dense(1))"
   ]
  },
  {
   "cell_type": "code",
   "execution_count": 11,
   "id": "af9ff30a",
   "metadata": {},
   "outputs": [],
   "source": [
    "ckpt = ModelCheckpoint(r\"E:\\kareem\\book 4.2\\Graduation Project\\Apple\\apple_model.h5\", \n",
    "                       monitor='val_loss', verbose=1, save_best_only=True,mode='min')\n",
    "\n",
    "reduce_lr = ReduceLROnPlateau(monitor='val_loss', factor=0.02,\n",
    "                              patience=2, min_lr=1e-6, verbose=1)\n",
    "\n",
    "es = EarlyStopping(monitor='val_loss', patience=3, verbose=1)"
   ]
  },
  {
   "cell_type": "code",
   "execution_count": 12,
   "id": "462c4d00",
   "metadata": {},
   "outputs": [],
   "source": [
    "# Create the testing data set\n",
    "# Create a new array containing scaled values from index 1543 to 2002 \n",
    "test_data = scaled_data[training_data_len - 60: , :]\n",
    "# Create the data sets x_test and y_test\n",
    "x_test = []\n",
    "y_test = dataset[training_data_len:, :]\n",
    "for i in range(60, len(test_data)):\n",
    "    x_test.append(test_data[i-60:i, 0])\n",
    "    \n",
    "# Convert the data to a numpy array\n",
    "x_test = np.array(x_test)\n",
    "\n",
    "# Reshape the data\n",
    "x_test = np.reshape(x_test, (x_test.shape[0], x_test.shape[1], 1 ))"
   ]
  },
  {
   "cell_type": "code",
   "execution_count": 13,
   "id": "640547c4",
   "metadata": {},
   "outputs": [
    {
     "name": "stdout",
     "output_type": "stream",
     "text": [
      "Epoch 1/100\n",
      "65/65 [==============================] - ETA: 0s - loss: 0.0015\n",
      "Epoch 1: val_loss improved from inf to 0.00249, saving model to E:\\kareem\\book 4.2\\Graduation Project\\Apple\\apple_model.h5\n",
      "65/65 [==============================] - 28s 330ms/step - loss: 0.0015 - val_loss: 0.0025 - lr: 0.0010\n",
      "Epoch 2/100\n",
      "65/65 [==============================] - ETA: 0s - loss: 2.4624e-04\n",
      "Epoch 2: val_loss improved from 0.00249 to 0.00228, saving model to E:\\kareem\\book 4.2\\Graduation Project\\Apple\\apple_model.h5\n",
      "65/65 [==============================] - 21s 318ms/step - loss: 2.4624e-04 - val_loss: 0.0023 - lr: 0.0010\n",
      "Epoch 3/100\n",
      "65/65 [==============================] - ETA: 0s - loss: 2.2909e-04\n",
      "Epoch 3: val_loss did not improve from 0.00228\n",
      "65/65 [==============================] - 21s 315ms/step - loss: 2.2909e-04 - val_loss: 0.0064 - lr: 0.0010\n",
      "Epoch 4/100\n",
      "65/65 [==============================] - ETA: 0s - loss: 2.2093e-04\n",
      "Epoch 4: val_loss did not improve from 0.00228\n",
      "\n",
      "Epoch 4: ReduceLROnPlateau reducing learning rate to 2.0000000949949027e-05.\n",
      "65/65 [==============================] - 21s 331ms/step - loss: 2.2093e-04 - val_loss: 0.0059 - lr: 0.0010\n",
      "Epoch 5/100\n",
      "65/65 [==============================] - ETA: 0s - loss: 1.6692e-04\n",
      "Epoch 5: val_loss improved from 0.00228 to 0.00110, saving model to E:\\kareem\\book 4.2\\Graduation Project\\Apple\\apple_model.h5\n",
      "65/65 [==============================] - 22s 337ms/step - loss: 1.6692e-04 - val_loss: 0.0011 - lr: 2.0000e-05\n",
      "Epoch 6/100\n",
      "65/65 [==============================] - ETA: 0s - loss: 1.4478e-04\n",
      "Epoch 6: val_loss did not improve from 0.00110\n",
      "65/65 [==============================] - 20s 313ms/step - loss: 1.4478e-04 - val_loss: 0.0011 - lr: 2.0000e-05\n",
      "Epoch 7/100\n",
      "65/65 [==============================] - ETA: 0s - loss: 1.4107e-04\n",
      "Epoch 7: val_loss did not improve from 0.00110\n",
      "\n",
      "Epoch 7: ReduceLROnPlateau reducing learning rate to 1e-06.\n",
      "65/65 [==============================] - 21s 320ms/step - loss: 1.4107e-04 - val_loss: 0.0012 - lr: 2.0000e-05\n",
      "Epoch 8/100\n",
      "65/65 [==============================] - ETA: 0s - loss: 1.3863e-04\n",
      "Epoch 8: val_loss did not improve from 0.00110\n",
      "65/65 [==============================] - 21s 320ms/step - loss: 1.3863e-04 - val_loss: 0.0011 - lr: 1.0000e-06\n",
      "Epoch 8: early stopping\n"
     ]
    }
   ],
   "source": [
    "# Compile the model\n",
    "model.compile(optimizer='adam', loss='mean_squared_error')\n",
    "\n",
    "# Train the model\n",
    "history = model.fit(x_train, y_train, epochs=100, verbose=1, \n",
    "                    batch_size=32, validation_split=0.2, \n",
    "                    callbacks=[ckpt, reduce_lr, es])"
   ]
  },
  {
   "cell_type": "code",
   "execution_count": 14,
   "id": "5fee150a",
   "metadata": {},
   "outputs": [
    {
     "data": {
      "text/html": [
       "<div>\n",
       "<style scoped>\n",
       "    .dataframe tbody tr th:only-of-type {\n",
       "        vertical-align: middle;\n",
       "    }\n",
       "\n",
       "    .dataframe tbody tr th {\n",
       "        vertical-align: top;\n",
       "    }\n",
       "\n",
       "    .dataframe thead th {\n",
       "        text-align: right;\n",
       "    }\n",
       "</style>\n",
       "<table border=\"1\" class=\"dataframe\">\n",
       "  <thead>\n",
       "    <tr style=\"text-align: right;\">\n",
       "      <th></th>\n",
       "      <th>loss</th>\n",
       "      <th>val_loss</th>\n",
       "      <th>lr</th>\n",
       "    </tr>\n",
       "  </thead>\n",
       "  <tbody>\n",
       "    <tr>\n",
       "      <th>0</th>\n",
       "      <td>0.001496</td>\n",
       "      <td>0.002495</td>\n",
       "      <td>0.001000</td>\n",
       "    </tr>\n",
       "    <tr>\n",
       "      <th>1</th>\n",
       "      <td>0.000246</td>\n",
       "      <td>0.002285</td>\n",
       "      <td>0.001000</td>\n",
       "    </tr>\n",
       "    <tr>\n",
       "      <th>2</th>\n",
       "      <td>0.000229</td>\n",
       "      <td>0.006421</td>\n",
       "      <td>0.001000</td>\n",
       "    </tr>\n",
       "    <tr>\n",
       "      <th>3</th>\n",
       "      <td>0.000221</td>\n",
       "      <td>0.005916</td>\n",
       "      <td>0.001000</td>\n",
       "    </tr>\n",
       "    <tr>\n",
       "      <th>4</th>\n",
       "      <td>0.000167</td>\n",
       "      <td>0.001095</td>\n",
       "      <td>0.000020</td>\n",
       "    </tr>\n",
       "    <tr>\n",
       "      <th>5</th>\n",
       "      <td>0.000145</td>\n",
       "      <td>0.001112</td>\n",
       "      <td>0.000020</td>\n",
       "    </tr>\n",
       "    <tr>\n",
       "      <th>6</th>\n",
       "      <td>0.000141</td>\n",
       "      <td>0.001155</td>\n",
       "      <td>0.000020</td>\n",
       "    </tr>\n",
       "    <tr>\n",
       "      <th>7</th>\n",
       "      <td>0.000139</td>\n",
       "      <td>0.001145</td>\n",
       "      <td>0.000001</td>\n",
       "    </tr>\n",
       "  </tbody>\n",
       "</table>\n",
       "</div>"
      ],
      "text/plain": [
       "       loss  val_loss        lr\n",
       "0  0.001496  0.002495  0.001000\n",
       "1  0.000246  0.002285  0.001000\n",
       "2  0.000229  0.006421  0.001000\n",
       "3  0.000221  0.005916  0.001000\n",
       "4  0.000167  0.001095  0.000020\n",
       "5  0.000145  0.001112  0.000020\n",
       "6  0.000141  0.001155  0.000020\n",
       "7  0.000139  0.001145  0.000001"
      ]
     },
     "execution_count": 14,
     "metadata": {},
     "output_type": "execute_result"
    }
   ],
   "source": [
    "history_df = pd.DataFrame(history.history)\n",
    "history_df"
   ]
  },
  {
   "cell_type": "code",
   "execution_count": 15,
   "id": "b09663a5",
   "metadata": {},
   "outputs": [
    {
     "data": {
      "text/html": [
       "<div>\n",
       "<style scoped>\n",
       "    .dataframe tbody tr th:only-of-type {\n",
       "        vertical-align: middle;\n",
       "    }\n",
       "\n",
       "    .dataframe tbody tr th {\n",
       "        vertical-align: top;\n",
       "    }\n",
       "\n",
       "    .dataframe thead th {\n",
       "        text-align: right;\n",
       "    }\n",
       "</style>\n",
       "<table border=\"1\" class=\"dataframe\">\n",
       "  <thead>\n",
       "    <tr style=\"text-align: right;\">\n",
       "      <th></th>\n",
       "      <th>val_loss</th>\n",
       "    </tr>\n",
       "  </thead>\n",
       "  <tbody>\n",
       "    <tr>\n",
       "      <th>0</th>\n",
       "      <td>0.002495</td>\n",
       "    </tr>\n",
       "    <tr>\n",
       "      <th>1</th>\n",
       "      <td>0.002285</td>\n",
       "    </tr>\n",
       "    <tr>\n",
       "      <th>2</th>\n",
       "      <td>0.006421</td>\n",
       "    </tr>\n",
       "    <tr>\n",
       "      <th>3</th>\n",
       "      <td>0.005916</td>\n",
       "    </tr>\n",
       "    <tr>\n",
       "      <th>4</th>\n",
       "      <td>0.001095</td>\n",
       "    </tr>\n",
       "    <tr>\n",
       "      <th>5</th>\n",
       "      <td>0.001112</td>\n",
       "    </tr>\n",
       "    <tr>\n",
       "      <th>6</th>\n",
       "      <td>0.001155</td>\n",
       "    </tr>\n",
       "    <tr>\n",
       "      <th>7</th>\n",
       "      <td>0.001145</td>\n",
       "    </tr>\n",
       "  </tbody>\n",
       "</table>\n",
       "</div>"
      ],
      "text/plain": [
       "   val_loss\n",
       "0  0.002495\n",
       "1  0.002285\n",
       "2  0.006421\n",
       "3  0.005916\n",
       "4  0.001095\n",
       "5  0.001112\n",
       "6  0.001155\n",
       "7  0.001145"
      ]
     },
     "execution_count": 15,
     "metadata": {},
     "output_type": "execute_result"
    }
   ],
   "source": [
    "history_df.loc[:, ['val_loss']]"
   ]
  },
  {
   "cell_type": "code",
   "execution_count": 16,
   "id": "f3a464c0",
   "metadata": {},
   "outputs": [
    {
     "data": {
      "image/png": "[encoded data removed]",
      "text/plain": [
       "<Figure size 640x480 with 1 Axes>"
      ]
     },
     "metadata": {},
     "output_type": "display_data"
    }
   ],
   "source": [
    "history_df = pd.DataFrame(history.history)\n",
    "\n",
    "plt.plot(history_df.loc[:, ['loss']], \"#6daa9f\", label='Training loss')\n",
    "plt.plot(history_df.loc[:, ['val_loss']], \"#000\", label='Tessing loss')\n",
    "plt.title('Training and Validation loss')\n",
    "plt.xlabel('Epochs')\n",
    "plt.ylabel('Loss')\n",
    "plt.legend(loc=\"best\")\n",
    "\n",
    "plt.show()"
   ]
  },
  {
   "cell_type": "code",
   "execution_count": 17,
   "id": "98260576",
   "metadata": {},
   "outputs": [
    {
     "name": "stdout",
     "output_type": "stream",
     "text": [
      "5/5 [==============================] - 2s 89ms/step\n"
     ]
    },
    {
     "data": {
      "text/plain": [
       "5.315528869982377"
      ]
     },
     "execution_count": 17,
     "metadata": {},
     "output_type": "execute_result"
    }
   ],
   "source": [
    "# Create the testing data set\n",
    "# Create a new array containing scaled values from index 1543 to 2002 \n",
    "\n",
    "test_data = scaled_data[training_data_len - 60: , :]\n",
    "\n",
    "# Create the data sets x_test and y_test\n",
    "x_test = []\n",
    "y_test = dataset[training_data_len:, :]\n",
    "\n",
    "for i in range(60, len(test_data)):\n",
    "    x_test.append(test_data[i-60:i, 0])\n",
    "    \n",
    "# Convert the data to a numpy array\n",
    "x_test = np.array(x_test)\n",
    "\n",
    "# Reshape the data\n",
    "x_test = np.reshape(x_test, (x_test.shape[0], x_test.shape[1], 1 ))\n",
    "\n",
    "# Get the models predicted price values \n",
    "predictions = model.predict(x_test)\n",
    "predictions = scaler.inverse_transform(predictions)\n",
    "\n",
    "# Get the root mean squared error (RMSE)\n",
    "rmse = np.sqrt(np.mean(((predictions - y_test) ** 2)))\n",
    "rmse"
   ]
  },
  {
   "cell_type": "code",
   "execution_count": 18,
   "id": "33cb5994",
   "metadata": {
    "scrolled": false
   },
   "outputs": [
    {
     "name": "stderr",
     "output_type": "stream",
     "text": [
      "C:\\Users\\HP\\AppData\\Local\\Temp\\ipykernel_12680\\2388977846.py:4: SettingWithCopyWarning: \n",
      "A value is trying to be set on a copy of a slice from a DataFrame.\n",
      "Try using .loc[row_indexer,col_indexer] = value instead\n",
      "\n",
      "See the caveats in the documentation: https://pandas.pydata.org/pandas-docs/stable/user_guide/indexing.html#returning-a-view-versus-a-copy\n",
      "  valid['Predictions'] = predictions\n"
     ]
    },
    {
     "data": {
      "image/png": "[encoded data removed]",
      "text/plain": [
       "<Figure size 1600x600 with 1 Axes>"
      ]
     },
     "metadata": {},
     "output_type": "display_data"
    }
   ],
   "source": [
    "# Plot the data\n",
    "train = data[:training_data_len]\n",
    "valid = data[training_data_len:]\n",
    "valid['Predictions'] = predictions\n",
    "# Visualize the data\n",
    "plt.figure(figsize=(16,6))\n",
    "plt.title('Model')\n",
    "plt.xlabel('Date', fontsize=18)\n",
    "plt.ylabel('Close Price USD ($)', fontsize=18)\n",
    "plt.plot(train['Close'])\n",
    "plt.plot(valid[['Close', 'Predictions']])\n",
    "plt.legend(['Train', 'Val', 'Predictions'], loc='lower right')\n",
    "plt.show()"
   ]
  },
  {
   "cell_type": "code",
   "execution_count": null,
   "id": "ba4ff1e7",
   "metadata": {},
   "outputs": [],
   "source": [
    "joblib.dump(train, r\"E:\\kareem\\book 4.2\\Graduation Project\\Apple\\apple_traindata.h5\")\n",
    "joblib.dump(valid, r\"E:\\kareem\\book 4.2\\Graduation Project\\Apple\\apple_validdata.h5\")"
   ]
  },
  {
   "cell_type": "code",
   "execution_count": 19,
   "id": "377fc37c",
   "metadata": {},
   "outputs": [],
   "source": [
    "model.save(r\"E:\\kareem\\book 4.2\\Graduation Project\\Apple\\apple_model.h5\")"
   ]
  },
  {
   "cell_type": "code",
   "execution_count": 20,
   "id": "cfc60a2e",
   "metadata": {},
   "outputs": [],
   "source": [
    "model = load_model(r\"E:\\kareem\\book 4.2\\Graduation Project\\Apple\\apple_model.h5\")"
   ]
  },
  {
   "cell_type": "code",
   "execution_count": 23,
   "id": "60541329",
   "metadata": {},
   "outputs": [],
   "source": [
    "def predict(n):\n",
    "    \n",
    "    if (n <= 7) & (n >= 1):\n",
    "    \n",
    "        num = 1\n",
    "        last = []\n",
    "\n",
    "        last_60_value = apple_df[\"Close\"].iloc[-60:]\n",
    "\n",
    "        for i in last_60_value:\n",
    "            last.append(i)\n",
    "\n",
    "\n",
    "        for i in range(n):\n",
    "            np_list = np.reshape(last[-60:], (-1, 1))\n",
    "            last_csl = scaler.transform(np_list)\n",
    "            last_csl = np.reshape(last_csl, (1, 60, 1))\n",
    "\n",
    "            pred = model.predict(last_csl)\n",
    "            prediction = float(scaler.inverse_transform(pred)[0][0])\n",
    "\n",
    "            last.append(prediction)\n",
    "            print(f\"The prediction number {num} is : {prediction}\")\n",
    "            num = num + 1\n",
    "\n",
    "        return last[60:]\n",
    "    \n",
    "    return \"Sorry you must inter mostly seven days or 'week' or less\""
   ]
  },
  {
   "cell_type": "code",
   "execution_count": 24,
   "id": "82dc5476",
   "metadata": {
    "scrolled": true
   },
   "outputs": [
    {
     "name": "stdout",
     "output_type": "stream",
     "text": [
      "1/1 [==============================] - 1s 1s/step\n",
      "The prediction number 1 is : 173.2563934326172\n",
      "1/1 [==============================] - 0s 50ms/step\n",
      "The prediction number 2 is : 173.5337677001953\n",
      "1/1 [==============================] - 0s 46ms/step\n",
      "The prediction number 3 is : 173.74864196777344\n",
      "1/1 [==============================] - 0s 44ms/step\n",
      "The prediction number 4 is : 173.9232940673828\n",
      "1/1 [==============================] - 0s 46ms/step\n",
      "The prediction number 5 is : 174.0748748779297\n",
      "1/1 [==============================] - 0s 41ms/step\n",
      "The prediction number 6 is : 174.21531677246094\n",
      "1/1 [==============================] - 0s 56ms/step\n",
      "The prediction number 7 is : 174.3520050048828\n"
     ]
    },
    {
     "data": {
      "text/plain": [
       "[173.2563934326172,\n",
       " 173.5337677001953,\n",
       " 173.74864196777344,\n",
       " 173.9232940673828,\n",
       " 174.0748748779297,\n",
       " 174.21531677246094,\n",
       " 174.3520050048828]"
      ]
     },
     "execution_count": 24,
     "metadata": {},
     "output_type": "execute_result"
    }
   ],
   "source": [
    "predict(7)"
   ]
  },
  {
   "cell_type": "code",
   "execution_count": null,
   "id": "8445f22c",
   "metadata": {},
   "outputs": [],
   "source": []
  }
 ],
 "metadata": {
  "kernelspec": {
   "display_name": "Python 3 (ipykernel)",
   "language": "python",
   "name": "python3"
  },
  "language_info": {
   "codemirror_mode": {
    "name": "ipython",
    "version": 3
   },
   "file_extension": ".py",
   "mimetype": "text/x-python",
   "name": "python",
   "nbconvert_exporter": "python",
   "pygments_lexer": "ipython3",
   "version": "3.10.9"
  }
 },
 "nbformat": 4,
 "nbformat_minor": 5
}
